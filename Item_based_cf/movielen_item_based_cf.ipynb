{
 "cells": [
  {
   "cell_type": "markdown",
   "id": "seven-shakespeare",
   "metadata": {},
   "source": [
    "## Collaborative Filtering Recommendation System with Item-based Model\n",
    "\n",
    "__Collaborative Filtering__ is widely used in building recommendation system. There are 2 main approaches in memory-based model, __item-based__ or __user-based__. In practice, we usually have data with more users than the number of items and only a small portion of items get frequent rating, and this situation is called the long tail effect. The long tail effect usually implies the high data sparsity, and sparse data will affect the accuracy of our model.\n",
    "\n",
    "In order to resolve the high sparsity issue, Item-based model often leads to faster online learning and better recommendation. In contrast, user-based model works better to detect users with special taste.\n",
    "\n",
    "In this example, we will build a recommendation system using the item-based model. The collaborative filtering method is to predict the rating of specific user on certain items based on the rating of co-rated users or items.\n",
    "\n"
   ]
  },
  {
   "cell_type": "markdown",
   "id": "portuguese-merit",
   "metadata": {},
   "source": [
    "### Dataset\n",
    "In this example, we will be using the movielens dataset (ml-100k).\n",
    "\n",
    "source: https://grouplens.org/datasets/movielens/\n",
    "\n",
    "\n"
   ]
  },
  {
   "cell_type": "markdown",
   "id": "announced-strain",
   "metadata": {},
   "source": [
    "### Item-based Collaborative Filtering\n",
    "\n",
    "Item-based collaborative filtering will use the rating of co-rated item to predict the rating on specific item.\n",
    "\n",
    "For example, we need to predict rating of user 2 on item 2.\n",
    "\n",
    "|        | user 1 | user 2 | user 3 | user 4 |\n",
    "|--------|--------|--------|--------|--------|\n",
    "| item 1 | 3      | 4      | nan    | nan    |\n",
    "| item 2 | 2      | ?      | 1      | nan    |\n",
    "| item 3 | nan    | nan    | 2      | 4      |\n",
    "| item 4 | 2      | 1      | 4      | nan    |\n",
    "\n",
    "1. Find the co-rated items of user 2, which is item 1 and item 4\n",
    "2. Calculate the similarity between item 2 and item 1, 4 - $\\omega_{2,1}$ and $\\omega_{2,4}$\n",
    "3. Calculate the prediction based on the similarity and co-rated rating, such that\n",
    "$$prediction_{u,i} = \\frac {\\sum_{n}\\omega_{i,n}*r_{u,n}}{\\sum_{n}\\left\\lvert {\\omega_{i,n}}\\right\\lvert}$$"
   ]
  },
  {
   "cell_type": "markdown",
   "id": "chemical-bible",
   "metadata": {},
   "source": [
    "#### Similarity\n",
    "\n",
    "There are a lot of methods to calculate the similarity between the items, such as __Jaccard similarity, Pearson correlation__...etc. \n",
    "\n",
    "In this example, we will use the __cosine similarity__. \n",
    "\n",
    "$$similarity = cos(\\theta) = \\frac {A \\dot B}{\\left\\lvert\\left\\lvert A \\right\\lvert\\right\\lvert\\left\\lvert\\left\\lvert B \\right\\lvert\\right\\lvert}$$"
   ]
  },
  {
   "cell_type": "code",
   "execution_count": 1,
   "id": "classified-dealing",
   "metadata": {},
   "outputs": [],
   "source": [
    "import pandas as pd\n",
    "import numpy as np\n",
    "from copy import deepcopy\n",
    "from scipy.spatial.distance import pdist, squareform\n",
    "import matplotlib.pyplot as plt\n"
   ]
  },
  {
   "cell_type": "code",
   "execution_count": 2,
   "id": "patient-outdoors",
   "metadata": {},
   "outputs": [
    {
     "data": {
      "text/html": [
       "<div>\n",
       "<style scoped>\n",
       "    .dataframe tbody tr th:only-of-type {\n",
       "        vertical-align: middle;\n",
       "    }\n",
       "\n",
       "    .dataframe tbody tr th {\n",
       "        vertical-align: top;\n",
       "    }\n",
       "\n",
       "    .dataframe thead th {\n",
       "        text-align: right;\n",
       "    }\n",
       "</style>\n",
       "<table border=\"1\" class=\"dataframe\">\n",
       "  <thead>\n",
       "    <tr style=\"text-align: right;\">\n",
       "      <th></th>\n",
       "      <th>userid</th>\n",
       "      <th>itemid</th>\n",
       "      <th>rating</th>\n",
       "      <th>timestamp</th>\n",
       "    </tr>\n",
       "  </thead>\n",
       "  <tbody>\n",
       "    <tr>\n",
       "      <th>0</th>\n",
       "      <td>1</td>\n",
       "      <td>1</td>\n",
       "      <td>5</td>\n",
       "      <td>874965758</td>\n",
       "    </tr>\n",
       "    <tr>\n",
       "      <th>1</th>\n",
       "      <td>1</td>\n",
       "      <td>2</td>\n",
       "      <td>3</td>\n",
       "      <td>876893171</td>\n",
       "    </tr>\n",
       "    <tr>\n",
       "      <th>2</th>\n",
       "      <td>1</td>\n",
       "      <td>3</td>\n",
       "      <td>4</td>\n",
       "      <td>878542960</td>\n",
       "    </tr>\n",
       "    <tr>\n",
       "      <th>3</th>\n",
       "      <td>1</td>\n",
       "      <td>4</td>\n",
       "      <td>3</td>\n",
       "      <td>876893119</td>\n",
       "    </tr>\n",
       "    <tr>\n",
       "      <th>4</th>\n",
       "      <td>1</td>\n",
       "      <td>5</td>\n",
       "      <td>3</td>\n",
       "      <td>889751712</td>\n",
       "    </tr>\n",
       "  </tbody>\n",
       "</table>\n",
       "</div>"
      ],
      "text/plain": [
       "   userid  itemid  rating  timestamp\n",
       "0       1       1       5  874965758\n",
       "1       1       2       3  876893171\n",
       "2       1       3       4  878542960\n",
       "3       1       4       3  876893119\n",
       "4       1       5       3  889751712"
      ]
     },
     "execution_count": 2,
     "metadata": {},
     "output_type": "execute_result"
    }
   ],
   "source": [
    "train_path = '../data/ml-100k/u1.base'\n",
    "test_path = '../data/ml-100k/u1.test'\n",
    "\n",
    "df = pd.read_csv(train_path, delimiter = '\\t', names = ['userid', 'itemid', 'rating', 'timestamp'])\n",
    "df.head()"
   ]
  },
  {
   "cell_type": "code",
   "execution_count": 3,
   "id": "favorite-connectivity",
   "metadata": {},
   "outputs": [
    {
     "data": {
      "text/html": [
       "<div>\n",
       "<style scoped>\n",
       "    .dataframe tbody tr th:only-of-type {\n",
       "        vertical-align: middle;\n",
       "    }\n",
       "\n",
       "    .dataframe tbody tr th {\n",
       "        vertical-align: top;\n",
       "    }\n",
       "\n",
       "    .dataframe thead th {\n",
       "        text-align: right;\n",
       "    }\n",
       "</style>\n",
       "<table border=\"1\" class=\"dataframe\">\n",
       "  <thead>\n",
       "    <tr style=\"text-align: right;\">\n",
       "      <th>userid</th>\n",
       "      <th>1</th>\n",
       "      <th>2</th>\n",
       "      <th>3</th>\n",
       "      <th>4</th>\n",
       "      <th>5</th>\n",
       "      <th>6</th>\n",
       "      <th>7</th>\n",
       "      <th>8</th>\n",
       "      <th>9</th>\n",
       "      <th>10</th>\n",
       "      <th>...</th>\n",
       "      <th>934</th>\n",
       "      <th>935</th>\n",
       "      <th>936</th>\n",
       "      <th>937</th>\n",
       "      <th>938</th>\n",
       "      <th>939</th>\n",
       "      <th>940</th>\n",
       "      <th>941</th>\n",
       "      <th>942</th>\n",
       "      <th>943</th>\n",
       "    </tr>\n",
       "    <tr>\n",
       "      <th>itemid</th>\n",
       "      <th></th>\n",
       "      <th></th>\n",
       "      <th></th>\n",
       "      <th></th>\n",
       "      <th></th>\n",
       "      <th></th>\n",
       "      <th></th>\n",
       "      <th></th>\n",
       "      <th></th>\n",
       "      <th></th>\n",
       "      <th></th>\n",
       "      <th></th>\n",
       "      <th></th>\n",
       "      <th></th>\n",
       "      <th></th>\n",
       "      <th></th>\n",
       "      <th></th>\n",
       "      <th></th>\n",
       "      <th></th>\n",
       "      <th></th>\n",
       "      <th></th>\n",
       "    </tr>\n",
       "  </thead>\n",
       "  <tbody>\n",
       "    <tr>\n",
       "      <th>1</th>\n",
       "      <td>5.0</td>\n",
       "      <td>4.0</td>\n",
       "      <td>0.0</td>\n",
       "      <td>0.0</td>\n",
       "      <td>0.0</td>\n",
       "      <td>4.0</td>\n",
       "      <td>0.0</td>\n",
       "      <td>0.0</td>\n",
       "      <td>0.0</td>\n",
       "      <td>0.0</td>\n",
       "      <td>...</td>\n",
       "      <td>2.0</td>\n",
       "      <td>3.0</td>\n",
       "      <td>4.0</td>\n",
       "      <td>0.0</td>\n",
       "      <td>4.0</td>\n",
       "      <td>0.0</td>\n",
       "      <td>0.0</td>\n",
       "      <td>5.0</td>\n",
       "      <td>0.0</td>\n",
       "      <td>0.0</td>\n",
       "    </tr>\n",
       "    <tr>\n",
       "      <th>2</th>\n",
       "      <td>3.0</td>\n",
       "      <td>0.0</td>\n",
       "      <td>0.0</td>\n",
       "      <td>0.0</td>\n",
       "      <td>0.0</td>\n",
       "      <td>0.0</td>\n",
       "      <td>0.0</td>\n",
       "      <td>0.0</td>\n",
       "      <td>0.0</td>\n",
       "      <td>0.0</td>\n",
       "      <td>...</td>\n",
       "      <td>4.0</td>\n",
       "      <td>0.0</td>\n",
       "      <td>0.0</td>\n",
       "      <td>0.0</td>\n",
       "      <td>0.0</td>\n",
       "      <td>0.0</td>\n",
       "      <td>0.0</td>\n",
       "      <td>0.0</td>\n",
       "      <td>0.0</td>\n",
       "      <td>5.0</td>\n",
       "    </tr>\n",
       "    <tr>\n",
       "      <th>3</th>\n",
       "      <td>4.0</td>\n",
       "      <td>0.0</td>\n",
       "      <td>0.0</td>\n",
       "      <td>0.0</td>\n",
       "      <td>0.0</td>\n",
       "      <td>0.0</td>\n",
       "      <td>0.0</td>\n",
       "      <td>0.0</td>\n",
       "      <td>0.0</td>\n",
       "      <td>0.0</td>\n",
       "      <td>...</td>\n",
       "      <td>0.0</td>\n",
       "      <td>0.0</td>\n",
       "      <td>4.0</td>\n",
       "      <td>0.0</td>\n",
       "      <td>0.0</td>\n",
       "      <td>0.0</td>\n",
       "      <td>0.0</td>\n",
       "      <td>0.0</td>\n",
       "      <td>0.0</td>\n",
       "      <td>0.0</td>\n",
       "    </tr>\n",
       "    <tr>\n",
       "      <th>4</th>\n",
       "      <td>3.0</td>\n",
       "      <td>0.0</td>\n",
       "      <td>0.0</td>\n",
       "      <td>0.0</td>\n",
       "      <td>0.0</td>\n",
       "      <td>0.0</td>\n",
       "      <td>5.0</td>\n",
       "      <td>0.0</td>\n",
       "      <td>0.0</td>\n",
       "      <td>0.0</td>\n",
       "      <td>...</td>\n",
       "      <td>5.0</td>\n",
       "      <td>0.0</td>\n",
       "      <td>0.0</td>\n",
       "      <td>0.0</td>\n",
       "      <td>0.0</td>\n",
       "      <td>0.0</td>\n",
       "      <td>2.0</td>\n",
       "      <td>0.0</td>\n",
       "      <td>0.0</td>\n",
       "      <td>0.0</td>\n",
       "    </tr>\n",
       "    <tr>\n",
       "      <th>5</th>\n",
       "      <td>3.0</td>\n",
       "      <td>0.0</td>\n",
       "      <td>0.0</td>\n",
       "      <td>0.0</td>\n",
       "      <td>0.0</td>\n",
       "      <td>0.0</td>\n",
       "      <td>0.0</td>\n",
       "      <td>0.0</td>\n",
       "      <td>0.0</td>\n",
       "      <td>0.0</td>\n",
       "      <td>...</td>\n",
       "      <td>0.0</td>\n",
       "      <td>0.0</td>\n",
       "      <td>0.0</td>\n",
       "      <td>0.0</td>\n",
       "      <td>0.0</td>\n",
       "      <td>0.0</td>\n",
       "      <td>0.0</td>\n",
       "      <td>0.0</td>\n",
       "      <td>0.0</td>\n",
       "      <td>0.0</td>\n",
       "    </tr>\n",
       "  </tbody>\n",
       "</table>\n",
       "<p>5 rows × 943 columns</p>\n",
       "</div>"
      ],
      "text/plain": [
       "userid  1    2    3    4    5    6    7    8    9    10   ...  934  935  936  \\\n",
       "itemid                                                    ...                  \n",
       "1       5.0  4.0  0.0  0.0  0.0  4.0  0.0  0.0  0.0  0.0  ...  2.0  3.0  4.0   \n",
       "2       3.0  0.0  0.0  0.0  0.0  0.0  0.0  0.0  0.0  0.0  ...  4.0  0.0  0.0   \n",
       "3       4.0  0.0  0.0  0.0  0.0  0.0  0.0  0.0  0.0  0.0  ...  0.0  0.0  4.0   \n",
       "4       3.0  0.0  0.0  0.0  0.0  0.0  5.0  0.0  0.0  0.0  ...  5.0  0.0  0.0   \n",
       "5       3.0  0.0  0.0  0.0  0.0  0.0  0.0  0.0  0.0  0.0  ...  0.0  0.0  0.0   \n",
       "\n",
       "userid  937  938  939  940  941  942  943  \n",
       "itemid                                     \n",
       "1       0.0  4.0  0.0  0.0  5.0  0.0  0.0  \n",
       "2       0.0  0.0  0.0  0.0  0.0  0.0  5.0  \n",
       "3       0.0  0.0  0.0  0.0  0.0  0.0  0.0  \n",
       "4       0.0  0.0  0.0  2.0  0.0  0.0  0.0  \n",
       "5       0.0  0.0  0.0  0.0  0.0  0.0  0.0  \n",
       "\n",
       "[5 rows x 943 columns]"
      ]
     },
     "execution_count": 3,
     "metadata": {},
     "output_type": "execute_result"
    }
   ],
   "source": [
    "utility = df.pivot(index = 'itemid', columns = 'userid', values = 'rating')\n",
    "utility = utility.fillna(0)\n",
    "utility.head()"
   ]
  },
  {
   "cell_type": "code",
   "execution_count": 6,
   "id": "charged-minority",
   "metadata": {},
   "outputs": [],
   "source": [
    "# similarity = 1- distance\n",
    "distance_mtx = squareform(pdist(utility, 'cosine'))\n",
    "similarity_mtx = 1- distance_mtx"
   ]
  },
  {
   "cell_type": "code",
   "execution_count": 7,
   "id": "generous-majority",
   "metadata": {},
   "outputs": [
    {
     "data": {
      "text/plain": [
       "<matplotlib.image.AxesImage at 0x2b8472f9160>"
      ]
     },
     "execution_count": 7,
     "metadata": {},
     "output_type": "execute_result"
    },
    {
     "data": {
      "image/png": "[encoded data removed]",
      "text/plain": [
       "<Figure size 432x288 with 1 Axes>"
      ]
     },
     "metadata": {
      "needs_background": "light"
     },
     "output_type": "display_data"
    }
   ],
   "source": [
    "plt.imshow(similarity_mtx, cmap = 'Blues')"
   ]
  },
  {
   "cell_type": "markdown",
   "id": "wicked-charm",
   "metadata": {},
   "source": [
    "As we can see from the plot, the data is sparse"
   ]
  },
  {
   "cell_type": "code",
   "execution_count": 8,
   "id": "regional-palace",
   "metadata": {},
   "outputs": [],
   "source": [
    "# Let's predict the rating of user2 on item 3\n",
    "user_to_predict = 2\n",
    "item_to_predict = 3\n",
    "\n",
    "user2_ratings = utility.iloc[:,user_to_predict-1]\n",
    "item3_similarity = similarity_mtx[item_to_predict-1]\n"
   ]
  },
  {
   "cell_type": "code",
   "execution_count": 9,
   "id": "sitting-madrid",
   "metadata": {},
   "outputs": [
    {
     "data": {
      "text/plain": [
       "3.822284928259705"
      ]
     },
     "execution_count": 9,
     "metadata": {},
     "output_type": "execute_result"
    }
   ],
   "source": [
    "numerator = np.dot(user2_ratings,item3_similarity)\n",
    "denom = item3_similarity[user2_ratings > 0].sum()\n",
    "prediction = numerator / denom\n",
    "prediction"
   ]
  },
  {
   "cell_type": "markdown",
   "id": "decent-minister",
   "metadata": {},
   "source": [
    "Next, we formulate the prediction function into a function"
   ]
  },
  {
   "cell_type": "code",
   "execution_count": 10,
   "id": "toxic-reception",
   "metadata": {},
   "outputs": [
    {
     "data": {
      "text/plain": [
       "3.822284928259705"
      ]
     },
     "execution_count": 10,
     "metadata": {},
     "output_type": "execute_result"
    }
   ],
   "source": [
    "def compute_prediction(userid, itemid, similarity_mtx, utility):\n",
    "    user_rating = utility.iloc[:,userid-1]\n",
    "    item_similarity = similarity_mtx[itemid-1]\n",
    "    numerate = np.dot(user_rating, item_similarity)\n",
    "    denom = item_similarity[user_rating > 0].sum()\n",
    "            \n",
    "    if denom == 0 or numerate == 0:\n",
    "        return user_rating[user_rating>0].mean()\n",
    "    \n",
    "    return numerate / denom\n",
    "\n",
    "compute_prediction(2,3, similarity_mtx, utility)"
   ]
  },
  {
   "cell_type": "markdown",
   "id": "thirty-amber",
   "metadata": {},
   "source": [
    "We can test our model by using the __RMSE__"
   ]
  },
  {
   "cell_type": "code",
   "execution_count": 12,
   "id": "hourly-bankruptcy",
   "metadata": {},
   "outputs": [],
   "source": [
    "test = pd.read_csv(test_path, delimiter = '\\t', names = ['userid', 'itemid', 'rating', 'timestamp'])\n",
    "test_set = test[['userid', 'itemid']].to_numpy()\n",
    "test_real = test['rating'].to_numpy()"
   ]
  },
  {
   "cell_type": "code",
   "execution_count": 13,
   "id": "speaking-arrest",
   "metadata": {},
   "outputs": [],
   "source": [
    "pred = []\n",
    "for data in test_set:\n",
    "    res = compute_prediction(data[0], data[1], similarity_mtx, utility)\n",
    "    pred.append(res)"
   ]
  },
  {
   "cell_type": "code",
   "execution_count": 14,
   "id": "signal-budget",
   "metadata": {},
   "outputs": [
    {
     "name": "stdout",
     "output_type": "stream",
     "text": [
      "RMSE = 1.0452369678411928\n"
     ]
    }
   ],
   "source": [
    "rmse = np.sqrt(np.mean((test_real - pred)**2))\n",
    "print(f'RMSE = {rmse}')"
   ]
  },
  {
   "cell_type": "markdown",
   "id": "ahead-monster",
   "metadata": {},
   "source": [
    "### Building the Recommendation System\n",
    "\n",
    "In order to make the item-based model into a recommendation system, we calculate all ratings of the specific user. For instance, we want to recommend items to user 2, and we calculate all predicted ratings and select the top n items that user 2 might like."
   ]
  },
  {
   "cell_type": "code",
   "execution_count": 15,
   "id": "verified-signature",
   "metadata": {},
   "outputs": [
    {
     "data": {
      "text/plain": [
       "[(1398, 4.704560704514258),\n",
       " (861, 4.642353328817946),\n",
       " (1641, 4.641362312762584),\n",
       " (1439, 4.603460311402641),\n",
       " (1123, 4.543079741085078),\n",
       " (1346, 4.4948279147275025),\n",
       " (1560, 4.4948279147275025),\n",
       " (1333, 4.45874227212434),\n",
       " (774, 4.389151878334362),\n",
       " (1530, 4.379045803272321)]"
      ]
     },
     "execution_count": 15,
     "metadata": {},
     "output_type": "execute_result"
    }
   ],
   "source": [
    "def calculate_user_rating(userid, similarity_mtx, utility):\n",
    "    user_rating = utility.iloc[:,userid-1]\n",
    "    pred_rating = deepcopy(user_rating)\n",
    "    \n",
    "    default_rating = user_rating[user_rating>0].mean()\n",
    "    numerate = np.dot(similarity_mtx, user_rating)\n",
    "    corr_sim = similarity_mtx[:, user_rating >0]\n",
    "    for i,ix in enumerate(pred_rating):\n",
    "        temp = 0\n",
    "        if ix < 1:\n",
    "            w_r = numerate[i]\n",
    "            sum_w = corr_sim[i,:].sum()\n",
    "            if w_r == 0 or sum_w == 0:\n",
    "                temp = default_rating\n",
    "            else:\n",
    "                temp = w_r / sum_w\n",
    "            pred_rating.iloc[i] = temp\n",
    "    return pred_rating\n",
    "\n",
    "\n",
    "def recommendation_to_user(userid, top_n, similarity_mtx, utility):\n",
    "    user_rating = utility.iloc[:,userid-1]\n",
    "    pred_rating = calculate_user_rating(userid, similarity_mtx, utility)\n",
    "\n",
    "    top_item = sorted(range(1,len(pred_rating)), key = lambda i: -1*pred_rating.iloc[i])\n",
    "    top_item = list(filter(lambda x: user_rating.iloc[x]==0, top_item))[:top_n]\n",
    "    res = []\n",
    "    for i in top_item:\n",
    "        res.append(tuple([i, pred_rating.iloc[i]]))\n",
    "    \n",
    "    return res\n",
    "\n",
    "recommendation_to_user(2,10,similarity_mtx, utility)"
   ]
  },
  {
   "cell_type": "code",
   "execution_count": null,
   "id": "handy-argentina",
   "metadata": {},
   "outputs": [],
   "source": []
  }
 ],
 "metadata": {
  "kernelspec": {
   "display_name": "Python [conda env:py36]",
   "language": "python",
   "name": "conda-env-py36-py"
  },
  "language_info": {
   "codemirror_mode": {
    "name": "ipython",
    "version": 3
   },
   "file_extension": ".py",
   "mimetype": "text/x-python",
   "name": "python",
   "nbconvert_exporter": "python",
   "pygments_lexer": "ipython3",
   "version": "3.6.12"
  }
 },
 "nbformat": 4,
 "nbformat_minor": 5
}
