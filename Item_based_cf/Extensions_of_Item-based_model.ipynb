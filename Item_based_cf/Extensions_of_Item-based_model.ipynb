{
 "cells": [
  {
   "cell_type": "markdown",
   "id": "radical-affiliate",
   "metadata": {},
   "source": [
    "## Extension to the Memory-based Recommendation System\n",
    "\n",
    "__Item-based model__ is widely implemented in recommendation system, however, it is not good enough to merely implement the item-based model. Usually, we need to explore more on the model and combine with some __feature engineering technologies__ and __user behavior analysis__. In this example, we will continue from the previous post, and explore more on the item-based model extensions.\n",
    "\n",
    "If you haven't check out the previous post, please refer to the following link:\n",
    "\n",
    "https://medium.com/geekculture/overview-of-item-item-collaborative-filtering-recommendation-system-64ee15b24bb8\n",
    "\n",
    "### Recap from the previous post\n",
    "\n",
    "We use the following formula to make prediction.\n",
    "$$prediction_{u,i} = \\frac {\\sum_{n}\\omega_{i,n}*r_{u,n}}{\\sum_{n}\\left\\lvert {\\omega_{i,n}}\\right\\lvert}$$"
   ]
  },
  {
   "cell_type": "markdown",
   "id": "mounted-stream",
   "metadata": {},
   "source": [
    "### Approach\n",
    "\n",
    "#### 1. top_n similar items\n",
    "\n",
    "The original version, we take all of the co-rated user-item rating pairs to make prediction. We can take the top_n similar items only to make prediction. \n",
    "\n",
    "The idea of this approach is to eliminate the low similarity rating item's effect on the prediction.\n",
    "\n",
    "#### 2. Case Amplification\n",
    "\n",
    "In order to increase the weight of high similarity item's impact, we can use the following equation to amplify the weight, such that $$\\omega_{i,u}' = \\omega_{i,u} ^ n$$ where $n$ is greater than 1.\n",
    "\n",
    "In the item-based model, the weight is the similarity between the item-item pair. We will be able to enhance the high similarity impact and punish the low similarity weight.\n",
    "\n",
    "#### 3. Default Voting\n",
    "\n",
    "There are a lot of methods in default voting. In this example, we will reduce the weight of user who rated less than n movies.\n",
    "We will need to explore more from the data aspect to determine the n value."
   ]
  },
  {
   "cell_type": "code",
   "execution_count": 1,
   "id": "choice-russian",
   "metadata": {},
   "outputs": [],
   "source": [
    "import pandas as pd\n",
    "import numpy as np\n",
    "from copy import deepcopy\n",
    "from scipy.spatial.distance import pdist, squareform\n",
    "import matplotlib.pyplot as plt"
   ]
  },
  {
   "cell_type": "markdown",
   "id": "comfortable-hands",
   "metadata": {},
   "source": [
    "Let's take the code from the previous code, and we add the __compute_rmse__ function to make our model evaluation easier."
   ]
  },
  {
   "cell_type": "code",
   "execution_count": 2,
   "id": "cooperative-douglas",
   "metadata": {},
   "outputs": [],
   "source": [
    "def compute_prediction(userid, itemid, similarity_mtx, utility):\n",
    "    user_rating = utility.iloc[:,userid-1]\n",
    "    item_similarity = similarity_mtx[itemid-1]\n",
    "    numerate = np.dot(user_rating, item_similarity)\n",
    "    denom = item_similarity[user_rating > 0].sum()\n",
    "            \n",
    "    if denom == 0 or numerate == 0:\n",
    "        return user_rating[user_rating>0].mean()\n",
    "    \n",
    "    return numerate / denom\n",
    "\n",
    "def compute_rmse(test_set, test_real, similarity_mtx, utility, pred_func, **kwargs):\n",
    "    pred = []\n",
    "    for data in test_set:\n",
    "        res = pred_func(userid = data[0], \n",
    "                        itemid = data[1], \n",
    "                        similarity_mtx = similarity_mtx, \n",
    "                        utility = utility, \n",
    "                        **kwargs)\n",
    "        pred.append(res)\n",
    "    rmse = np.sqrt(np.mean((test_real - pred)**2))\n",
    "    return rmse\n"
   ]
  },
  {
   "cell_type": "code",
   "execution_count": 3,
   "id": "cross-lunch",
   "metadata": {},
   "outputs": [],
   "source": [
    "train_path = '../data/ml-100k/u1.base'\n",
    "test_path = '../data/ml-100k/u1.test'\n",
    "\n",
    "# load train and test data\n",
    "df = pd.read_csv(train_path, delimiter = '\\t', names = ['userid', 'itemid', 'rating', 'timestamp'])\n",
    "test = pd.read_csv(test_path, delimiter = '\\t', names = ['userid', 'itemid', 'rating', 'timestamp'])\n",
    "test_set = test[['userid', 'itemid']].to_numpy()\n",
    "test_real = test['rating'].to_numpy()\n",
    "\n",
    "# construct the utility matrix\n",
    "utility = df.pivot(index = 'itemid', columns = 'userid', values = 'rating')\n",
    "utility = utility.fillna(0)\n",
    "\n",
    "# calculate the similarity\n",
    "similarity_mtx = 1 - squareform(pdist(utility, 'cosine'))"
   ]
  },
  {
   "cell_type": "markdown",
   "id": "noticed-exchange",
   "metadata": {},
   "source": [
    "The RMSE of the original model is $1.0452369678411928$"
   ]
  },
  {
   "cell_type": "code",
   "execution_count": 4,
   "id": "amino-empty",
   "metadata": {},
   "outputs": [
    {
     "data": {
      "text/plain": [
       "1.0452369678411928"
      ]
     },
     "execution_count": 4,
     "metadata": {},
     "output_type": "execute_result"
    }
   ],
   "source": [
    "compute_rmse(test_set, test_real, similarity_mtx, utility, compute_prediction)"
   ]
  },
  {
   "cell_type": "markdown",
   "id": "olympic-convenience",
   "metadata": {},
   "source": [
    "### 1. Top_n similar items\n",
    "\n",
    "__compute_prediction_v1__ will only take the _top_n_ similar items into account, and make prediction.\n",
    "\n",
    "Next, we can tune the model by changing the parameter, __top_n__. In our dataset, 17 seems to return the best RMSE. However, we didn't take the __Cross Validation__ in this example. In practice, __Cross Validation__ is essential when training the hyperparameters."
   ]
  },
  {
   "cell_type": "code",
   "execution_count": 5,
   "id": "boring-airport",
   "metadata": {},
   "outputs": [],
   "source": [
    "# take the top n similar items\n",
    "def compute_prediction_v1(userid, itemid, similarity_mtx, utility, top_n):\n",
    "    user_rating = utility.iloc[:,userid-1]\n",
    "    item_similarity = similarity_mtx[itemid-1]\n",
    "    \n",
    "    # we change the data structure to a list of (user, sim) pairs, and then filter out the non_rated pairs\n",
    "    user_sim_pair_list = list(zip(user_rating, item_similarity))\n",
    "    user_sim_pair_list = sorted(filter(lambda x: x[0] != 0 and x[1] != 0, user_sim_pair_list), \n",
    "                                key = lambda x: -x[1])[:top_n]\n",
    "\n",
    "    numerate = sum([x[0] * x[1] for x in user_sim_pair_list])\n",
    "    denom = sum([x[1] for x in user_sim_pair_list])\n",
    "            \n",
    "    if denom == 0 or numerate == 0:\n",
    "        return user_rating[user_rating>0].mean()\n",
    "    \n",
    "    return numerate / denom"
   ]
  },
  {
   "cell_type": "code",
   "execution_count": 6,
   "id": "registered-provider",
   "metadata": {},
   "outputs": [
    {
     "data": {
      "text/plain": [
       "[<matplotlib.lines.Line2D at 0x2315d562978>]"
      ]
     },
     "execution_count": 6,
     "metadata": {},
     "output_type": "execute_result"
    },
    {
     "data": {
      "image/png": "[encoded data removed]",
      "text/plain": [
       "<Figure size 432x288 with 1 Axes>"
      ]
     },
     "metadata": {
      "needs_background": "light"
     },
     "output_type": "display_data"
    }
   ],
   "source": [
    "chart_val = []\n",
    "x_val = list(range(10,25))\n",
    "\n",
    "for x in x_val:\n",
    "    rmse = compute_rmse(test_set, test_real, similarity_mtx, utility, compute_prediction_v1, top_n = x)\n",
    "    chart_val.append([x,rmse])\n",
    "\n",
    "chart_val_np = np.array(chart_val)\n",
    "plt.plot(chart_val_np[:, 0], chart_val_np[:,1])"
   ]
  },
  {
   "cell_type": "code",
   "execution_count": 7,
   "id": "interior-compiler",
   "metadata": {},
   "outputs": [
    {
     "name": "stdout",
     "output_type": "stream",
     "text": [
      "****************\n",
      "best model:\n",
      "top_n = 17\n",
      "rmse = 1.0253540271872705\n",
      "****************\n"
     ]
    }
   ],
   "source": [
    "best_model = min(chart_val, key= lambda x: x[1])\n",
    "print(\"****************\")\n",
    "print(f'best model:')\n",
    "print(f'top_n = {best_model[0]}')\n",
    "print(f'rmse = {best_model[1]}')\n",
    "print(\"****************\")"
   ]
  },
  {
   "cell_type": "markdown",
   "id": "square-scratch",
   "metadata": {},
   "source": [
    "### 2. Case Amplification\n",
    "\n",
    "In this approach, we further enhance the model based on the approach 1. __compute_prediction_v2__ will take the parameters, _top_n_ and _amp_, where _amp_ refer to the number _n_ in the formula. $$\\omega_{i,u}' = \\omega_{i,u} ^ n$$\n",
    "\n",
    "Next, we tune the model and visualize in a graph. As we can see from the graph, 2.5 works best if we take in all the data, it might vary if we change the top_n value."
   ]
  },
  {
   "cell_type": "code",
   "execution_count": 8,
   "id": "radical-brunswick",
   "metadata": {},
   "outputs": [],
   "source": [
    "def compute_prediction_v2(userid, itemid, similarity_mtx, utility, top_n, amp):\n",
    "    user_rating = utility.iloc[:,userid-1]\n",
    "    item_similarity = similarity_mtx[itemid-1]\n",
    "    item_similarity = item_similarity ** amp\n",
    "    \n",
    "    # we change the data structure to a list of (user, sim) pairs, and then filter out the non_rated pairs\n",
    "    user_sim_pair_list = list(zip(user_rating, item_similarity))\n",
    "    user_sim_pair_list = sorted(filter(lambda x: x[0] != 0 and x[1] != 0, user_sim_pair_list), key = lambda x: -x[1])[:top_n]\n",
    "\n",
    "    numerate = sum([x[0] * x[1] for x in user_sim_pair_list])\n",
    "    denom = sum([x[1] for x in user_sim_pair_list])\n",
    "            \n",
    "    if denom == 0 or numerate == 0:\n",
    "        return user_rating[user_rating>0].mean()\n",
    "    \n",
    "    return numerate / denom"
   ]
  },
  {
   "cell_type": "code",
   "execution_count": 9,
   "id": "minimal-launch",
   "metadata": {},
   "outputs": [
    {
     "data": {
      "text/plain": [
       "[<matplotlib.lines.Line2D at 0x2315d611908>]"
      ]
     },
     "execution_count": 9,
     "metadata": {},
     "output_type": "execute_result"
    },
    {
     "data": {
      "image/png": "[encoded data removed]",
      "text/plain": [
       "<Figure size 432x288 with 1 Axes>"
      ]
     },
     "metadata": {
      "needs_background": "light"
     },
     "output_type": "display_data"
    }
   ],
   "source": [
    "chart_val = []\n",
    "x_val = np.linspace(1,10,19)\n",
    "\n",
    "for x in x_val:\n",
    "    rmse = compute_rmse(test_set, test_real, similarity_mtx, utility, \n",
    "                        compute_prediction_v2, \n",
    "                        top_n = -1,\n",
    "                        amp = x)\n",
    "    chart_val.append([x,rmse])\n",
    "\n",
    "chart_val_np = np.array(chart_val)\n",
    "plt.plot(chart_val_np[:, 0], chart_val_np[:,1])"
   ]
  },
  {
   "cell_type": "code",
   "execution_count": 10,
   "id": "pending-mortgage",
   "metadata": {},
   "outputs": [
    {
     "name": "stdout",
     "output_type": "stream",
     "text": [
      "****************\n",
      "best model:\n",
      "amp = 3.0\n",
      "rmse = 1.0273477985136776\n",
      "****************\n"
     ]
    }
   ],
   "source": [
    "best_model = min(chart_val, key= lambda x: x[1])\n",
    "print(\"****************\")\n",
    "print(f'best model:')\n",
    "print(f'amp = {best_model[0]}')\n",
    "print(f'rmse = {best_model[1]}')\n",
    "print(\"****************\")"
   ]
  },
  {
   "cell_type": "markdown",
   "id": "educated-lender",
   "metadata": {},
   "source": [
    "### 3. Default Voting\n",
    "\n",
    "In this example, we will change the weight of item which receives more than n ratings."
   ]
  },
  {
   "cell_type": "code",
   "execution_count": 11,
   "id": "liable-bahrain",
   "metadata": {},
   "outputs": [],
   "source": [
    "def default_voting_item_amp(df, similarity_mtx, threshold, amp):\n",
    "    new_sim = deepcopy(similarity_mtx)\n",
    "    item_count = item_count = df.groupby('itemid').size().reset_index(name='count').sort_values('count')\n",
    "    amp_item = item_count.loc[item_count['count'] > threshold]['itemid'].to_numpy()\n",
    "    \n",
    "    for item in amp_item:\n",
    "        indx = item - 1\n",
    "        new_sim[:,indx] *= amp\n",
    "        new_sim[indx,:] *= amp\n",
    "    \n",
    "    return new_sim"
   ]
  },
  {
   "cell_type": "markdown",
   "id": "convenient-shock",
   "metadata": {},
   "source": [
    "#### Dataset Exploration\n",
    "\n",
    "Before we start defining the hyperparameters, we should take a look at the dataset. As we can see from the plot below, most of items received less than 100 ratings."
   ]
  },
  {
   "cell_type": "code",
   "execution_count": 12,
   "id": "chemical-television",
   "metadata": {},
   "outputs": [
    {
     "data": {
      "text/plain": [
       "Text(0, 0.5, 'number of items')"
      ]
     },
     "execution_count": 12,
     "metadata": {},
     "output_type": "execute_result"
    },
    {
     "data": {
      "image/png": "[encoded data removed]",
      "text/plain": [
       "<Figure size 720x576 with 1 Axes>"
      ]
     },
     "metadata": {
      "needs_background": "light"
     },
     "output_type": "display_data"
    }
   ],
   "source": [
    "item_count = df.groupby('itemid').size().reset_index(name='count').sort_values('count')\n",
    "ax = item_count['count'].hist(bins = 30, figsize = (10,8))\n",
    "ax.set_xlabel('count')\n",
    "ax.set_ylabel('number of items')"
   ]
  },
  {
   "cell_type": "code",
   "execution_count": 13,
   "id": "worst-literature",
   "metadata": {},
   "outputs": [
    {
     "data": {
      "text/plain": [
       "[<matplotlib.lines.Line2D at 0x2315d7a1828>]"
      ]
     },
     "execution_count": 13,
     "metadata": {},
     "output_type": "execute_result"
    },
    {
     "data": {
      "image/png": "[encoded data removed]",
      "text/plain": [
       "<Figure size 432x288 with 1 Axes>"
      ]
     },
     "metadata": {
      "needs_background": "light"
     },
     "output_type": "display_data"
    }
   ],
   "source": [
    "chart_val = []\n",
    "x_val = np.linspace(0.1, 2, 20)\n",
    "threshold = 100\n",
    "\n",
    "for amp in x_val:\n",
    "    new_sim = default_voting_item_amp(df, similarity_mtx, threshold, amp)\n",
    "    rmse = compute_rmse(test_set, test_real, new_sim, utility, compute_prediction)\n",
    "    chart_val.append([amp,rmse])\n",
    "\n",
    "chart_val_np = np.array(chart_val)\n",
    "plt.plot(chart_val_np[:, 0], chart_val_np[:,1])"
   ]
  },
  {
   "cell_type": "code",
   "execution_count": 14,
   "id": "ordinary-cameroon",
   "metadata": {},
   "outputs": [
    {
     "name": "stdout",
     "output_type": "stream",
     "text": [
      "****************\n",
      "best model:\n",
      "amp = 0.4\n",
      "rmse = 1.0388958637215613\n",
      "****************\n"
     ]
    }
   ],
   "source": [
    "best_model = min(chart_val, key= lambda x: x[1])\n",
    "print(\"****************\")\n",
    "print(f'best model:')\n",
    "print(f'amp = {best_model[0]}')\n",
    "print(f'rmse = {best_model[1]}')\n",
    "print(\"****************\")"
   ]
  },
  {
   "cell_type": "code",
   "execution_count": null,
   "id": "objective-class",
   "metadata": {},
   "outputs": [],
   "source": []
  }
 ],
 "metadata": {
  "kernelspec": {
   "display_name": "Python [conda env:py36]",
   "language": "python",
   "name": "conda-env-py36-py"
  },
  "language_info": {
   "codemirror_mode": {
    "name": "ipython",
    "version": 3
   },
   "file_extension": ".py",
   "mimetype": "text/x-python",
   "name": "python",
   "nbconvert_exporter": "python",
   "pygments_lexer": "ipython3",
   "version": "3.6.12"
  }
 },
 "nbformat": 4,
 "nbformat_minor": 5
}
