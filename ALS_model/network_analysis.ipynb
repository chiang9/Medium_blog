{
 "cells": [
  {
   "cell_type": "code",
   "execution_count": 96,
   "id": "6ce00333-b919-40e6-b5fc-e4d80837276a",
   "metadata": {},
   "outputs": [],
   "source": [
    "# https://keras.io/examples/graph/node2vec_movielens/\n",
    "import findspark\n",
    "findspark.init()\n",
    "\n",
    "import numpy as np\n",
    "import pandas as pd\n",
    "import pyarrow as pa\n",
    "import itertools\n",
    "import math\n",
    "import time\n",
    "from collections import defaultdict\n",
    "from pyspark import SparkConf, SparkContext\n",
    "from pyspark.sql import SparkSession\n",
    "from pyspark.sql.window import *\n",
    "import pyspark.sql.functions as F\n",
    "from pyspark.sql.types import FloatType, StructType\n",
    "from pyspark.ml.evaluation import RegressionEvaluator\n",
    "from pyspark.ml.recommendation import ALS\n",
    "from pyspark.ml.tuning import ParamGridBuilder, CrossValidator\n",
    "import networkx as nx\n",
    "import matplotlib.pyplot as plt\n",
    "\n",
    "conf = SparkConf()\n",
    "conf.set(\"spark.executor.memory\",\"24g\")\n",
    "conf.set(\"spark.driver.memory\", \"8g\")\n",
    "conf.set(\"spark.driver.cores\", \"8\")\n",
    "conf.set(\"spark.sql.execution.arrow.pyspark.enabled\", \"true\")\n",
    "sc = SparkContext.getOrCreate(conf)\n",
    "spark = SparkSession.builder.getOrCreate()"
   ]
  },
  {
   "cell_type": "code",
   "execution_count": 2,
   "id": "ad6fa900-24b1-48e3-9bfb-ed8cdea6741a",
   "metadata": {},
   "outputs": [
    {
     "data": {
      "text/plain": [
       "(196, 242, 3.0)"
      ]
     },
     "execution_count": 2,
     "metadata": {},
     "output_type": "execute_result"
    }
   ],
   "source": [
    "movielens = sc.textFile('../data/ml-100k/u.data').map(lambda x: tuple(x.split('\\t'))) \\\n",
    "                .map(lambda x: tuple([int(x[0]), int(x[1]), float(x[2])])) #user, item, rating\n",
    "movielens.first()"
   ]
  },
  {
   "cell_type": "code",
   "execution_count": 66,
   "id": "1f6f1d20-9c2a-499b-ad04-be4a310d7dd6",
   "metadata": {},
   "outputs": [
    {
     "data": {
      "text/plain": [
       "21201"
      ]
     },
     "execution_count": 66,
     "metadata": {},
     "output_type": "execute_result"
    }
   ],
   "source": [
    "min_rating= 5\n",
    "rated_movie = movielens.filter(lambda x: x[2] >= min_rating)\n",
    "rated_movie.count()"
   ]
  },
  {
   "cell_type": "code",
   "execution_count": 90,
   "id": "d34ca009-3158-49a7-bb7d-8c4f42941a99",
   "metadata": {},
   "outputs": [],
   "source": [
    "user_cnt = rated_movie.map(lambda x: (x[1],1)) \\\n",
    "        .reduceByKey(lambda a,b: a+b) \\\n",
    "        .collectAsMap()"
   ]
  },
  {
   "cell_type": "code",
   "execution_count": 138,
   "id": "535fd6c8-c634-4de2-a23c-58e15744ed07",
   "metadata": {
    "tags": []
   },
   "outputs": [
    {
     "data": {
      "text/plain": [
       "39641"
      ]
     },
     "execution_count": 138,
     "metadata": {},
     "output_type": "execute_result"
    }
   ],
   "source": [
    "# xy\n",
    "min_weight = 5.5\n",
    "D = rated_movie.count()\n",
    "\n",
    "def compute_edge(x):\n",
    "    res = []\n",
    "    for pair in list(itertools.combinations(x, 2)):\n",
    "        k = tuple(sorted([pair[0][0], pair[1][0]]))\n",
    "        v = 1\n",
    "        res.append(tuple([k,v]))\n",
    "    return res\n",
    "\n",
    "def compute_edge_weight(x):\n",
    "    k = x[0]\n",
    "    xy = math.log(x[1])\n",
    "    x = math.log(user_cnt[k[0]])\n",
    "    y = math.log(user_cnt[k[1]])\n",
    "    \n",
    "    v = xy-x-y+math.log(D)\n",
    "    return tuple([k,v])\n",
    "    \n",
    "\n",
    "edges = rated_movie.map(lambda x: (x[0], [(x[1], x[2])])) \\\n",
    "                    .reduceByKey(lambda a,b: a+b) \\\n",
    "                    .map(lambda x: x[1]) \\\n",
    "                    .flatMap(lambda x: compute_edge(x)) \\\n",
    "                    .reduceByKey(lambda a,b: a+b) \\\n",
    "                    .map(lambda x: compute_edge_weight(x)) \\\n",
    "                    .filter(lambda x: x[1] >= min_weight) \\\n",
    "                    .map(lambda x: tuple([*x[0], x[1]])) \\\n",
    "                    .collect()\n",
    "#                     \n",
    "len(edges)\n",
    "\n",
    "# edges.collect()"
   ]
  },
  {
   "cell_type": "code",
   "execution_count": 139,
   "id": "975ff2a9-f720-4995-8464-84d2ffe194a8",
   "metadata": {},
   "outputs": [
    {
     "name": "stdout",
     "output_type": "stream",
     "text": [
      "Total number of graph nodes: 1172\n",
      "Total number of graph edges: 39641\n",
      "Average node degree: 67.65\n",
      "Number of communities: 51\n"
     ]
    }
   ],
   "source": [
    "g= nx.Graph()\n",
    "g.add_nodes_from(nodes)\n",
    "g.add_weighted_edges_from(edges)\n",
    "print(\"Total number of graph nodes:\", g.number_of_nodes())\n",
    "print(\"Total number of graph edges:\", g.number_of_edges())\n",
    "\n",
    "degrees = []\n",
    "for node in g.nodes:\n",
    "    degrees.append(g.degree[node])\n",
    "\n",
    "print(\"Average node degree:\", round(sum(degrees) / len(degrees), 2))\n",
    "\n",
    "partitions = community_louvain.best_partition(g)\n",
    "values = list(partitions.values())\n",
    "print('Number of communities:', len(np.unique(values)))"
   ]
  },
  {
   "cell_type": "code",
   "execution_count": 153,
   "id": "c9b39bd9-45dd-4fb8-8810-c1baf515e921",
   "metadata": {},
   "outputs": [],
   "source": [
    "column_arr = [\"movie id\",\"movie title\",\"release date\",\"video release date\",\"IMDb URL\",\"unknown\",\"Action\",\"Adventure\",\"Animation\",\"Children's\",\"Comedy\",\"Crime\",\"Documentary\",\"Drama\",\"Fantasy\",\"Film-Noir\",\"Horror\",\"Musical\",\"Mystery\",\"Romance\",\"Sci-Fi\",\"Thriller\",\"War\",\"Western\"]\n",
    "item_data = pd.read_csv('../data/ml-100k/u.item', delimiter = '|', names =column_arr)\n",
    "# item_data= item_data.set_index('movie id')\n",
    "# item_data = item_data[1]\n",
    "# item_dict= item_data.to_dict()\n",
    "item_dict = defaultdict(lambda:[])\n",
    "item_data = item_data.to_numpy()\n",
    "\n",
    "for d in item_data:\n",
    "    res = []\n",
    "    for indx in range(len(d)):\n",
    "        if d[indx] == 1:\n",
    "            res.append(column_arr[indx])\n",
    "    \n",
    "    item_dict[d[0]] = res\n",
    "    "
   ]
  },
  {
   "cell_type": "code",
   "execution_count": 154,
   "id": "dd19a185-0687-4e28-b01d-aa78f89a140c",
   "metadata": {
    "tags": []
   },
   "outputs": [],
   "source": [
    "res_dict = defaultdict(lambda: [])\n",
    "for k in partitions:\n",
    "    res_dict[partitions[k]].append(item_dict[k])\n"
   ]
  },
  {
   "cell_type": "code",
   "execution_count": 161,
   "id": "b1684c28-33b2-4e3a-9149-3f03b351bb4e",
   "metadata": {
    "collapsed": true,
    "jupyter": {
     "outputs_hidden": true
    },
    "tags": []
   },
   "outputs": [
    {
     "data": {
      "text/plain": [
       "[['Drama'],\n",
       " ['Comedy'],\n",
       " ['Comedy', 'Thriller'],\n",
       " ['Comedy', 'Drama'],\n",
       " ['Drama'],\n",
       " ['Drama', 'War'],\n",
       " ['Drama', 'Romance'],\n",
       " ['Adventure', 'War'],\n",
       " ['Film-Noir', 'Mystery'],\n",
       " ['Comedy'],\n",
       " ['Crime', 'Thriller'],\n",
       " ['Drama'],\n",
       " ['Drama'],\n",
       " ['Comedy', 'Romance'],\n",
       " ['Comedy', 'Crime'],\n",
       " ['Comedy', 'Romance'],\n",
       " ['Drama', 'War'],\n",
       " ['Drama'],\n",
       " [\"Children's\", 'Comedy', 'Drama'],\n",
       " ['Comedy', 'Sci-Fi'],\n",
       " ['Documentary'],\n",
       " ['Action', 'Drama', 'Thriller'],\n",
       " ['Film-Noir'],\n",
       " ['Horror', 'Sci-Fi', 'Thriller'],\n",
       " ['Comedy'],\n",
       " ['Comedy'],\n",
       " ['Comedy', 'Romance'],\n",
       " ['Crime', 'Film-Noir', 'Mystery', 'Thriller'],\n",
       " ['Comedy', 'Crime'],\n",
       " ['Action', 'Drama', 'Western'],\n",
       " ['Comedy'],\n",
       " ['Drama', 'Romance'],\n",
       " ['Animation'],\n",
       " ['Drama', 'War'],\n",
       " ['Crime', 'Thriller'],\n",
       " ['Drama', 'Romance'],\n",
       " ['Adventure'],\n",
       " ['Comedy', 'Romance', 'Thriller'],\n",
       " ['Action', 'Drama', 'War'],\n",
       " ['Drama'],\n",
       " ['Action', 'Adventure', 'Drama'],\n",
       " ['Drama'],\n",
       " ['Drama'],\n",
       " ['Drama', 'Romance'],\n",
       " ['Drama'],\n",
       " ['Musical'],\n",
       " ['Drama'],\n",
       " ['Drama'],\n",
       " ['Drama'],\n",
       " ['Action', 'Adventure', 'Romance', 'War'],\n",
       " ['Comedy', 'Romance'],\n",
       " ['Drama', 'Musical', 'War'],\n",
       " ['Drama'],\n",
       " ['Drama'],\n",
       " ['Drama'],\n",
       " ['Comedy', 'Drama', 'Romance'],\n",
       " ['Drama'],\n",
       " ['Drama'],\n",
       " ['Documentary'],\n",
       " ['Drama'],\n",
       " ['Drama'],\n",
       " ['Drama'],\n",
       " ['Romance'],\n",
       " ['Crime', 'Drama'],\n",
       " ['Adventure', 'Drama'],\n",
       " ['Comedy'],\n",
       " ['Western'],\n",
       " ['Comedy'],\n",
       " ['Musical', 'Romance'],\n",
       " [\"Children's\", 'Drama'],\n",
       " ['Mystery', 'Thriller'],\n",
       " ['Drama'],\n",
       " ['Documentary'],\n",
       " ['Comedy', 'Musical'],\n",
       " ['Horror'],\n",
       " ['Comedy', 'Drama'],\n",
       " ['Drama'],\n",
       " ['Comedy', 'Musical'],\n",
       " [\"Children's\", 'Fantasy'],\n",
       " ['Drama'],\n",
       " ['Drama'],\n",
       " [\"Children's\", 'Drama'],\n",
       " ['Comedy', 'Romance'],\n",
       " ['Sci-Fi'],\n",
       " ['Documentary'],\n",
       " ['Adventure', \"Children's\", 'Musical'],\n",
       " ['Drama', 'Romance'],\n",
       " ['Adventure', 'Romance'],\n",
       " ['Musical'],\n",
       " ['Mystery', 'Thriller'],\n",
       " ['Action'],\n",
       " ['Drama'],\n",
       " ['Mystery', 'Romance', 'Thriller'],\n",
       " ['Mystery', 'Romance', 'Thriller'],\n",
       " ['Drama'],\n",
       " ['Drama'],\n",
       " ['Comedy', 'Romance'],\n",
       " ['Comedy', 'Crime', 'Horror'],\n",
       " ['Comedy', 'Drama', 'War'],\n",
       " ['Drama'],\n",
       " ['Comedy'],\n",
       " ['Adventure', \"Children's\"],\n",
       " ['Comedy'],\n",
       " ['Drama'],\n",
       " ['Drama', 'Romance'],\n",
       " ['Action'],\n",
       " ['Horror', 'Sci-Fi'],\n",
       " ['Drama'],\n",
       " [\"Children's\", 'Comedy', 'Drama'],\n",
       " ['Drama', 'Thriller'],\n",
       " ['Drama'],\n",
       " ['Drama'],\n",
       " ['Comedy', 'Romance'],\n",
       " ['Drama'],\n",
       " ['Comedy'],\n",
       " ['Action', 'Comedy', 'Crime', 'Drama'],\n",
       " ['Comedy'],\n",
       " ['Comedy', 'Romance'],\n",
       " ['Crime'],\n",
       " ['Comedy'],\n",
       " ['Crime', 'Drama'],\n",
       " ['Crime', 'Film-Noir'],\n",
       " ['Comedy', 'Sci-Fi'],\n",
       " ['Drama'],\n",
       " ['Drama'],\n",
       " ['Drama', 'Romance'],\n",
       " ['Drama', 'Musical'],\n",
       " ['Musical', 'Romance'],\n",
       " ['Crime', 'Film-Noir', 'Mystery'],\n",
       " ['Drama'],\n",
       " ['Drama'],\n",
       " ['Action', 'Drama', 'Romance', 'War'],\n",
       " ['Western'],\n",
       " ['Drama'],\n",
       " ['Horror'],\n",
       " ['Drama'],\n",
       " ['Western'],\n",
       " ['Action', 'Adventure'],\n",
       " ['Adventure', 'War'],\n",
       " ['Mystery', 'Thriller'],\n",
       " ['Drama', 'Romance'],\n",
       " ['Drama', 'Romance'],\n",
       " ['Comedy', 'Mystery', 'Romance', 'Thriller'],\n",
       " ['Comedy', 'Romance'],\n",
       " ['Comedy', 'Musical', 'Romance'],\n",
       " ['Drama', 'Romance', 'War'],\n",
       " ['Action', 'Drama', 'War'],\n",
       " ['Drama', 'Sci-Fi'],\n",
       " ['Comedy'],\n",
       " ['Comedy', 'Romance'],\n",
       " ['Horror', 'Sci-Fi', 'Thriller'],\n",
       " ['Drama', 'War'],\n",
       " ['Comedy', 'War'],\n",
       " ['Drama'],\n",
       " ['Film-Noir', 'Thriller'],\n",
       " ['Drama'],\n",
       " ['Action', 'Adventure'],\n",
       " ['Action', 'Drama', 'Mystery', 'Romance', 'Thriller'],\n",
       " ['Drama', 'War'],\n",
       " ['Film-Noir', 'Mystery'],\n",
       " ['Adventure', 'Comedy', 'Drama'],\n",
       " ['Drama'],\n",
       " ['Animation', 'Comedy'],\n",
       " ['Mystery'],\n",
       " ['Drama'],\n",
       " ['Thriller'],\n",
       " ['Sci-Fi'],\n",
       " ['Drama', 'War'],\n",
       " ['Drama', 'War'],\n",
       " ['Western'],\n",
       " ['Drama'],\n",
       " ['Adventure'],\n",
       " ['Film-Noir', 'Romance', 'Thriller'],\n",
       " ['Action', 'Thriller'],\n",
       " ['Drama'],\n",
       " ['Crime', 'Drama', 'Thriller'],\n",
       " ['Drama'],\n",
       " ['Comedy', 'Mystery', 'Thriller'],\n",
       " ['Comedy', 'Drama'],\n",
       " ['Animation', \"Children's\", 'Musical'],\n",
       " ['Drama'],\n",
       " ['Drama'],\n",
       " ['Drama', 'Romance'],\n",
       " ['Horror'],\n",
       " ['Comedy', 'Musical', 'Romance'],\n",
       " ['Drama'],\n",
       " ['Drama', 'War'],\n",
       " ['Drama', 'Musical'],\n",
       " ['Crime', 'Horror', 'Mystery', 'Thriller'],\n",
       " ['Mystery', 'Thriller'],\n",
       " ['Comedy', 'Drama'],\n",
       " ['Drama'],\n",
       " ['Comedy'],\n",
       " ['Documentary'],\n",
       " ['Action', 'Crime', 'Sci-Fi'],\n",
       " ['Adventure'],\n",
       " ['Romance'],\n",
       " ['Documentary', 'Drama'],\n",
       " ['Western'],\n",
       " ['Mystery', 'Thriller'],\n",
       " [\"Children's\", 'Drama'],\n",
       " ['Action', 'Drama', 'Romance'],\n",
       " ['Drama'],\n",
       " ['Drama'],\n",
       " ['Comedy'],\n",
       " ['Horror'],\n",
       " ['Drama', 'War'],\n",
       " ['Documentary'],\n",
       " ['Animation', \"Children's\", 'Musical'],\n",
       " ['Comedy'],\n",
       " ['Comedy'],\n",
       " ['Romance', 'Thriller'],\n",
       " ['Drama'],\n",
       " ['Documentary'],\n",
       " ['War'],\n",
       " ['Musical'],\n",
       " ['Action', 'Adventure'],\n",
       " ['Drama', 'Musical'],\n",
       " ['Drama'],\n",
       " ['Drama', 'Thriller'],\n",
       " ['Adventure', 'Comedy'],\n",
       " ['Drama', 'Musical'],\n",
       " ['Thriller'],\n",
       " ['Drama'],\n",
       " ['Adventure', 'Romance'],\n",
       " ['Crime', 'Film-Noir', 'Thriller'],\n",
       " ['Drama'],\n",
       " ['Comedy', 'Horror'],\n",
       " ['Comedy'],\n",
       " ['Comedy', 'Musical'],\n",
       " ['Comedy', 'Drama'],\n",
       " ['Drama'],\n",
       " ['Drama'],\n",
       " ['Drama'],\n",
       " ['Drama'],\n",
       " ['Horror'],\n",
       " ['Comedy', 'War'],\n",
       " ['Drama'],\n",
       " ['Drama'],\n",
       " ['Drama', 'Romance'],\n",
       " ['Crime', 'Drama', 'Thriller'],\n",
       " ['Drama'],\n",
       " ['Drama', 'War'],\n",
       " ['Drama'],\n",
       " ['Adventure', 'War'],\n",
       " ['Comedy', 'Drama'],\n",
       " ['Adventure', \"Children's\", 'Fantasy', 'Sci-Fi'],\n",
       " ['Mystery'],\n",
       " ['Drama'],\n",
       " ['Drama'],\n",
       " ['Comedy', 'Mystery'],\n",
       " ['Comedy', 'Romance'],\n",
       " ['Comedy', 'Drama'],\n",
       " ['Adventure', \"Children's\"],\n",
       " ['Drama'],\n",
       " ['Comedy', 'Romance'],\n",
       " ['Drama'],\n",
       " ['Documentary'],\n",
       " ['Documentary'],\n",
       " ['Drama'],\n",
       " ['Thriller']]"
      ]
     },
     "execution_count": 161,
     "metadata": {},
     "output_type": "execute_result"
    }
   ],
   "source": [
    "# for k in res_dict:\n",
    "#     print(len(res_dict[k]))\n",
    "res_dict[5]"
   ]
  },
  {
   "cell_type": "code",
   "execution_count": 106,
   "id": "9b12d055-a9ad-46bb-b36b-16b3c1cee398",
   "metadata": {},
   "outputs": [],
   "source": [
    "def compute_edges(x):\n",
    "    res = []\n",
    "    for pair in list(itertools.combinations(x, 2)):\n",
    "        k = tuple(sorted([pair[0][0], pair[1][0]]))\n",
    "        v = pair[0][1] + pair[1][1]\n",
    "        res.append(tuple([k,v]))\n",
    "    return res\n",
    "\n",
    "edges = rated_movie.map(lambda x: (x[0], [(x[1], x[2])])) \\\n",
    "                        .reduceByKey(lambda a,b: a+b) \\\n",
    "                        .map(lambda x: x[1]) \\\n",
    "                        .flatMap(lambda x: compute_edges(x)) \\\n",
    "                        .reduceByKey(lambda a,b: (a+b)) \\\n",
    "                        .map(lambda x: tuple([x[0][0],x[0][1],x[1]])) \\\n",
    "                        .collect()\n"
   ]
  },
  {
   "cell_type": "code",
   "execution_count": 78,
   "id": "2b21b567-f1c7-495d-a6c6-6d5dca4ad600",
   "metadata": {},
   "outputs": [],
   "source": [
    "nodes = rated_movie.map(lambda x: x[1]).distinct().collect()\n"
   ]
  },
  {
   "cell_type": "code",
   "execution_count": 79,
   "id": "d0a06d81-e2c7-4825-b762-840f47357ebb",
   "metadata": {},
   "outputs": [],
   "source": [
    "g= nx.Graph()\n",
    "g.add_nodes_from(nodes)\n",
    "g.add_weighted_edges_from(edges)\n",
    "# nx.draw(g)"
   ]
  },
  {
   "cell_type": "code",
   "execution_count": 80,
   "id": "f471bb58-a6a5-442e-b701-61b47584ffaf",
   "metadata": {},
   "outputs": [
    {
     "name": "stdout",
     "output_type": "stream",
     "text": [
      "Total number of graph nodes: 1172\n",
      "Total number of graph edges: 174005\n"
     ]
    }
   ],
   "source": [
    "print(\"Total number of graph nodes:\", g.number_of_nodes())\n",
    "print(\"Total number of graph edges:\", g.number_of_edges())"
   ]
  },
  {
   "cell_type": "code",
   "execution_count": 83,
   "id": "711b4841-6ab2-485e-9023-6319de3c6364",
   "metadata": {},
   "outputs": [
    {
     "name": "stdout",
     "output_type": "stream",
     "text": [
      "Average node degree: 296.94\n"
     ]
    }
   ],
   "source": [
    "degrees = []\n",
    "for node in g.nodes:\n",
    "    degrees.append(g.degree[node])\n",
    "\n",
    "print(\"Average node degree:\", round(sum(degrees) / len(degrees), 2))"
   ]
  },
  {
   "cell_type": "code",
   "execution_count": 84,
   "id": "f0aac214-5e8d-4bc1-a2a4-82524aa477a0",
   "metadata": {},
   "outputs": [],
   "source": [
    "import community as community_louvain\n",
    "partitions = community_louvain.best_partition(g)"
   ]
  },
  {
   "cell_type": "code",
   "execution_count": 85,
   "id": "c286bc33-50a8-41a3-a040-d18453fd9562",
   "metadata": {},
   "outputs": [],
   "source": [
    "values = list(partitions.values())"
   ]
  },
  {
   "cell_type": "code",
   "execution_count": 86,
   "id": "c953780c-1f7b-4a47-8507-a78af574a77d",
   "metadata": {},
   "outputs": [
    {
     "name": "stdout",
     "output_type": "stream",
     "text": [
      "Number of communities: 5\n"
     ]
    }
   ],
   "source": [
    "print('Number of communities:', len(np.unique(values)))"
   ]
  },
  {
   "cell_type": "code",
   "execution_count": null,
   "id": "fb032e45-80a3-49ab-8b9d-581fdd1b6775",
   "metadata": {},
   "outputs": [],
   "source": []
  }
 ],
 "metadata": {
  "kernelspec": {
   "display_name": "Python 3",
   "language": "python",
   "name": "python3"
  },
  "language_info": {
   "codemirror_mode": {
    "name": "ipython",
    "version": 3
   },
   "file_extension": ".py",
   "mimetype": "text/x-python",
   "name": "python",
   "nbconvert_exporter": "python",
   "pygments_lexer": "ipython3",
   "version": "3.6.13"
  }
 },
 "nbformat": 4,
 "nbformat_minor": 5
}
