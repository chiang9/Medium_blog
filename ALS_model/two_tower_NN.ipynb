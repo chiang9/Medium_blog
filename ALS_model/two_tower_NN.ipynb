{
 "cells": [
  {
   "cell_type": "code",
   "execution_count": 13,
   "id": "f507603b-870e-4e94-b7e3-8f2a42984f70",
   "metadata": {},
   "outputs": [],
   "source": [
    "import pandas as pd\n",
    "import numpy as np\n",
    "from copy import deepcopy\n",
    "from scipy.spatial.distance import pdist, squareform\n",
    "import matplotlib.pyplot as plt\n",
    "import tensorflow as tf\n",
    "from tensorflow.keras.models import Sequential, Model\n",
    "from tensorflow.keras.layers import Input, Embedding, Dense, Dropout, Flatten, dot, Lambda\n",
    "# https://towardsdatascience.com/recommender-systems-from-learned-embeddings-f1d12288f278"
   ]
  },
  {
   "cell_type": "code",
   "execution_count": 2,
   "id": "535a7322-f702-4675-b365-032217ff0c99",
   "metadata": {},
   "outputs": [
    {
     "data": {
      "text/html": [
       "<div>\n",
       "<style scoped>\n",
       "    .dataframe tbody tr th:only-of-type {\n",
       "        vertical-align: middle;\n",
       "    }\n",
       "\n",
       "    .dataframe tbody tr th {\n",
       "        vertical-align: top;\n",
       "    }\n",
       "\n",
       "    .dataframe thead th {\n",
       "        text-align: right;\n",
       "    }\n",
       "</style>\n",
       "<table border=\"1\" class=\"dataframe\">\n",
       "  <thead>\n",
       "    <tr style=\"text-align: right;\">\n",
       "      <th></th>\n",
       "      <th>userid</th>\n",
       "      <th>itemid</th>\n",
       "      <th>rating</th>\n",
       "      <th>timestamp</th>\n",
       "    </tr>\n",
       "  </thead>\n",
       "  <tbody>\n",
       "    <tr>\n",
       "      <th>0</th>\n",
       "      <td>1</td>\n",
       "      <td>1</td>\n",
       "      <td>5</td>\n",
       "      <td>874965758</td>\n",
       "    </tr>\n",
       "    <tr>\n",
       "      <th>1</th>\n",
       "      <td>1</td>\n",
       "      <td>2</td>\n",
       "      <td>3</td>\n",
       "      <td>876893171</td>\n",
       "    </tr>\n",
       "    <tr>\n",
       "      <th>2</th>\n",
       "      <td>1</td>\n",
       "      <td>3</td>\n",
       "      <td>4</td>\n",
       "      <td>878542960</td>\n",
       "    </tr>\n",
       "    <tr>\n",
       "      <th>3</th>\n",
       "      <td>1</td>\n",
       "      <td>4</td>\n",
       "      <td>3</td>\n",
       "      <td>876893119</td>\n",
       "    </tr>\n",
       "    <tr>\n",
       "      <th>4</th>\n",
       "      <td>1</td>\n",
       "      <td>5</td>\n",
       "      <td>3</td>\n",
       "      <td>889751712</td>\n",
       "    </tr>\n",
       "  </tbody>\n",
       "</table>\n",
       "</div>"
      ],
      "text/plain": [
       "   userid  itemid  rating  timestamp\n",
       "0       1       1       5  874965758\n",
       "1       1       2       3  876893171\n",
       "2       1       3       4  878542960\n",
       "3       1       4       3  876893119\n",
       "4       1       5       3  889751712"
      ]
     },
     "execution_count": 2,
     "metadata": {},
     "output_type": "execute_result"
    }
   ],
   "source": [
    "train_path = '../data/ml-100k/u1.base'\n",
    "test_path = '../data/ml-100k/u1.test'\n",
    "\n",
    "df = pd.read_csv(train_path, delimiter = '\\t', names = ['userid', 'itemid', 'rating', 'timestamp'])\n",
    "df.head()"
   ]
  },
  {
   "cell_type": "code",
   "execution_count": 35,
   "id": "75aaed9a-1541-45a8-9db7-a0e7b3eb5362",
   "metadata": {},
   "outputs": [],
   "source": [
    "num_unique_user = max(df.userid.unique())\n",
    "num_unique_item = max(df.itemid.unique())\n",
    "\n",
    "df = df.sample(frac = 1)\n",
    "\n",
    "train_data = df[:int(df.shape[0]*0.8)]\n",
    "test_data = df[int(df.shape[0]*0.8):]"
   ]
  },
  {
   "cell_type": "code",
   "execution_count": 61,
   "id": "12aaa839-3252-4c51-9ab4-2a935523d2a7",
   "metadata": {},
   "outputs": [],
   "source": [
    "embedding_dim = 16\n",
    "\n",
    "model_user = Sequential()\n",
    "model_user.add(Input(shape = (1,),name = 'user'))\n",
    "model_user.add(Embedding(\n",
    "    input_dim = num_unique_user+1,\n",
    "    output_dim = embedding_dim,\n",
    "    input_length = train_data.shape[0]\n",
    "))\n",
    "model_user.add(Flatten())\n",
    "\n",
    "model_item = Sequential()\n",
    "model_item.add(Input(shape = (1,),name = 'item'))\n",
    "model_item.add(Embedding(\n",
    "    input_dim = num_unique_item+1,\n",
    "    output_dim = embedding_dim,\n",
    "    input_length = train_data.shape[0]\n",
    "))\n",
    "model_item.add(Flatten())\n",
    "\n",
    "merge_model = dot([model_user.output, model_item.output], axes = 1, normalize = True)\n",
    "dense1 = Dense(32, activation='relu')(merge_model)\n",
    "drop1 = Dropout(0.2)(dense1)\n",
    "dense2 = Dense(8, activation='relu')(drop1)\n",
    "drop2 = Dropout(0.2)(dense2)\n",
    "output_layer = Dense(1, activation='relu')(drop2)\n",
    "# output_layer = Dense(1, activation='softmax')(drop2)\n",
    "# output_layer = Lambda(lambda x: x*4+1)(output_layer1)\n",
    "\n",
    "model = Model([model_user.input, model_item.input], output_layer)\n",
    "\n",
    "\n",
    "opt = tf.keras.optimizers.Adam(learning_rate = 0.0001,amsgrad = True)\n",
    "\n",
    "model.compile(optimizer=opt,loss = 'mean_squared_error')\n"
   ]
  },
  {
   "cell_type": "code",
   "execution_count": 62,
   "id": "da72c6cb-4f1d-4f28-a834-c35f5aad13ac",
   "metadata": {},
   "outputs": [
    {
     "name": "stdout",
     "output_type": "stream",
     "text": [
      "Epoch 1/10\n",
      "6400/6400 [==============================] - 4s 555us/step - loss: 0.2146\n",
      "Epoch 2/10\n",
      "6400/6400 [==============================] - 4s 553us/step - loss: 0.2133\n",
      "Epoch 3/10\n",
      "6400/6400 [==============================] - 4s 553us/step - loss: 0.2141\n",
      "Epoch 4/10\n",
      "6400/6400 [==============================] - 4s 552us/step - loss: 0.2128\n",
      "Epoch 5/10\n",
      "6400/6400 [==============================] - 3s 546us/step - loss: 0.2158\n",
      "Epoch 6/10\n",
      "6400/6400 [==============================] - 3s 546us/step - loss: 0.2139\n",
      "Epoch 7/10\n",
      "6400/6400 [==============================] - 4s 560us/step - loss: 0.2115\n",
      "Epoch 8/10\n",
      "6400/6400 [==============================] - 4s 550us/step - loss: 0.2144\n",
      "Epoch 9/10\n",
      "6400/6400 [==============================] - 4s 560us/step - loss: 0.2149\n",
      "Epoch 10/10\n",
      "6400/6400 [==============================] - 3s 545us/step - loss: 0.2128\n"
     ]
    },
    {
     "data": {
      "text/plain": [
       "<tensorflow.python.keras.callbacks.History at 0x1ed0da880f0>"
      ]
     },
     "execution_count": 62,
     "metadata": {},
     "output_type": "execute_result"
    }
   ],
   "source": [
    "model.fit([train_data.userid, train_data.itemid], train_data.rating, batch_size = 10, epochs = 10)\n",
    "#          validation_data = ([test_data.userid, test_data.itemid],test_data.rating))"
   ]
  },
  {
   "cell_type": "code",
   "execution_count": 63,
   "id": "5229c143-e0a8-4316-a9f3-3edff8749562",
   "metadata": {},
   "outputs": [],
   "source": [
    "pred = model.predict([test_data.userid, test_data.itemid])"
   ]
  },
  {
   "cell_type": "code",
   "execution_count": 58,
   "id": "406d3a2d-8996-4386-9cf1-4497683446b4",
   "metadata": {},
   "outputs": [
    {
     "name": "stderr",
     "output_type": "stream",
     "text": [
      "c:\\users\\user\\anaconda3\\envs\\py36\\lib\\site-packages\\pandas\\core\\series.py:726: RuntimeWarning: invalid value encountered in sqrt\n",
      "  result = getattr(ufunc, method)(*inputs, **kwargs)\n"
     ]
    },
    {
     "data": {
      "text/plain": [
       "0.8853245285444075"
      ]
     },
     "execution_count": 58,
     "metadata": {},
     "output_type": "execute_result"
    }
   ],
   "source": [
    "np.mean(np.sqrt(pred.flatten() - test_data.rating))"
   ]
  },
  {
   "cell_type": "code",
   "execution_count": 65,
   "id": "cf803c2c-f701-47ce-9d4b-ad458406d143",
   "metadata": {},
   "outputs": [
    {
     "data": {
      "text/plain": [
       "1.0"
      ]
     },
     "execution_count": 65,
     "metadata": {},
     "output_type": "execute_result"
    }
   ],
   "source": [
    "pred.mean()"
   ]
  },
  {
   "cell_type": "code",
   "execution_count": 43,
   "id": "7901998f-5f77-48e1-8662-365834f35e0c",
   "metadata": {},
   "outputs": [
    {
     "name": "stdout",
     "output_type": "stream",
     "text": [
      "Model: \"model_4\"\n",
      "__________________________________________________________________________________________________\n",
      "Layer (type)                    Output Shape         Param #     Connected to                     \n",
      "==================================================================================================\n",
      "user (InputLayer)               [(None, 1)]          0                                            \n",
      "__________________________________________________________________________________________________\n",
      "item (InputLayer)               [(None, 1)]          0                                            \n",
      "__________________________________________________________________________________________________\n",
      "embedding_14 (Embedding)        (None, 1, 16)        15104       user[0][0]                       \n",
      "__________________________________________________________________________________________________\n",
      "embedding_15 (Embedding)        (None, 1, 16)        26928       item[0][0]                       \n",
      "__________________________________________________________________________________________________\n",
      "flatten_14 (Flatten)            (None, 16)           0           embedding_14[0][0]               \n",
      "__________________________________________________________________________________________________\n",
      "flatten_15 (Flatten)            (None, 16)           0           embedding_15[0][0]               \n",
      "__________________________________________________________________________________________________\n",
      "dot_5 (Dot)                     (None, 1)            0           flatten_14[0][0]                 \n",
      "                                                                 flatten_15[0][0]                 \n",
      "__________________________________________________________________________________________________\n",
      "dense_12 (Dense)                (None, 32)           64          dot_5[0][0]                      \n",
      "__________________________________________________________________________________________________\n",
      "dropout_8 (Dropout)             (None, 32)           0           dense_12[0][0]                   \n",
      "__________________________________________________________________________________________________\n",
      "dense_13 (Dense)                (None, 8)            264         dropout_8[0][0]                  \n",
      "__________________________________________________________________________________________________\n",
      "dropout_9 (Dropout)             (None, 8)            0           dense_13[0][0]                   \n",
      "__________________________________________________________________________________________________\n",
      "dense_14 (Dense)                (None, 1)            9           dropout_9[0][0]                  \n",
      "__________________________________________________________________________________________________\n",
      "lambda_4 (Lambda)               (None, 1)            0           dense_14[0][0]                   \n",
      "==================================================================================================\n",
      "Total params: 42,369\n",
      "Trainable params: 42,369\n",
      "Non-trainable params: 0\n",
      "__________________________________________________________________________________________________\n"
     ]
    }
   ],
   "source": [
    "model.summary()"
   ]
  },
  {
   "cell_type": "code",
   "execution_count": null,
   "id": "a7ca10c7-fe37-4179-888a-e9d24eee55fe",
   "metadata": {},
   "outputs": [],
   "source": []
  }
 ],
 "metadata": {
  "kernelspec": {
   "display_name": "Python 3",
   "language": "python",
   "name": "python3"
  },
  "language_info": {
   "codemirror_mode": {
    "name": "ipython",
    "version": 3
   },
   "file_extension": ".py",
   "mimetype": "text/x-python",
   "name": "python",
   "nbconvert_exporter": "python",
   "pygments_lexer": "ipython3",
   "version": "3.6.13"
  }
 },
 "nbformat": 4,
 "nbformat_minor": 5
}
