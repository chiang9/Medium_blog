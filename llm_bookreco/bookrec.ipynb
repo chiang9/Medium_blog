{
 "cells": [
  {
   "cell_type": "markdown",
   "id": "d4cdb794-df45-4436-b06f-c0e9364694b0",
   "metadata": {},
   "source": [
    "# Book Recommendation with Retrieval Augmented Generation -- Vector Store\n",
    "\n",
    "In the ever-evolving landscape of book discovery, traditional recommendation systems often fall short. Large language models (LLMs) offer a promising new approach. By leveraging their ability to process vast amounts of text data, LLMs can delve into the intricacies of different genres, writing styles, and reader preferences. This newfound depth holds the potential to revolutionize book recommendations, leading readers not just to familiar tropes, but to truly personalized literary journeys.\n",
    "\n",
    "One of the exciting advancements in LLM-powered book recommendation systems is the integration of Retrieval-Augmented Generation (RAG). RAG functions as a sophisticated information retrieval tool for the LLM. By efficiently searching vast datasets of book information, RAG identifies titles with similar content and stylistic elements. This retrieved data empowers the LLM to move beyond simple similarity-based recommendations. RAG allows the LLM to grasp the underlying themes and narrative approaches that resonated with the user, enabling it to generate highly personalized suggestions that cater to the user's specific literary preferences.\n",
    "\n",
    "In this post, we are going to demonstrate how to build a simple vector store and retrieve the documents that are sementically relevant. \n",
    "\n",
    "## Data Set\n",
    "\n",
    "We will use a dataset from Kaggle\n",
    "\n",
    "source : https://www.kaggle.com/datasets/ishikajohari/best-books-10k-multi-genre-data/\n",
    "\n",
    "## Setup \n",
    "\n",
    "Vector Store: FAISS\n",
    "\n",
    "Embedding model:bert-base-uncased from Hugging face - [here](https://huggingface.co/google-bert/bert-base-uncased)"
   ]
  },
  {
   "cell_type": "code",
   "execution_count": 2,
   "id": "b800eb4d-4f25-4650-b5b6-8ef1b56ca0c7",
   "metadata": {},
   "outputs": [],
   "source": [
    "from dotenv import dotenv_values\n",
    "import os\n",
    "import requests\n",
    "import pandas as pd\n",
    "\n",
    "from langchain.chains import RetrievalQA\n",
    "from langchain.document_loaders import TextLoader\n",
    "from langchain.embeddings.openai import OpenAIEmbeddings\n",
    "from langchain.llms import OpenAI,HuggingFaceHub\n",
    "from langchain.text_splitter import CharacterTextSplitter\n",
    "from langchain.vectorstores import Chroma, FAISS\n",
    "from langchain.document_loaders.csv_loader import CSVLoader\n",
    "from langchain.prompts import PromptTemplate\n",
    "from langchain.embeddings import HuggingFaceEmbeddings\n",
    "import os\n",
    "\n",
    "# Load the API key, the key can be obtained from the huggingface website\n",
    "config = dotenv_values(\".env\")  \n",
    "HUGGINGFACEHUB_API_TOKEN = config['HUGGINGFACEHUB_API_TOKEN']\n",
    "os.environ[\"HUGGINGFACEHUB_API_TOKEN\"] = HUGGINGFACEHUB_API_TOKEN\n"
   ]
  },
  {
   "cell_type": "code",
   "execution_count": 3,
   "id": "c6589a07-b9f2-471f-ae79-73ef3e78ade3",
   "metadata": {},
   "outputs": [
    {
     "data": {
      "text/html": [
       "<div>\n",
       "<style scoped>\n",
       "    .dataframe tbody tr th:only-of-type {\n",
       "        vertical-align: middle;\n",
       "    }\n",
       "\n",
       "    .dataframe tbody tr th {\n",
       "        vertical-align: top;\n",
       "    }\n",
       "\n",
       "    .dataframe thead th {\n",
       "        text-align: right;\n",
       "    }\n",
       "</style>\n",
       "<table border=\"1\" class=\"dataframe\">\n",
       "  <thead>\n",
       "    <tr style=\"text-align: right;\">\n",
       "      <th></th>\n",
       "      <th>Book</th>\n",
       "      <th>Genres</th>\n",
       "      <th>Description</th>\n",
       "    </tr>\n",
       "  </thead>\n",
       "  <tbody>\n",
       "    <tr>\n",
       "      <th>0</th>\n",
       "      <td>To Kill a Mockingbird</td>\n",
       "      <td>['Classics', 'Fiction', 'Historical Fiction', ...</td>\n",
       "      <td>The unforgettable novel of a childhood in a sl...</td>\n",
       "    </tr>\n",
       "    <tr>\n",
       "      <th>1</th>\n",
       "      <td>Harry Potter and the Philosopher’s Stone (Harr...</td>\n",
       "      <td>['Fantasy', 'Fiction', 'Young Adult', 'Magic',...</td>\n",
       "      <td>Harry Potter thinks he is an ordinary boy - un...</td>\n",
       "    </tr>\n",
       "    <tr>\n",
       "      <th>2</th>\n",
       "      <td>Pride and Prejudice</td>\n",
       "      <td>['Classics', 'Fiction', 'Romance', 'Historical...</td>\n",
       "      <td>Since its immediate success in 1813, Pride and...</td>\n",
       "    </tr>\n",
       "    <tr>\n",
       "      <th>3</th>\n",
       "      <td>The Diary of a Young Girl</td>\n",
       "      <td>['Classics', 'Nonfiction', 'History', 'Biograp...</td>\n",
       "      <td>Discovered in the attic in which she spent the...</td>\n",
       "    </tr>\n",
       "    <tr>\n",
       "      <th>4</th>\n",
       "      <td>Animal Farm</td>\n",
       "      <td>['Classics', 'Fiction', 'Dystopia', 'Fantasy',...</td>\n",
       "      <td>Librarian's note: There is an Alternate Cover ...</td>\n",
       "    </tr>\n",
       "  </tbody>\n",
       "</table>\n",
       "</div>"
      ],
      "text/plain": [
       "                                                Book  \\\n",
       "0                              To Kill a Mockingbird   \n",
       "1  Harry Potter and the Philosopher’s Stone (Harr...   \n",
       "2                                Pride and Prejudice   \n",
       "3                          The Diary of a Young Girl   \n",
       "4                                        Animal Farm   \n",
       "\n",
       "                                              Genres  \\\n",
       "0  ['Classics', 'Fiction', 'Historical Fiction', ...   \n",
       "1  ['Fantasy', 'Fiction', 'Young Adult', 'Magic',...   \n",
       "2  ['Classics', 'Fiction', 'Romance', 'Historical...   \n",
       "3  ['Classics', 'Nonfiction', 'History', 'Biograp...   \n",
       "4  ['Classics', 'Fiction', 'Dystopia', 'Fantasy',...   \n",
       "\n",
       "                                         Description  \n",
       "0  The unforgettable novel of a childhood in a sl...  \n",
       "1  Harry Potter thinks he is an ordinary boy - un...  \n",
       "2  Since its immediate success in 1813, Pride and...  \n",
       "3  Discovered in the attic in which she spent the...  \n",
       "4  Librarian's note: There is an Alternate Cover ...  "
      ]
     },
     "execution_count": 3,
     "metadata": {},
     "output_type": "execute_result"
    }
   ],
   "source": [
    "df = pd.read_csv('../data/goodreads_data.csv').drop(['Unnamed: 0'],axis=1)\n",
    "df = df.assign( genre_len = lambda x:len(x['Genres']))\n",
    "df = df[df['genre_len']>0]\n",
    "df = df[['Book','Genres','Description']]\n",
    "df.to_csv('book_genre.csv',index=False)\n",
    "df.head()"
   ]
  },
  {
   "cell_type": "code",
   "execution_count": 4,
   "id": "57573134-d4aa-4649-8c42-15fa8019a775",
   "metadata": {},
   "outputs": [
    {
     "data": {
      "text/plain": [
       "(10000, 3)"
      ]
     },
     "execution_count": 4,
     "metadata": {},
     "output_type": "execute_result"
    }
   ],
   "source": [
    "df.shape"
   ]
  },
  {
   "cell_type": "code",
   "execution_count": 5,
   "id": "25cbb7a3-fa47-441e-90b2-36af555d92eb",
   "metadata": {},
   "outputs": [],
   "source": [
    "#data loader\n",
    "loader = CSVLoader(file_path=\"book_genre.csv\",encoding='utf-8')\n",
    "data = loader.load()\n",
    "\n",
    "#data transformers\n",
    "text_splitter = CharacterTextSplitter(chunk_size=2000, chunk_overlap=0)\n",
    "texts = text_splitter.split_documents(data)"
   ]
  },
  {
   "cell_type": "code",
   "execution_count": 6,
   "id": "ea9c9abb-db44-46d5-96c1-7cdedf154e2a",
   "metadata": {},
   "outputs": [
    {
     "data": {
      "text/plain": [
       "10013"
      ]
     },
     "execution_count": 6,
     "metadata": {},
     "output_type": "execute_result"
    }
   ],
   "source": [
    "len(texts)"
   ]
  },
  {
   "cell_type": "code",
   "execution_count": 9,
   "id": "3a5e5588-4650-4fb6-b64e-8bb82d66ab6b",
   "metadata": {},
   "outputs": [
    {
     "data": {
      "text/plain": [
       "Document(page_content=\"Book: Harry Potter and the Philosopher’s Stone (Harry Potter, #1)\\nGenres: ['Fantasy', 'Fiction', 'Young Adult', 'Magic', 'Childrens', 'Middle Grade', 'Classics']\\nDescription: Harry Potter thinks he is an ordinary boy - until he is rescued by an owl, taken to Hogwarts School of Witchcraft and Wizardry, learns to play Quidditch and does battle in a deadly duel. The Reason ... HARRY POTTER IS A WIZARD!\", metadata={'source': 'book_genre.csv', 'row': 1})"
      ]
     },
     "execution_count": 9,
     "metadata": {},
     "output_type": "execute_result"
    }
   ],
   "source": [
    "texts[1]"
   ]
  },
  {
   "cell_type": "code",
   "execution_count": 10,
   "id": "d1180ae8-d1f9-445b-bc93-2ce85433b369",
   "metadata": {},
   "outputs": [
    {
     "name": "stderr",
     "output_type": "stream",
     "text": [
      "C:\\Users\\User\\anaconda3\\envs\\llm_google\\Lib\\site-packages\\tqdm\\auto.py:21: TqdmWarning: IProgress not found. Please update jupyter and ipywidgets. See https://ipywidgets.readthedocs.io/en/stable/user_install.html\n",
      "  from .autonotebook import tqdm as notebook_tqdm\n",
      "No sentence-transformers model found with name bert-base-uncased. Creating a new one with MEAN pooling.\n",
      "C:\\Users\\User\\anaconda3\\envs\\llm_google\\Lib\\site-packages\\huggingface_hub\\file_download.py:1132: FutureWarning: `resume_download` is deprecated and will be removed in version 1.0.0. Downloads always resume when possible. If you want to force a new download, use `force_download=True`.\n",
      "  warnings.warn(\n"
     ]
    }
   ],
   "source": [
    "embeddings = HuggingFaceEmbeddings(model_name='bert-base-uncased')"
   ]
  },
  {
   "cell_type": "markdown",
   "id": "d59f29f8-84e8-4632-9ac6-3eb0f853ddf0",
   "metadata": {},
   "source": [
    "The embedding process might take a while. \n",
    "\n",
    "In this example, we will only sample the top 1000 documents."
   ]
  },
  {
   "cell_type": "code",
   "execution_count": 11,
   "id": "72113673-03a1-4fbb-93e5-7e393440f1df",
   "metadata": {},
   "outputs": [
    {
     "name": "stdout",
     "output_type": "stream",
     "text": [
      "CPU times: total: 58min 47s\n",
      "Wall time: 6min 3s\n"
     ]
    }
   ],
   "source": [
    "%%time\n",
    "docsearch = FAISS.from_documents(texts[0:1000], embeddings)\n",
    "retriever=docsearch.as_retriever()\n",
    "# docsearch.save_local(\"faiss_store1\")"
   ]
  },
  {
   "cell_type": "markdown",
   "id": "e11c8bd7-1396-4c2b-8a47-401545476950",
   "metadata": {},
   "source": [
    "With the document retriever object, we are able to performe the semantic search with it"
   ]
  },
  {
   "cell_type": "code",
   "execution_count": 12,
   "id": "f6536864-9155-46e5-8269-082b3f27f5c5",
   "metadata": {},
   "outputs": [
    {
     "name": "stdout",
     "output_type": "stream",
     "text": [
      "Book: Eleanor & Park\n",
      "Genres: ['Young Adult', 'Romance', 'Contemporary', 'Fiction', 'Realistic Fiction', 'Audiobook', 'Teen']\n",
      "\n",
      "\n",
      "Book: Are You There God? It's Me, Margaret\n",
      "Genres: ['Young Adult', 'Fiction', 'Childrens', 'Classics', 'Middle Grade', 'Coming Of Age', 'Realistic Fiction']\n",
      "\n",
      "\n",
      "Book: The Paper Bag Princess\n",
      "Genres: ['Picture Books', 'Childrens', 'Fantasy', 'Fiction', 'Dragons', 'Classics', 'Fairy Tales']\n",
      "\n",
      "\n",
      "Book: The Velveteen Rabbit\n",
      "Genres: ['Classics', 'Childrens', 'Fiction', 'Picture Books', 'Fantasy', 'Animals', 'Young Adult']\n",
      "\n",
      "\n",
      "CPU times: total: 578 ms\n",
      "Wall time: 69 ms\n"
     ]
    }
   ],
   "source": [
    "%%time\n",
    "ans = docsearch.similarity_search(\"I want some fantasy book\", n=5)\n",
    "for detail in ans:\n",
    "    print(detail.page_content.split('\\n')[0])\n",
    "    print(detail.page_content.split('\\n')[1])\n",
    "    print('\\n')"
   ]
  },
  {
   "cell_type": "markdown",
   "id": "310e52a5-0adf-4b41-8c1d-dfcb6e7cf0b4",
   "metadata": {},
   "source": [
    "## Data Preprocessing\n",
    "\n",
    "In the next session, we are going to perform some Natural Language Processing (NLP) data preprocessing to the description part, and we can compare the result."
   ]
  },
  {
   "cell_type": "code",
   "execution_count": 13,
   "id": "23bb9a3e-4176-4e46-8aed-fbcbc6b69f99",
   "metadata": {},
   "outputs": [
    {
     "name": "stderr",
     "output_type": "stream",
     "text": [
      "[nltk_data] Downloading package wordnet to\n",
      "[nltk_data]     C:\\Users\\User\\AppData\\Roaming\\nltk_data...\n",
      "[nltk_data]   Package wordnet is already up-to-date!\n",
      "[nltk_data] Downloading package punkt to\n",
      "[nltk_data]     C:\\Users\\User\\AppData\\Roaming\\nltk_data...\n",
      "[nltk_data]   Package punkt is already up-to-date!\n",
      "[nltk_data] Downloading package stopwords to\n",
      "[nltk_data]     C:\\Users\\User\\AppData\\Roaming\\nltk_data...\n",
      "[nltk_data]   Package stopwords is already up-to-date!\n"
     ]
    }
   ],
   "source": [
    "import pandas as pd\n",
    "import numpy as np\n",
    "import nltk\n",
    "nltk.download('wordnet')\n",
    "nltk.download('punkt')\n",
    "nltk.download('stopwords')\n",
    "import re\n",
    "from bs4 import BeautifulSoup\n",
    "import csv\n",
    "\n",
    "from nltk.corpus import stopwords\n",
    "from nltk.stem import WordNetLemmatizer\n",
    "from sklearn.feature_extraction.text import TfidfVectorizer"
   ]
  },
  {
   "cell_type": "code",
   "execution_count": 14,
   "id": "5b521089-0a7a-447b-8dbb-f83169775021",
   "metadata": {},
   "outputs": [],
   "source": [
    "def remove_url(review):\n",
    "    try:\n",
    "        res = re.sub(r'http\\S+', '', review)\n",
    "        res = BeautifulSoup(res,\"html.parser\").get_text()\n",
    "    except:\n",
    "        return review\n",
    "    return res\n",
    "\n",
    "def remove_non_alphabetic(review):\n",
    "    try:\n",
    "        return re.sub(\"[^a-zA-Z\\s]+\", \"\", review)\n",
    "    except:\n",
    "        return review\n",
    "\n",
    "def remove_extra_spaces(review):\n",
    "    try:\n",
    "        return ' '.join(review.split())\n",
    "    except:\n",
    "        return review\n",
    "\n",
    "def contractionfunction(s):\n",
    "    try:\n",
    "        s = re.sub(r\"won\\'t\", \"will not\", s)\n",
    "        s = re.sub(r\"can\\'t\", \"can not\", s)\n",
    "        s = re.sub(r\"n\\'t\", \" not\", s)\n",
    "        s = re.sub(r\"\\'re\", \" are\", s)\n",
    "        s = re.sub(r\"\\'s\", \" is\", s)\n",
    "        s = re.sub(r\"\\'d\", \" would\", s)\n",
    "        s = re.sub(r\"\\'ll\", \" will\", s)\n",
    "        s = re.sub(r\"\\'t\", \" not\", s)\n",
    "        s = re.sub(r\"\\'ve\", \" have\", s)\n",
    "        s = re.sub(r\"\\'m\", \" am\", s)\n",
    "        return s\n",
    "    except:\n",
    "        return s\n",
    "\n",
    "def lemmatize_text(text, tokenizer, lemmatizer):\n",
    "    try:\n",
    "        return \" \".join([lemmatizer.lemmatize(w) for w in tokenizer.tokenize(text)])\n",
    "    except:\n",
    "        return text\n"
   ]
  },
  {
   "cell_type": "code",
   "execution_count": 15,
   "id": "79f663af-f916-45a2-91bb-aa66c814ab36",
   "metadata": {},
   "outputs": [],
   "source": [
    "df['Preprocessed_description'] = df['Description']"
   ]
  },
  {
   "cell_type": "code",
   "execution_count": 19,
   "id": "92544449-464f-4eac-b766-2b97b55380c5",
   "metadata": {},
   "outputs": [
    {
     "name": "stdout",
     "output_type": "stream",
     "text": [
      "Average length of review before and after data cleaning\n",
      "956.1368537740602, 915.5401592260405\n",
      "Average length of review before and after preprocessing\n",
      "915.5401592260405, 900.0581477375794\n"
     ]
    }
   ],
   "source": [
    "# data cleaning\n",
    "# convert to lower case\n",
    "df['Preprocessed_description'] = df['Preprocessed_description'].str.lower()\n",
    "\n",
    "# remove html and urls\n",
    "df['Preprocessed_description'] = df['Preprocessed_description'].apply(lambda x: remove_url(x))\n",
    "\n",
    "# remove non-alphabetical characters\n",
    "df['Preprocessed_description'] = df['Preprocessed_description'].apply(lambda x: remove_non_alphabetic(x))\n",
    "\n",
    "# remove extra spaces\n",
    "df['Preprocessed_description'] = df['Preprocessed_description'].apply(lambda x: remove_extra_spaces(x))\n",
    "\n",
    "# perform contractions\n",
    "df['Preprocessed_description'] = df['Preprocessed_description'].apply(lambda x: contractionfunction(x))\n",
    "\n",
    "\n",
    "# print the average length of review before and after the data cleaning\n",
    "print(f\"Average length of review before and after data cleaning\")\n",
    "print(f'{df.Description.str.len().mean()}, {df.Preprocessed_description.str.len().mean()}')\n",
    "\n",
    "# preprocessing\n",
    "# remove stop words\n",
    "pattern = r'\\b(?:{})\\b'.format('|'.join(stopwords.words('english')))\n",
    "df['Preprocessed_description'] = df['Preprocessed_description'].str.replace(pattern, \"\").str.replace(r'\\s+', ' ')\n",
    "\n",
    "# perform lemmatization\n",
    "tokenizer = nltk.tokenize.WhitespaceTokenizer()\n",
    "lemmatizer = WordNetLemmatizer()\n",
    "\n",
    "df['lemmatized_description'] = df['Preprocessed_description'].apply(lambda x: lemmatize_text(x, tokenizer, lemmatizer))\n",
    "\n",
    "\n",
    "print(f\"Average length of review before and after preprocessing\")\n",
    "print(f'{df.Preprocessed_description.str.len().mean()}, {df.lemmatized_description.str.len().mean()}')"
   ]
  },
  {
   "cell_type": "code",
   "execution_count": 21,
   "id": "e0d23a9e-da60-4ffb-adc1-0e424faef8f8",
   "metadata": {},
   "outputs": [
    {
     "data": {
      "text/html": [
       "<div>\n",
       "<style scoped>\n",
       "    .dataframe tbody tr th:only-of-type {\n",
       "        vertical-align: middle;\n",
       "    }\n",
       "\n",
       "    .dataframe tbody tr th {\n",
       "        vertical-align: top;\n",
       "    }\n",
       "\n",
       "    .dataframe thead th {\n",
       "        text-align: right;\n",
       "    }\n",
       "</style>\n",
       "<table border=\"1\" class=\"dataframe\">\n",
       "  <thead>\n",
       "    <tr style=\"text-align: right;\">\n",
       "      <th></th>\n",
       "      <th>Book</th>\n",
       "      <th>Genres</th>\n",
       "      <th>Description</th>\n",
       "      <th>Preprocessed_description</th>\n",
       "      <th>lemmatized_description</th>\n",
       "    </tr>\n",
       "  </thead>\n",
       "  <tbody>\n",
       "    <tr>\n",
       "      <th>0</th>\n",
       "      <td>To Kill a Mockingbird</td>\n",
       "      <td>['Classics', 'Fiction', 'Historical Fiction', ...</td>\n",
       "      <td>The unforgettable novel of a childhood in a sl...</td>\n",
       "      <td>the unforgettable novel of a childhood in a sl...</td>\n",
       "      <td>the unforgettable novel of a childhood in a sl...</td>\n",
       "    </tr>\n",
       "    <tr>\n",
       "      <th>1</th>\n",
       "      <td>Harry Potter and the Philosopher’s Stone (Harr...</td>\n",
       "      <td>['Fantasy', 'Fiction', 'Young Adult', 'Magic',...</td>\n",
       "      <td>Harry Potter thinks he is an ordinary boy - un...</td>\n",
       "      <td>harry potter thinks he is an ordinary boy unti...</td>\n",
       "      <td>harry potter think he is an ordinary boy until...</td>\n",
       "    </tr>\n",
       "    <tr>\n",
       "      <th>2</th>\n",
       "      <td>Pride and Prejudice</td>\n",
       "      <td>['Classics', 'Fiction', 'Romance', 'Historical...</td>\n",
       "      <td>Since its immediate success in 1813, Pride and...</td>\n",
       "      <td>since its immediate success in pride and preju...</td>\n",
       "      <td>since it immediate success in pride and prejud...</td>\n",
       "    </tr>\n",
       "    <tr>\n",
       "      <th>3</th>\n",
       "      <td>The Diary of a Young Girl</td>\n",
       "      <td>['Classics', 'Nonfiction', 'History', 'Biograp...</td>\n",
       "      <td>Discovered in the attic in which she spent the...</td>\n",
       "      <td>discovered in the attic in which she spent the...</td>\n",
       "      <td>discovered in the attic in which she spent the...</td>\n",
       "    </tr>\n",
       "    <tr>\n",
       "      <th>4</th>\n",
       "      <td>Animal Farm</td>\n",
       "      <td>['Classics', 'Fiction', 'Dystopia', 'Fantasy',...</td>\n",
       "      <td>Librarian's note: There is an Alternate Cover ...</td>\n",
       "      <td>librarians note there is an alternate cover ed...</td>\n",
       "      <td>librarian note there is an alternate cover edi...</td>\n",
       "    </tr>\n",
       "  </tbody>\n",
       "</table>\n",
       "</div>"
      ],
      "text/plain": [
       "                                                Book  \\\n",
       "0                              To Kill a Mockingbird   \n",
       "1  Harry Potter and the Philosopher’s Stone (Harr...   \n",
       "2                                Pride and Prejudice   \n",
       "3                          The Diary of a Young Girl   \n",
       "4                                        Animal Farm   \n",
       "\n",
       "                                              Genres  \\\n",
       "0  ['Classics', 'Fiction', 'Historical Fiction', ...   \n",
       "1  ['Fantasy', 'Fiction', 'Young Adult', 'Magic',...   \n",
       "2  ['Classics', 'Fiction', 'Romance', 'Historical...   \n",
       "3  ['Classics', 'Nonfiction', 'History', 'Biograp...   \n",
       "4  ['Classics', 'Fiction', 'Dystopia', 'Fantasy',...   \n",
       "\n",
       "                                         Description  \\\n",
       "0  The unforgettable novel of a childhood in a sl...   \n",
       "1  Harry Potter thinks he is an ordinary boy - un...   \n",
       "2  Since its immediate success in 1813, Pride and...   \n",
       "3  Discovered in the attic in which she spent the...   \n",
       "4  Librarian's note: There is an Alternate Cover ...   \n",
       "\n",
       "                            Preprocessed_description  \\\n",
       "0  the unforgettable novel of a childhood in a sl...   \n",
       "1  harry potter thinks he is an ordinary boy unti...   \n",
       "2  since its immediate success in pride and preju...   \n",
       "3  discovered in the attic in which she spent the...   \n",
       "4  librarians note there is an alternate cover ed...   \n",
       "\n",
       "                              lemmatized_description  \n",
       "0  the unforgettable novel of a childhood in a sl...  \n",
       "1  harry potter think he is an ordinary boy until...  \n",
       "2  since it immediate success in pride and prejud...  \n",
       "3  discovered in the attic in which she spent the...  \n",
       "4  librarian note there is an alternate cover edi...  "
      ]
     },
     "execution_count": 21,
     "metadata": {},
     "output_type": "execute_result"
    }
   ],
   "source": [
    "df.head()"
   ]
  },
  {
   "cell_type": "code",
   "execution_count": 41,
   "id": "e034fc26-85f9-49a8-b12c-ae0a929fbd18",
   "metadata": {},
   "outputs": [
    {
     "data": {
      "text/html": [
       "<div>\n",
       "<style scoped>\n",
       "    .dataframe tbody tr th:only-of-type {\n",
       "        vertical-align: middle;\n",
       "    }\n",
       "\n",
       "    .dataframe tbody tr th {\n",
       "        vertical-align: top;\n",
       "    }\n",
       "\n",
       "    .dataframe thead th {\n",
       "        text-align: right;\n",
       "    }\n",
       "</style>\n",
       "<table border=\"1\" class=\"dataframe\">\n",
       "  <thead>\n",
       "    <tr style=\"text-align: right;\">\n",
       "      <th></th>\n",
       "      <th>Book</th>\n",
       "      <th>Genres</th>\n",
       "      <th>Description</th>\n",
       "      <th>lemmatized_review</th>\n",
       "    </tr>\n",
       "  </thead>\n",
       "  <tbody>\n",
       "    <tr>\n",
       "      <th>0</th>\n",
       "      <td>To Kill a Mockingbird</td>\n",
       "      <td>['Classics', 'Fiction', 'Historical Fiction', ...</td>\n",
       "      <td>the unforgettable novel of a childhood in a sl...</td>\n",
       "      <td>the unforgettable novel of a childhood in a sl...</td>\n",
       "    </tr>\n",
       "    <tr>\n",
       "      <th>1</th>\n",
       "      <td>Harry Potter and the Philosopher’s Stone (Harr...</td>\n",
       "      <td>['Fantasy', 'Fiction', 'Young Adult', 'Magic',...</td>\n",
       "      <td>harry potter thinks he is an ordinary boy unti...</td>\n",
       "      <td>harry potter think he is an ordinary boy until...</td>\n",
       "    </tr>\n",
       "    <tr>\n",
       "      <th>2</th>\n",
       "      <td>Pride and Prejudice</td>\n",
       "      <td>['Classics', 'Fiction', 'Romance', 'Historical...</td>\n",
       "      <td>since its immediate success in pride and preju...</td>\n",
       "      <td>since it immediate success in pride and prejud...</td>\n",
       "    </tr>\n",
       "    <tr>\n",
       "      <th>3</th>\n",
       "      <td>The Diary of a Young Girl</td>\n",
       "      <td>['Classics', 'Nonfiction', 'History', 'Biograp...</td>\n",
       "      <td>discovered in the attic in which she spent the...</td>\n",
       "      <td>discovered in the attic in which she spent the...</td>\n",
       "    </tr>\n",
       "    <tr>\n",
       "      <th>4</th>\n",
       "      <td>Animal Farm</td>\n",
       "      <td>['Classics', 'Fiction', 'Dystopia', 'Fantasy',...</td>\n",
       "      <td>librarians note there is an alternate cover ed...</td>\n",
       "      <td>librarian note there is an alternate cover edi...</td>\n",
       "    </tr>\n",
       "  </tbody>\n",
       "</table>\n",
       "</div>"
      ],
      "text/plain": [
       "                                                Book  \\\n",
       "0                              To Kill a Mockingbird   \n",
       "1  Harry Potter and the Philosopher’s Stone (Harr...   \n",
       "2                                Pride and Prejudice   \n",
       "3                          The Diary of a Young Girl   \n",
       "4                                        Animal Farm   \n",
       "\n",
       "                                              Genres  \\\n",
       "0  ['Classics', 'Fiction', 'Historical Fiction', ...   \n",
       "1  ['Fantasy', 'Fiction', 'Young Adult', 'Magic',...   \n",
       "2  ['Classics', 'Fiction', 'Romance', 'Historical...   \n",
       "3  ['Classics', 'Nonfiction', 'History', 'Biograp...   \n",
       "4  ['Classics', 'Fiction', 'Dystopia', 'Fantasy',...   \n",
       "\n",
       "                                         Description  \\\n",
       "0  the unforgettable novel of a childhood in a sl...   \n",
       "1  harry potter thinks he is an ordinary boy unti...   \n",
       "2  since its immediate success in pride and preju...   \n",
       "3  discovered in the attic in which she spent the...   \n",
       "4  librarians note there is an alternate cover ed...   \n",
       "\n",
       "                                   lemmatized_review  \n",
       "0  the unforgettable novel of a childhood in a sl...  \n",
       "1  harry potter think he is an ordinary boy until...  \n",
       "2  since it immediate success in pride and prejud...  \n",
       "3  discovered in the attic in which she spent the...  \n",
       "4  librarian note there is an alternate cover edi...  "
      ]
     },
     "execution_count": 41,
     "metadata": {},
     "output_type": "execute_result"
    }
   ],
   "source": [
    "df_all = df_all[['Book','Genres','lemmatized_review']]\n",
    "df.to_csv('book_genre_lemmatized_review.csv',index=False)\n",
    "df.head()"
   ]
  },
  {
   "cell_type": "code",
   "execution_count": 42,
   "id": "603d6491-7364-4016-bb8e-0556f6adfb67",
   "metadata": {},
   "outputs": [],
   "source": [
    "#data loader\n",
    "loader = CSVLoader('book_genre_lemmatized_review.csv',encoding='utf-8')\n",
    "data = loader.load()\n",
    "\n",
    "#data transformers\n",
    "text_splitter = CharacterTextSplitter(chunk_size=2000, chunk_overlap=0)\n",
    "texts = text_splitter.split_documents(data)"
   ]
  },
  {
   "cell_type": "code",
   "execution_count": 48,
   "id": "d55cd31c-9176-46e9-97b5-aec4d155a831",
   "metadata": {},
   "outputs": [
    {
     "data": {
      "text/plain": [
       "Document(page_content=\"Book: To Kill a Mockingbird\\nGenres: ['Classics', 'Fiction', 'Historical Fiction', 'School', 'Literature', 'Young Adult', 'Historical']\\nDescription: the unforgettable novel of a childhood in a sleepy southern town and the crisis of conscience that rocked it to kill a mockingbird became both an instant bestseller and a critical success when it was first published in it went on to win the pulitzer prize in and was later made into an academy awardwinning film also a classiccompassionate dramatic and deeply moving to kill a mockingbird takes readers to the roots of human behavior to innocence and experience kindness and cruelty love and hatred humor and pathos now with over million copies in print and translated into forty languages this regional story by a young alabama woman claims universal appeal harper lee always considered her book to be a simple love story today it is regarded as a masterpiece of american literature\\nlemmatized_review: the unforgettable novel of a childhood in a sleepy southern town and the crisis of conscience that rocked it to kill a mockingbird became both an instant bestseller and a critical success when it wa first published in it went on to win the pulitzer prize in and wa later made into an academy awardwinning film also a classiccompassionate dramatic and deeply moving to kill a mockingbird take reader to the root of human behavior to innocence and experience kindness and cruelty love and hatred humor and pathos now with over million copy in print and translated into forty language this regional story by a young alabama woman claim universal appeal harper lee always considered her book to be a simple love story today it is regarded a a masterpiece of american literature\", metadata={'source': 'book_genre_lemmatized_review.csv', 'row': 0})"
      ]
     },
     "execution_count": 48,
     "metadata": {},
     "output_type": "execute_result"
    }
   ],
   "source": [
    "texts[0]"
   ]
  },
  {
   "cell_type": "code",
   "execution_count": 43,
   "id": "ad798723-5018-4234-b0c2-dbc48a90d13b",
   "metadata": {},
   "outputs": [
    {
     "name": "stdout",
     "output_type": "stream",
     "text": [
      "CPU times: total: 14min 6s\n",
      "Wall time: 1min 26s\n"
     ]
    }
   ],
   "source": [
    "%%time\n",
    "#Fill Vector DB\n",
    "docsearch2 = FAISS.from_documents(texts[0:200], embeddings)\n",
    "# docsearch = Chroma.from_documents(texts, embeddings)\n",
    "retriever2 = docsearch2.as_retriever()"
   ]
  },
  {
   "cell_type": "code",
   "execution_count": 44,
   "id": "99c7f098-8afc-4d55-8d7e-0d2c3eb6974e",
   "metadata": {},
   "outputs": [
    {
     "name": "stdout",
     "output_type": "stream",
     "text": [
      "Book: Harry Potter and the Goblet of Fire (Harry Potter, #4)\n",
      "Genres: ['Fantasy', 'Young Adult', 'Fiction', 'Magic', 'Childrens', 'Middle Grade', 'Audiobook']\n",
      "Description: it is the summer holidays and soon harry potter will be starting his fourth year at hogwarts school of witchcraft and wizardry harry is counting the days there are new spells to be learnt more quidditch to be played and hogwarts castle to continue exploring but harry needs to be careful there are unexpected dangers lurking\n",
      "lemmatized_review: it is the summer holiday and soon harry potter will be starting his fourth year at hogwarts school of witchcraft and wizardry harry is counting the day there are new spell to be learnt more quidditch to be played and hogwarts castle to continue exploring but harry need to be careful there are unexpected danger lurking\n",
      "CPU times: total: 438 ms\n",
      "Wall time: 46 ms\n"
     ]
    }
   ],
   "source": [
    "%%time\n",
    "ans = docsearch2.similarity_search(\"I want something other than harry potter\", n=5)\n",
    "print(ans[0].page_content)"
   ]
  },
  {
   "cell_type": "code",
   "execution_count": 52,
   "id": "cbae5e8d-7046-4a3a-a89d-e70e02945216",
   "metadata": {},
   "outputs": [
    {
     "name": "stdout",
     "output_type": "stream",
     "text": [
      "Book: Harry Potter and the Goblet of Fire (Harry Potter, #4)\n",
      "Book: Harry Potter and the Philosopher’s Stone (Harry Potter, #1)\n",
      "Book: Harry Potter and the Prisoner of Azkaban (Harry Potter, #3)\n",
      "Book: Winnie-the-Pooh (Winnie-the-Pooh #1)\n"
     ]
    }
   ],
   "source": [
    "for detail in ans:\n",
    "    print(detail.page_content.split('\\n')[0])"
   ]
  },
  {
   "cell_type": "code",
   "execution_count": 61,
   "id": "18871531-4684-4085-9a80-4ed11d8e770c",
   "metadata": {},
   "outputs": [],
   "source": [
    "def compare_docsearch(q):\n",
    "    ans = docsearch.similarity_search(q, n=5)\n",
    "    ans2 = docsearch2.similarity_search(q, n=5)\n",
    "    \n",
    "    print(f\"original docsearch: \")\n",
    "    for detail in ans:\n",
    "        print(detail.page_content.split('\\n')[0])\n",
    "        print(detail.page_content.split('\\n')[1])\n",
    "        print('\\n')\n",
    "\n",
    "    print('----------------------')\n",
    "    print(f\"preprocessed docsearch: \")\n",
    "    for detail in ans2:\n",
    "        print(detail.page_content.split('\\n')[0])\n",
    "        print(detail.page_content.split('\\n')[1])\n",
    "        print('\\n')\n"
   ]
  },
  {
   "cell_type": "code",
   "execution_count": 64,
   "id": "622efda1-6b82-404b-974d-ac28ef89fc2a",
   "metadata": {},
   "outputs": [
    {
     "name": "stdout",
     "output_type": "stream",
     "text": [
      "original docsearch: \n",
      "Book: The Velveteen Rabbit\n",
      "Genres: ['Classics', 'Childrens', 'Fiction', 'Picture Books', 'Fantasy', 'Animals', 'Young Adult']\n",
      "\n",
      "\n",
      "Book: Charlie and the Chocolate Factory (Charlie Bucket, #1)\n",
      "Genres: ['Childrens', 'Fiction', 'Fantasy', 'Classics', 'Young Adult', 'Middle Grade', 'Humor']\n",
      "\n",
      "\n",
      "Book: The Complete Grimm's Fairy Tales\n",
      "Genres: ['Classics', 'Fantasy', 'Fiction', 'Fairy Tales', 'Short Stories', 'Childrens', 'Literature']\n",
      "\n",
      "\n",
      "Book: The Cat in the Hat (The Cat in the Hat, #1)\n",
      "Genres: ['Childrens', 'Picture Books', 'Classics', 'Fiction', 'Poetry', 'Fantasy', 'Humor']\n",
      "\n",
      "\n",
      "----------------------\n",
      "preprocessed docsearch: \n",
      "Book: Charlie and the Chocolate Factory (Charlie Bucket, #1)\n",
      "Genres: ['Childrens', 'Fiction', 'Fantasy', 'Classics', 'Young Adult', 'Middle Grade', 'Humor']\n",
      "\n",
      "\n",
      "Book: Where the Wild Things Are\n",
      "Genres: ['Childrens', 'Picture Books', 'Fiction', 'Classics', 'Fantasy', 'Adventure', 'Young Adult']\n",
      "\n",
      "\n",
      "Book: The Velveteen Rabbit\n",
      "Genres: ['Classics', 'Childrens', 'Fiction', 'Picture Books', 'Fantasy', 'Animals', 'Young Adult']\n",
      "\n",
      "\n",
      "Book: Winnie-the-Pooh (Winnie-the-Pooh #1)\n",
      "Genres: ['Classics', 'Childrens', 'Fiction', 'Fantasy', 'Animals', 'Middle Grade', 'Audiobook']\n",
      "\n",
      "\n"
     ]
    }
   ],
   "source": [
    "compare_docsearch('magic fantasy kid ')"
   ]
  },
  {
   "cell_type": "code",
   "execution_count": null,
   "id": "abff02cd-8707-4479-8211-00bd30595fb2",
   "metadata": {},
   "outputs": [],
   "source": []
  }
 ],
 "metadata": {
  "kernelspec": {
   "display_name": "Python 3 (ipykernel)",
   "language": "python",
   "name": "python3"
  },
  "language_info": {
   "codemirror_mode": {
    "name": "ipython",
    "version": 3
   },
   "file_extension": ".py",
   "mimetype": "text/x-python",
   "name": "python",
   "nbconvert_exporter": "python",
   "pygments_lexer": "ipython3",
   "version": "3.11.0"
  }
 },
 "nbformat": 4,
 "nbformat_minor": 5
}
