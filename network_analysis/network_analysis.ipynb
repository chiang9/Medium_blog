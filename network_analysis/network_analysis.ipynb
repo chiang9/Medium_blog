{
 "cells": [
  {
   "cell_type": "markdown",
   "id": "2d697459-a754-49e3-9ac3-8d16f1d2c7e5",
   "metadata": {
    "tags": []
   },
   "source": [
    "## Also-View Recommendation System with Graph Theory\n",
    "\n",
    "In practice, it is hard to gather the user to item interest score most of the time, and sometimes we might not have other information to help building the recommendation system. For example, when we need to build a recommendation model for webpages, and we only have the user cookie id trace and their visited page. We may employ the clustering method to build a basic item-item recommendation system.\n",
    "\n",
    "To build an also-view recommender system, __item-to-item recommendation system__, we can implement the system using clustering. There are various ways to construct the clustering-based recommendation system. In this example, we are going to use the network analysis to partition the item-item graph based on the movielen dataset.\n",
    "\n"
   ]
  },
  {
   "cell_type": "markdown",
   "id": "7395647a-18bf-431f-a881-58eb4740e196",
   "metadata": {},
   "source": [
    "### Dataset\n",
    "In this example, we will be using the movielens dataset (ml-100k).\n",
    "\n",
    "source: https://grouplens.org/datasets/movielens/\n"
   ]
  },
  {
   "cell_type": "markdown",
   "id": "658e0bea-2ce7-44d9-8a65-3fb1c38ae197",
   "metadata": {},
   "source": [
    "### Package requirements\n",
    "\n",
    "In this example, we need some extra packages to support our model.\n",
    "- networkx\n",
    "- community_louvain\n",
    "\n",
    "source: https://python-louvain.readthedocs.io/en/latest/api.html"
   ]
  },
  {
   "cell_type": "code",
   "execution_count": 1,
   "id": "6ce00333-b919-40e6-b5fc-e4d80837276a",
   "metadata": {},
   "outputs": [],
   "source": [
    "import numpy as np\n",
    "import pandas as pd\n",
    "import itertools \n",
    "import math\n",
    "import time\n",
    "from collections import defaultdict\n",
    "import networkx as nx\n",
    "import matplotlib.pyplot as plt\n",
    "import community.community_louvain as community_louvain\n"
   ]
  },
  {
   "cell_type": "code",
   "execution_count": 2,
   "id": "ad6fa900-24b1-48e3-9bfb-ed8cdea6741a",
   "metadata": {},
   "outputs": [],
   "source": [
    "data_path = '../data/ml-100k/u.data'\n",
    "\n",
    "# load train and test data\n",
    "df = pd.read_csv(data_path, delimiter = '\\t', names = ['userid', 'itemid', 'rating', 'timestamp'])\n",
    "df = df[['userid', 'itemid', 'rating']]\n",
    "\n"
   ]
  },
  {
   "cell_type": "markdown",
   "id": "56f6e6fd-969b-48a5-8202-ecc880e80f75",
   "metadata": {},
   "source": [
    "To build the graph with high correlation, we set the minimum rating to be 5."
   ]
  },
  {
   "cell_type": "code",
   "execution_count": 3,
   "id": "1f6f1d20-9c2a-499b-ad04-be4a310d7dd6",
   "metadata": {},
   "outputs": [
    {
     "data": {
      "text/plain": [
       "(21201, 3)"
      ]
     },
     "execution_count": 3,
     "metadata": {},
     "output_type": "execute_result"
    }
   ],
   "source": [
    "min_rating= 5\n",
    "rated_movie = df.drop(df[df['rating']<min_rating].index)\n",
    "rated_movie.shape"
   ]
  },
  {
   "cell_type": "code",
   "execution_count": 4,
   "id": "d34ca009-3158-49a7-bb7d-8c4f42941a99",
   "metadata": {},
   "outputs": [
    {
     "data": {
      "text/html": [
       "<div>\n",
       "<style scoped>\n",
       "    .dataframe tbody tr th:only-of-type {\n",
       "        vertical-align: middle;\n",
       "    }\n",
       "\n",
       "    .dataframe tbody tr th {\n",
       "        vertical-align: top;\n",
       "    }\n",
       "\n",
       "    .dataframe thead th {\n",
       "        text-align: right;\n",
       "    }\n",
       "</style>\n",
       "<table border=\"1\" class=\"dataframe\">\n",
       "  <thead>\n",
       "    <tr style=\"text-align: right;\">\n",
       "      <th></th>\n",
       "      <th>userid</th>\n",
       "      <th>itemid</th>\n",
       "      <th>rating</th>\n",
       "    </tr>\n",
       "  </thead>\n",
       "  <tbody>\n",
       "    <tr>\n",
       "      <th>7</th>\n",
       "      <td>253</td>\n",
       "      <td>465</td>\n",
       "      <td>5</td>\n",
       "    </tr>\n",
       "    <tr>\n",
       "      <th>11</th>\n",
       "      <td>286</td>\n",
       "      <td>1014</td>\n",
       "      <td>5</td>\n",
       "    </tr>\n",
       "    <tr>\n",
       "      <th>12</th>\n",
       "      <td>200</td>\n",
       "      <td>222</td>\n",
       "      <td>5</td>\n",
       "    </tr>\n",
       "    <tr>\n",
       "      <th>16</th>\n",
       "      <td>122</td>\n",
       "      <td>387</td>\n",
       "      <td>5</td>\n",
       "    </tr>\n",
       "    <tr>\n",
       "      <th>26</th>\n",
       "      <td>38</td>\n",
       "      <td>95</td>\n",
       "      <td>5</td>\n",
       "    </tr>\n",
       "  </tbody>\n",
       "</table>\n",
       "</div>"
      ],
      "text/plain": [
       "    userid  itemid  rating\n",
       "7      253     465       5\n",
       "11     286    1014       5\n",
       "12     200     222       5\n",
       "16     122     387       5\n",
       "26      38      95       5"
      ]
     },
     "execution_count": 4,
     "metadata": {},
     "output_type": "execute_result"
    }
   ],
   "source": [
    "rated_movie.head()"
   ]
  },
  {
   "cell_type": "markdown",
   "id": "fe0066db-594d-4de3-be3f-8a7a6b80b10a",
   "metadata": {},
   "source": [
    "### Build the graph\n",
    "\n",
    "To build the item-item network graph, we first group the data by __userid__ and generate the list of item to the corresponding user. Next we build the edge by generating the combination of the itemid list. In this practice, we set the edge weight to be the number of users rating the same pair."
   ]
  },
  {
   "cell_type": "code",
   "execution_count": 5,
   "id": "6898f371-cd78-4ef3-975d-a258caa50e00",
   "metadata": {},
   "outputs": [
    {
     "data": {
      "text/plain": [
       "174005"
      ]
     },
     "execution_count": 5,
     "metadata": {},
     "output_type": "execute_result"
    }
   ],
   "source": [
    "user_itemlist = rated_movie.groupby('userid')['itemid'].apply(list)\n",
    "\n",
    "edge_dict = defaultdict(lambda: 0)\n",
    "for item_list in user_itemlist:\n",
    "    item_list = sorted(item_list)\n",
    "    pairs = itertools.combinations(item_list, 2)\n",
    "    for pair in list(pairs):\n",
    "        edge_dict[pair] += 1\n",
    "\n",
    "len(edge_dict.keys())"
   ]
  },
  {
   "cell_type": "code",
   "execution_count": 6,
   "id": "3fc0b48d-ebed-4c5a-bf61-1135c4cd59bb",
   "metadata": {},
   "outputs": [
    {
     "data": {
      "text/plain": [
       "[(1, 6, 2), (1, 9, 20), (1, 12, 24), (1, 13, 5), (1, 14, 11)]"
      ]
     },
     "execution_count": 6,
     "metadata": {},
     "output_type": "execute_result"
    }
   ],
   "source": [
    "edges = [tuple([e[0], e[1], edge_dict[e]]) for e in edge_dict]\n",
    "\n",
    "# edges contains the edge of (item1, item2, weight)\n",
    "edges[:5]"
   ]
  },
  {
   "cell_type": "code",
   "execution_count": 7,
   "id": "975ff2a9-f720-4995-8464-84d2ffe194a8",
   "metadata": {},
   "outputs": [
    {
     "name": "stdout",
     "output_type": "stream",
     "text": [
      "Total number of graph nodes: 1172\n",
      "Total number of graph edges: 174005\n",
      "Average node degree: 296.94\n"
     ]
    }
   ],
   "source": [
    "g= nx.Graph()\n",
    "g.add_weighted_edges_from(edges)\n",
    "print(\"Total number of graph nodes:\", g.number_of_nodes())\n",
    "print(\"Total number of graph edges:\", g.number_of_edges())\n",
    "\n",
    "degrees = []\n",
    "for node in g.nodes:\n",
    "    degrees.append(g.degree[node])\n",
    "\n",
    "print(\"Average node degree:\", round(sum(degrees) / len(degrees), 2))"
   ]
  },
  {
   "cell_type": "code",
   "execution_count": 8,
   "id": "fc116c33-9ad9-44fe-ab14-eba795326251",
   "metadata": {},
   "outputs": [
    {
     "name": "stdout",
     "output_type": "stream",
     "text": [
      "Number of communities: 4\n"
     ]
    }
   ],
   "source": [
    "partitions = community_louvain.best_partition(g)\n",
    "values = list(partitions.values())\n",
    "print('Number of communities:', len(np.unique(values)))"
   ]
  },
  {
   "cell_type": "code",
   "execution_count": 9,
   "id": "c9b39bd9-45dd-4fb8-8810-c1baf515e921",
   "metadata": {},
   "outputs": [],
   "source": [
    "category_col = [\"unknown\",\"Action\",\"Adventure\",\"Animation\",\"Children's\",\"Comedy\",\"Crime\",\"Documentary\",\"Drama\",\"Fantasy\",\"Film-Noir\",\"Horror\",\"Musical\",\"Mystery\",\"Romance\",\"Sci-Fi\",\"Thriller\",\"War\",\"Western\"]\n",
    "\n",
    "column_arr = [\"movie id\",\"movie title\",\"release date\",\"video release date\",\"IMDb URL\"] + category_col\n",
    "item_data = pd.read_csv('../data/ml-100k/u.item', delimiter = '|', names =column_arr, encoding='latin1')\n",
    "\n",
    "item_dict = defaultdict(lambda:[])\n",
    "item_data = item_data.to_numpy()\n",
    "\n",
    "for d in item_data:\n",
    "    res = []\n",
    "    for indx in range(2,len(d)):\n",
    "        if d[indx] == 1:\n",
    "            res.append(column_arr[indx])\n",
    "    \n",
    "    item_dict[d[0]] = res\n",
    "    "
   ]
  },
  {
   "cell_type": "code",
   "execution_count": 10,
   "id": "dd19a185-0687-4e28-b01d-aa78f89a140c",
   "metadata": {
    "tags": []
   },
   "outputs": [],
   "source": [
    "res_dict = defaultdict(lambda: [])\n",
    "for k in partitions:\n",
    "    res_dict[partitions[k]].append(item_dict[k])\n"
   ]
  },
  {
   "cell_type": "code",
   "execution_count": 13,
   "id": "b1684c28-33b2-4e3a-9149-3f03b351bb4e",
   "metadata": {
    "tags": []
   },
   "outputs": [
    {
     "data": {
      "text/plain": [
       "[['Animation', \"Children's\", 'Comedy'],\n",
       " ['Drama'],\n",
       " ['Drama', 'Thriller'],\n",
       " ['Action', 'Adventure', 'Romance', 'Sci-Fi', 'War'],\n",
       " ['Crime', 'Drama', 'Romance', 'Thriller'],\n",
       " ['Drama'],\n",
       " ['Action', 'Adventure', 'Sci-Fi'],\n",
       " ['Drama'],\n",
       " ['Action', 'Sci-Fi', 'Thriller'],\n",
       " ['Comedy', 'Sci-Fi']]"
      ]
     },
     "execution_count": 13,
     "metadata": {},
     "output_type": "execute_result"
    }
   ],
   "source": [
    "res_dict[0][:10]"
   ]
  },
  {
   "cell_type": "code",
   "execution_count": null,
   "id": "fb032e45-80a3-49ab-8b9d-581fdd1b6775",
   "metadata": {},
   "outputs": [],
   "source": []
  }
 ],
 "metadata": {
  "kernelspec": {
   "display_name": "Python 3",
   "language": "python",
   "name": "python3"
  },
  "language_info": {
   "codemirror_mode": {
    "name": "ipython",
    "version": 3
   },
   "file_extension": ".py",
   "mimetype": "text/x-python",
   "name": "python",
   "nbconvert_exporter": "python",
   "pygments_lexer": "ipython3",
   "version": "3.6.13"
  }
 },
 "nbformat": 4,
 "nbformat_minor": 5
}
