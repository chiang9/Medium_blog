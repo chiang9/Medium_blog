{
 "cells": [
  {
   "cell_type": "markdown",
   "id": "ff68905d-bdee-45f4-a806-66a9bf74f4eb",
   "metadata": {},
   "source": [
    "## Girvan–Newman — The Clustering Technique in Network Analysis\n",
    "\n",
    "Girvan-Newman method is one of the classic community clustering techniques, which separates the network based on the betweenness of the edges.. By using the algorithm, we are able to separate the network into communities, and the community detection can be used as a good start of data preprocessing.\n",
    "\n",
    "In this example we will implement the Girvan-Newman clustering algorithm. Please refer to my previous post to see the details of the algorithm.\n",
    "\n",
    "previous post: https://medium.com/analytics-vidhya/girvan-newman-the-clustering-technique-in-network-analysis-27fe6d665c92\n",
    "\n"
   ]
  },
  {
   "cell_type": "code",
   "execution_count": 2,
   "id": "2461719c-0b65-4e1f-865a-9dce6408a073",
   "metadata": {},
   "outputs": [],
   "source": [
    "import numpy as np\n",
    "import pandas as pd\n",
    "import itertools \n",
    "import math\n",
    "import time\n",
    "from collections import defaultdict\n",
    "from copy import deepcopy\n"
   ]
  },
  {
   "cell_type": "markdown",
   "id": "bbdc6993-fd74-4518-b664-3e2d3de3342b",
   "metadata": {},
   "source": [
    "First we will define a simple graph as following.\n"
   ]
  },
  {
   "cell_type": "code",
   "execution_count": 3,
   "id": "006966da-0319-4a02-b3a5-c2ea8599db74",
   "metadata": {},
   "outputs": [
    {
     "data": {
      "text/plain": [
       "defaultdict(<function __main__.<lambda>()>,\n",
       "            {'a': ['b', 'c', 'd'],\n",
       "             'b': ['a', 'c'],\n",
       "             'c': ['a', 'b', 'd'],\n",
       "             'd': ['a', 'c', 'e'],\n",
       "             'e': ['d', 'f', 'g', 'h'],\n",
       "             'f': ['e', 'g'],\n",
       "             'g': ['e', 'f', 'h'],\n",
       "             'h': ['e', 'g']})"
      ]
     },
     "execution_count": 3,
     "metadata": {},
     "output_type": "execute_result"
    }
   ],
   "source": [
    "# edge_dict is the dictionary of edge connection, such that \n",
    "# edge_dict[source] = [output_vertices]\n",
    "\n",
    "edge_dict = defaultdict(lambda: [])\n",
    "edge_dict['a'].extend(['b','c','d'])\n",
    "edge_dict['b'].extend(['a','c'])\n",
    "edge_dict['c'].extend(['a','b','d'])\n",
    "edge_dict['d'].extend(['a','c','e'])\n",
    "edge_dict['e'].extend(['d','f','g','h'])\n",
    "edge_dict['f'].extend(['e','g'])\n",
    "edge_dict['g'].extend(['e','f','h'])\n",
    "edge_dict['h'].extend(['e','g'])\n",
    "\n",
    "edge_dict"
   ]
  },
  {
   "cell_type": "markdown",
   "id": "fa424a08-54bc-45a2-9d92-0267b8608494",
   "metadata": {},
   "source": [
    "### Calculate the betweenness value of the current graph\n",
    "\n",
    "We use the following formula to calculate the edge credit\n",
    "\n",
    "$$EdgeCredit= (1+\\sum{IncomingEdgeCredit}) * \\frac{ScoreOfDestination} {ScoreOfStart} $$\n",
    "\n",
    "By traversing all the vertices and we can get the edge betweenness by summing all the edge credit."
   ]
  },
  {
   "cell_type": "code",
   "execution_count": 5,
   "id": "61daaf25-2ad6-4d09-b9a5-61ff6b3f1af8",
   "metadata": {},
   "outputs": [
    {
     "data": {
      "text/plain": [
       "defaultdict(<function __main__.calculate_btw_and_communities.<locals>.<lambda>()>,\n",
       "            {('e', 'f'): 5.5,\n",
       "             ('e', 'g'): 5.0,\n",
       "             ('e', 'h'): 5.5,\n",
       "             ('d', 'e'): 16.0,\n",
       "             ('a', 'b'): 3.5,\n",
       "             ('a', 'c'): 1.0,\n",
       "             ('a', 'd'): 7.5,\n",
       "             ('c', 'd'): 7.5,\n",
       "             ('b', 'c'): 3.5,\n",
       "             ('g', 'h'): 1.5,\n",
       "             ('f', 'g'): 1.5})"
      ]
     },
     "execution_count": 5,
     "metadata": {},
     "output_type": "execute_result"
    }
   ],
   "source": [
    "def scale_DAG_btw_dict(edge_btw_dict):\n",
    "    for e in edge_btw_dict:\n",
    "        edge_btw_dict[e] /= 2\n",
    "    return edge_btw_dict\n",
    "\n",
    "def calculate_btw_and_communities(edge_dict, vertices):\n",
    "    edge_btw_dict = defaultdict(lambda:0)\n",
    "    com_res = set()\n",
    "    \n",
    "    # first we select a node v to start, and perform bfs to assign node score and edge credits\n",
    "    # where node_score contains {node: [node_score, edge_credit]}\n",
    "    \n",
    "    for v in vertices:\n",
    "        visited = []\n",
    "        src = [v]\n",
    "        node_score = defaultdict(lambda:[0,1])\n",
    "        node_score[v][0] += 1\n",
    "        edge_path = []\n",
    "\n",
    "        while True:\n",
    "            visited.extend(src)\n",
    "            next_src = set()\n",
    "            cur_level_edge = defaultdict(lambda:[])\n",
    "            for v in src:\n",
    "                edge = edge_dict[v]\n",
    "                for next_node in edge:\n",
    "                    if next_node not in visited:\n",
    "                        next_src.add(next_node)\n",
    "                        node_score[next_node][0]+=node_score[v][0]\n",
    "                        cur_level_edge[next_node].append(v)\n",
    "\n",
    "\n",
    "            if len(next_src) == 0:\n",
    "                if v not in edge_dict:\n",
    "                    com_res.add(tuple([v]))\n",
    "                else:\n",
    "                    com_res.add(tuple(sorted(visited)))\n",
    "                break\n",
    "            else:\n",
    "                edge_path.append(cur_level_edge)\n",
    "                src = next_src\n",
    "        \n",
    "        # next, we compute the betweenness value and the edge credit to the next node\n",
    "        for indx in range(len(edge_path)-1, -1, -1):\n",
    "            level_nodes = edge_path[indx]\n",
    "\n",
    "            for v in level_nodes:\n",
    "                edges = level_nodes[v]\n",
    "                for next_node in edges:\n",
    "                    btw_val = node_score[v][1] * node_score[next_node][0] / node_score[v][0]\n",
    "\n",
    "                    edge_btw_dict[tuple(sorted([v,next_node]))] += btw_val\n",
    "                    node_score[next_node][1] += btw_val\n",
    "    \n",
    "    edge_btw_dict = scale_DAG_btw_dict(edge_btw_dict)\n",
    "    \n",
    "    return edge_btw_dict, com_res\n",
    "\n",
    "edge_btw_dict, communities = calculate_btw_and_communities(edge_dict,list(edge_dict.keys()))\n",
    "edge_btw_dict"
   ]
  },
  {
   "cell_type": "markdown",
   "id": "75964a81-6f72-4c4c-a0bf-c8e692d4a15f",
   "metadata": {},
   "source": [
    "### Compute the best community\n",
    "\n",
    "We remove the edges with highest betweenness value iteratively and aim to optimize the modularity, such that \n",
    "\n",
    "$$\n",
    "Q(G,S) = \\frac{1}{2m} \\sum_{s\\in S}\\sum_{i\\in s}\\sum_{j\\in s} (A_{ij} - \\frac{k_ik_j}{2m})\n",
    "$$\n"
   ]
  },
  {
   "cell_type": "code",
   "execution_count": 6,
   "id": "1833ed40-c24a-4982-867f-c0716677c58d",
   "metadata": {},
   "outputs": [
    {
     "name": "stdout",
     "output_type": "stream",
     "text": [
      "remove edges [('d', 'e')] with betweenness value around 16.0\n",
      "update best modularity of community split -inf ---> 0.3016528925619835\n",
      "\n",
      "remove edges [('a', 'b'), ('a', 'd'), ('c', 'd'), ('b', 'c'), ('e', 'f'), ('e', 'h'), ('g', 'h'), ('f', 'g')] with betweenness value around 1.5\n",
      "modularity after split = 0.08677685950413223, which is lower than best split 0.3016528925619835\n"
     ]
    },
    {
     "data": {
      "text/plain": [
       "{('a', 'b', 'c', 'd'), ('e', 'f', 'g', 'h')}"
      ]
     },
     "execution_count": 6,
     "metadata": {},
     "output_type": "execute_result"
    }
   ],
   "source": [
    "def compute_modularity(original_graph, update_graph, m, communities):\n",
    "    res = 0\n",
    "    for com in communities:\n",
    "        for edge in itertools.combinations(com,2):\n",
    "            A = 0\n",
    "            v1,v2 = edge\n",
    "            if v1 in original_graph[v2] and v2 in original_graph[v1]:\n",
    "                A = 1\n",
    "            ki = len(update_graph[v1])\n",
    "            kj = len(update_graph[v2])\n",
    "            res += A - (ki*kj)/(2*m)\n",
    "    return res/(2*m)\n",
    "\n",
    "def remove_highest_btw_edge(edge_dict, edge_btw_dict):\n",
    "    largest_key = sorted(edge_btw_dict, key = lambda x: edge_btw_dict[x], reverse = True)[0]\n",
    "    remove_key_list = list(filter(lambda x: round(edge_btw_dict[x],5) == round(edge_btw_dict[largest_key],5), edge_btw_dict))\n",
    "    \n",
    "    print(f\"remove edges {remove_key_list} with betweenness value around {edge_btw_dict[largest_key]}\")\n",
    "    for e in remove_key_list:\n",
    "        \n",
    "        edge_dict[e[0]].remove(e[1])\n",
    "        edge_dict[e[1]].remove(e[0])\n",
    "    return edge_dict\n",
    "    \n",
    "def compute_opt_communities(edge_dict, vertices, verbose = True):\n",
    "    max_modularity = float('-inf')\n",
    "    edge_set = set()\n",
    "\n",
    "    for k in edge_dict:\n",
    "        edge_set.update([tuple(sorted([k,j])) for j in edge_dict[k]])\n",
    "    edge_count = len(edge_set)\n",
    "    update_graph = deepcopy(edge_dict)\n",
    "    edge_btw_dict, current_best_community = calculate_btw_and_communities(edge_dict, vertices)\n",
    "    \n",
    "    while True:\n",
    "        update_graph = remove_highest_btw_edge(update_graph, edge_btw_dict)\n",
    "        edge_btw_dict, next_community = calculate_btw_and_communities(update_graph, vertices)\n",
    "        \n",
    "        cur_modularity = compute_modularity(edge_dict, update_graph, edge_count, next_community)\n",
    "        if cur_modularity >= max_modularity:\n",
    "            if verbose:\n",
    "                print(f\"update best modularity of community split {max_modularity} ---> {cur_modularity}\\n\")\n",
    "            max_modularity = cur_modularity\n",
    "            current_best_community = next_community\n",
    "        else:\n",
    "            if verbose:\n",
    "                print(f\"modularity after split = {cur_modularity}, which is lower than best split {max_modularity}\")\n",
    "            break\n",
    "    return current_best_community\n",
    "\n",
    "best_community = compute_opt_communities(edge_dict, list(edge_dict.keys()))\n",
    "best_community"
   ]
  },
  {
   "cell_type": "markdown",
   "id": "3213b4a0-e845-425e-9c67-39de6424fd5e",
   "metadata": {},
   "source": [
    "As we can see from the result, we get the best community split by removing the edge (d,e)"
   ]
  },
  {
   "cell_type": "markdown",
   "id": "0a8175c4-68d7-43d2-b636-167535d726c5",
   "metadata": {},
   "source": [
    "### A more complex network\n",
    "\n",
    "Next, we will generate a more complex network "
   ]
  },
  {
   "cell_type": "code",
   "execution_count": 7,
   "id": "824dc7bc-22cc-4a5d-b12e-a235185fd8bf",
   "metadata": {},
   "outputs": [],
   "source": [
    "edge_dict = defaultdict(lambda: [])\n",
    "edge_dict['a'].extend(['b','c','d','p'])\n",
    "edge_dict['b'].extend(['a','c'])\n",
    "edge_dict['c'].extend(['a','b','d'])\n",
    "edge_dict['d'].extend(['a','c','e'])\n",
    "edge_dict['e'].extend(['d','f','g','h'])\n",
    "edge_dict['f'].extend(['e','g'])\n",
    "edge_dict['g'].extend(['e','f','h'])\n",
    "edge_dict['h'].extend(['e','g','j'])\n",
    "edge_dict['i'].extend(['j','l'])\n",
    "edge_dict['j'].extend(['h','i','l','k'])\n",
    "edge_dict['k'].extend(['j','l'])\n",
    "edge_dict['l'].extend(['i','j','k'])\n",
    "edge_dict['m'].extend(['n','o','p'])\n",
    "edge_dict['n'].extend(['m','o'])\n",
    "edge_dict['o'].extend(['m','n','p'])\n",
    "edge_dict['p'].extend(['a','m','o'])\n"
   ]
  },
  {
   "cell_type": "code",
   "execution_count": 8,
   "id": "5f9bbb70-18d5-4150-9c33-9201bf152c31",
   "metadata": {},
   "outputs": [
    {
     "name": "stdout",
     "output_type": "stream",
     "text": [
      "remove edges [('d', 'e')] with betweenness value around 64.0\n",
      "update best modularity of community split -inf ---> 0.2797731568998111\n",
      "\n",
      "remove edges [('a', 'p'), ('h', 'j')] with betweenness value around 16.0\n",
      "update best modularity of community split 0.2797731568998111 ---> 0.3648393194706995\n",
      "\n",
      "remove edges [('a', 'b'), ('a', 'd'), ('c', 'd'), ('b', 'c'), ('e', 'f'), ('e', 'h'), ('g', 'h'), ('f', 'g'), ('j', 'k'), ('k', 'l'), ('i', 'j'), ('i', 'l'), ('m', 'n'), ('m', 'p'), ('o', 'p'), ('n', 'o')] with betweenness value around 1.5\n",
      "modularity after split = 0.08506616257088848, which is lower than best split 0.3648393194706995\n"
     ]
    },
    {
     "data": {
      "text/plain": [
       "{('a', 'b', 'c', 'd'),\n",
       " ('e', 'f', 'g', 'h'),\n",
       " ('i', 'j', 'k', 'l'),\n",
       " ('m', 'n', 'o', 'p')}"
      ]
     },
     "execution_count": 8,
     "metadata": {},
     "output_type": "execute_result"
    }
   ],
   "source": [
    "best_community = compute_opt_communities(edge_dict, list(edge_dict.keys()))\n",
    "best_community"
   ]
  },
  {
   "cell_type": "code",
   "execution_count": null,
   "id": "869e438f-0f76-4b93-818c-68bc05c9f263",
   "metadata": {},
   "outputs": [],
   "source": []
  }
 ],
 "metadata": {
  "kernelspec": {
   "display_name": "Python 3",
   "language": "python",
   "name": "python3"
  },
  "language_info": {
   "codemirror_mode": {
    "name": "ipython",
    "version": 3
   },
   "file_extension": ".py",
   "mimetype": "text/x-python",
   "name": "python",
   "nbconvert_exporter": "python",
   "pygments_lexer": "ipython3",
   "version": "3.6.13"
  }
 },
 "nbformat": 4,
 "nbformat_minor": 5
}
