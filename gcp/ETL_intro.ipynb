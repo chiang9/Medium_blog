{
 "cells": [
  {
   "cell_type": "markdown",
   "id": "2e28e1f5-4053-4ed2-a785-026a9aa70697",
   "metadata": {},
   "source": [
    "## Introduction to ETL and GCP basic\n",
    "\n",
    "In today's data-driven world, organizations are continuously grappling with massive amounts of information scattered across multiple systems. Extracting valuable insights from such diverse data sources can be a daunting task. This is where ETL (Extract, Transform, Load) comes to the rescue. ETL serves as the backbone of data integration, offering a robust framework for extracting, transforming, and loading data into a consolidated and actionable format. In this blog post, we delve into the world of ETL and how can we integrate the Google Cloud Platform services to do the data ingestion. \n",
    "\n",
    "### So, What is ETL?\n",
    "\n",
    "ETL stands for __Extract, Transform, Load__. It refers to a process in data management and data integration that involves extracting data from various sources, transforming it into a desired format or structure, and loading it into a target system or data repository for analysis, reporting, or other purposes.\n",
    "\n",
    "* __Extract__: Data is extracted from multiple sources, such as databases, files, APIs, or external systems. The extraction process involves connecting to the source systems, identifying the data to be extracted, and retrieving it. The extracted data can be from structured, semi-structured, or unstructured sources.\n",
    "\n",
    "* __Transform__: Once the data is extracted, it undergoes a series of transformations to convert it into a consistent format, standardize values, clean and validate the data, and apply any necessary calculations or business rules. Transformations can include filtering, aggregating, sorting, joining, or applying complex algorithms to the data. The goal is to prepare the data for analysis or loading into the target system.\n",
    "\n",
    "* __Load__: Transformed data is loaded into a target system or data repository, such as a data warehouse, data mart, or database. The loading process involves mapping the transformed data to the target schema and structure, applying any necessary data mappings or conversions, and inserting or updating the data in the target system."
   ]
  },
  {
   "cell_type": "markdown",
   "id": "3bec31fe-afa7-4769-ac68-3766b88e52fd",
   "metadata": {},
   "source": [
    "### ETL vs ELT\n",
    "\n",
    "ELT, on the other hand, is an alternative approach to data integration and processing. In ETL, the transformation step occurs after data extraction and before loading into the target system. This means that the extracted data is transformed and cleaned in a separate processing engine or environment before being loaded into the target system. The transformed data is typically loaded into a structured format, such as a data warehouse, for subsequent analysis and reporting.\n",
    "\n",
    "On the other hand, ELT flips the order of the process. In ELT, data is extracted from source systems and loaded into the target system in its raw or near-raw form, often without significant transformations. The loading process takes place first, directly into a scalable storage system, such as a data lake or a cloud-based storage service. Once the data is loaded, the transformations are performed directly within the target system using its built-in processing capabilities or specialized tools. This approach leverages the power of modern cloud-based data processing engines that can handle large volumes of data and perform transformations at scale.\n",
    "\n",
    "|                    | ETL                                 | ELT                                                     |\n",
    "| ------------------ | ----------------------------------- | ------------------------------------------------------- |\n",
    "| Pros               | Data Quality Control                | Flexibility and Agility                                  |\n",
    "|                    | Centralized Transformations         | Scalability                                             |\n",
    "|                    | Reduced Impact on Target System     | Cost Efficiency                                         |\n",
    "|                    | Compliance and Security             | Real-time Insights                                      |\n",
    "|                    | Compatibility with Legacy Systems   | Future-proofing                                         |\n",
    "|              |                               |                                                   |\n",
    "| Cons               | Latency                             | Data Quality Control                                    |\n",
    "|                    | Scalability Challenges              | Learning Curve                                          |\n",
    "|                    | Development and Maintenance Overhead| Processing Overhead                                     |\n",
    "|                    | Limited Flexibility                 | Security and Compliance                                 |\n"
   ]
  },
  {
   "cell_type": "markdown",
   "id": "a61c7142-5b81-41c5-ac33-e06d6952f828",
   "metadata": {},
   "source": [
    "### How can we utilize GCP service to build a data ingestion pipeline?\n",
    "\n",
    "Google Cloud Platform (GCP) provides a range of services and tools that can greatly assist in building ETL pipelines. Here are some key GCP services and features that can be leveraged for ETL:\n",
    "\n",
    "\n",
    "1. __Cloud Storage__: GCP's Cloud Storage offers a highly scalable and durable storage solution for storing raw data, intermediate files, and transformed data. It can be used as a landing zone for ingesting and staging data before processing.\n",
    "\n",
    "2. __BigQuery__: BigQuery is a fully managed, serverless data warehouse service on GCP. It provides powerful querying and analysis capabilities, making it an excellent choice for loading and analyzing transformed data. BigQuery supports batch and streaming ingestion methods and can handle large-scale data processing.\n",
    "\n",
    "3. __Dataflow__: Google Dataflow is a managed service for building scalable data pipelines. It offers a unified programming model for both batch and stream processing and integrates well with other GCP services. Dataflow simplifies the development and execution of ETL workflows, supporting data transformations and parallel processing.\n",
    "\n",
    "4. __Cloud Pub/Sub__: Pub/Sub is a messaging service that allows you to decouple data producers and consumers. It can be used to ingest real-time data streams, providing reliable messaging between different components of the ETL pipeline.\n",
    "\n",
    "5. __Cloud Functions/Cloud Run__: GCP's serverless compute platforms, such as Cloud Functions and Cloud Run, can be used to perform lightweight data transformations or execute specific tasks within the ETL pipeline. They enable scalable and event-driven execution of code without worrying about infrastructure management.\n",
    "\n",
    "These services can be combined to build a robust and scalable ETL pipeline on GCP. The choice of services depends on your specific requirements, data sources, transformation logic, and target systems. GCP's integrated ecosystem and managed services make it a powerful platform for designing, deploying, and maintaining ETL workflows in a cloud environment."
   ]
  },
  {
   "cell_type": "markdown",
   "id": "dce538f7-6191-4d58-857f-1feb043d533e",
   "metadata": {},
   "source": [
    "### Conclusion\n",
    "\n",
    "In conclusion, ETL is a critical process for organizations seeking to leverage their data for strategic insights and decision-making. By extracting, transforming, and loading data into a target system, businesses can derive meaningful information and drive actionable outcomes. Google Cloud Platform (GCP) offers a powerful suite of services and tools that greatly facilitate the development and implementation of ETL pipelines. With GCP's robust data storage, processing, and analytics capabilities, organizations can streamline their ETL workflows, improve data quality and consistency, and achieve scalable and efficient data processing. Whether it's the cloud storage and messaging capabilities of Cloud Storage and Pub/Sub, the data transformation capabilities of Dataflow, or the analytical power of BigQuery, GCP provides a comprehensive ecosystem for building end-to-end ETL pipelines. By harnessing the potential of ETL and GCP, organizations can unlock valuable insights, make data-driven decisions, and stay ahead in today's data-driven business landscape."
   ]
  },
  {
   "cell_type": "code",
   "execution_count": null,
   "id": "b1dbba6d-3da0-4ac0-afbe-93c4443940e0",
   "metadata": {},
   "outputs": [],
   "source": []
  }
 ],
 "metadata": {
  "kernelspec": {
   "display_name": "Python 3 (ipykernel)",
   "language": "python",
   "name": "python3"
  },
  "language_info": {
   "codemirror_mode": {
    "name": "ipython",
    "version": 3
   },
   "file_extension": ".py",
   "mimetype": "text/x-python",
   "name": "python",
   "nbconvert_exporter": "python",
   "pygments_lexer": "ipython3",
   "version": "3.8.12"
  }
 },
 "nbformat": 4,
 "nbformat_minor": 5
}
