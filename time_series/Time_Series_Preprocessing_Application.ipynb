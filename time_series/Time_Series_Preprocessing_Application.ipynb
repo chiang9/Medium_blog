{
 "cells": [
  {
   "cell_type": "markdown",
   "id": "82517916-3a33-47e3-a786-4bb74c113916",
   "metadata": {},
   "source": [
    "## Time Series Modelling with a New Data Approach\n",
    "\n",
    "Time Series data is a sequence of data points indexed in time order. The most common example of time series data is the daily closing price of the stock market. Time series analysis can help organizations understand the underlying causes of trends or systemic patterns over time.\n",
    "\n",
    "In this post, we will showcase the __Time_Series_Transform__ package with practical  Machine Learning Model on the Stock Market. Time-Series-Transform can help us to reformat the time series data, and simplify the feature engineering process. \n",
    "\n",
    "[__Time-Series-Transform__](https://pypi.org/project/time-series-transform/)\n",
    "\n",
    "You can find more details about the package from the previous post, please take a look!!\n",
    "\n",
    "[__A New Data Approach in Time Series__](https://medium.com/p/2d6c97f209cd)"
   ]
  },
  {
   "cell_type": "markdown",
   "id": "6a21dca4-2f1b-420c-af85-9278bbd337e4",
   "metadata": {},
   "source": [
    "### Installation\n",
    "\n",
    "```\n",
    "pip install time-series-transform\n",
    "```\n",
    "\n",
    "_Note: Make sure tensorflow and plotly are installed on your machine_"
   ]
  },
  {
   "cell_type": "markdown",
   "id": "dd9404cc-a07f-4187-8e23-d8f6f937ae67",
   "metadata": {},
   "source": [
    "## Machine Learning Model\n",
    "\n",
    "Machine Learning is known to be one of the branch of artificial intelligence and one of the most common methods to provide mathematics models to forecast the data. __Feature Engineering__ is an essential steps of transforming the raw data into desired features for models. We are able to generate new features from the raw data in order to simplify, speeding up, and enhance the model accuracy.\n",
    "\n",
    "This demo is going to train a machine learning model using sklearn, Stock_Transformer, and Time_Series_Transformer to predict the momentum of stock on daily basis. Subsequently, we will use the momentum to generate buy/sell signals and make a plot using Time_Series_Transformer.\n",
    "\n",
    "_Note: This tutorial is aim to demonstrate how to use time_series_transformer, instead of showing how to invest in stock_"
   ]
  },
  {
   "cell_type": "code",
   "execution_count": 1,
   "id": "096850fb-7b93-449a-ac7c-5d260634e7a9",
   "metadata": {},
   "outputs": [],
   "source": [
    "from time_series_transform.transform_core_api.time_series_transformer import Time_Series_Transformer\n",
    "from time_series_transform.stock_transform.stock_transfromer import Stock_Transformer\n",
    "import pandas as pd\n",
    "import numpy as np\n",
    "import pandas_ta as ta\n"
   ]
  },
  {
   "cell_type": "code",
   "execution_count": 2,
   "id": "d6bf86b4-af4c-4a0b-a2fb-3a6016c75798",
   "metadata": {},
   "outputs": [
    {
     "name": "stderr",
     "output_type": "stream",
     "text": [
      "[Parallel(n_jobs=1)]: Using backend SequentialBackend with 1 concurrent workers.\n",
      "[Parallel(n_jobs=1)]: Done   1 out of   1 | elapsed:    0.0s remaining:    0.0s\n",
      "[Parallel(n_jobs=1)]: Done   2 out of   2 | elapsed:    0.0s remaining:    0.0s\n",
      "[Parallel(n_jobs=1)]: Done   3 out of   3 | elapsed:    0.0s remaining:    0.0s\n",
      "[Parallel(n_jobs=1)]: Done   3 out of   3 | elapsed:    0.0s finished\n"
     ]
    }
   ],
   "source": [
    "# First we extract the stock data of google, nasdaq and gold using the Stock_Transformer\n",
    "# Next, we apply the pandas-ta strategy to generate some features\n",
    "\n",
    "strategy = ta.Strategy(\n",
    "    name= 'mystrategy',\n",
    "    ta=[\n",
    "        {\"kind\": \"ema\", \"length\": 50},\n",
    "        {\"kind\": \"ema\", \"length\": 7},\n",
    "        {\"kind\": \"ema\", \"length\": 20},\n",
    "        {\"kind\": \"bbands\", \"length\": 20, \"col_names\": (\"BBL\", \"BBM\", \"BBU\", \"Bandwidth\", \"Percent\")},\n",
    "        {\"kind\": \"rsi\",\"prefix\":\"rsi\"},\n",
    "        {\"kind\": \"macd\", \"fast\": 8, \"slow\": 21},\n",
    "    ]\n",
    ")\n",
    "\n",
    "st = Stock_Transformer.from_stock_engine_period([\"GOOGL\",\"NDAQ\",\"GOLD\"],'3y','yahoo')\n",
    "st = st.get_technial_indicator(strategy)\n"
   ]
  },
  {
   "cell_type": "markdown",
   "id": "6bdb2567-b0eb-478e-a02b-9bb4f4854d8e",
   "metadata": {},
   "source": [
    "By using Nasdaq and Gold, we can enrich the features. we expand the Nasdaq and Gold into feature columns. Next, we use make_lead features combining with the up_down_transform function to generate the pricing moment for the next time period."
   ]
  },
  {
   "cell_type": "code",
   "execution_count": 3,
   "id": "2eaf5016-0ebf-424d-9684-92ec40b586d3",
   "metadata": {},
   "outputs": [],
   "source": [
    "def up_or_down(current,lead):\n",
    "    if current < lead:\n",
    "        return 'up'\n",
    "    elif current > lead:\n",
    "        return \"down\"\n",
    "    else:\n",
    "        return \"unchange\"\n",
    "def up_down_transform(data):\n",
    "    currentList = data['Close_GOOGL']\n",
    "    leadList = data['Close_GOOGL_lead_1']\n",
    "    res = []\n",
    "    for c,l in zip(currentList,leadList):\n",
    "        res.append(up_or_down(c,l))\n",
    "    return res"
   ]
  },
  {
   "cell_type": "code",
   "execution_count": 24,
   "id": "981a4ef0-82b3-4d50-a167-911194cdf36a",
   "metadata": {},
   "outputs": [
    {
     "name": "stdout",
     "output_type": "stream",
     "text": [
      "deleted columns: ['Date_GOOGL', 'Date_GOLD', 'Date_NDAQ']\n",
      "Index(['Date', 'Open_GOOGL', 'High_GOOGL', 'Low_GOOGL', 'Close_GOOGL',\n",
      "       'Volume_GOOGL', 'Dividends_GOOGL', 'Stock Splits_GOOGL', 'EMA_50_GOOGL',\n",
      "       'EMA_7_GOOGL', 'EMA_20_GOOGL', 'BBL_GOOGL', 'BBM_GOOGL', 'BBU_GOOGL',\n",
      "       'Bandwidth_GOOGL', 'Percent_GOOGL', 'rsi_RSI_14_GOOGL',\n",
      "       'MACD_8_21_9_GOOGL', 'MACDh_8_21_9_GOOGL', 'MACDs_8_21_9_GOOGL',\n",
      "       'Open_GOLD', 'High_GOLD', 'Low_GOLD', 'Close_GOLD', 'Volume_GOLD',\n",
      "       'Dividends_GOLD', 'Stock Splits_GOLD', 'EMA_50_GOLD', 'EMA_7_GOLD',\n",
      "       'EMA_20_GOLD', 'BBL_GOLD', 'BBM_GOLD', 'BBU_GOLD', 'Bandwidth_GOLD',\n",
      "       'Percent_GOLD', 'rsi_RSI_14_GOLD', 'MACD_8_21_9_GOLD',\n",
      "       'MACDh_8_21_9_GOLD', 'MACDs_8_21_9_GOLD', 'Open_NDAQ', 'High_NDAQ',\n",
      "       'Low_NDAQ', 'Close_NDAQ', 'Volume_NDAQ', 'Dividends_NDAQ',\n",
      "       'Stock Splits_NDAQ', 'EMA_50_NDAQ', 'EMA_7_NDAQ', 'EMA_20_NDAQ',\n",
      "       'BBL_NDAQ', 'BBM_NDAQ', 'BBU_NDAQ', 'Bandwidth_NDAQ', 'Percent_NDAQ',\n",
      "       'rsi_RSI_14_NDAQ', 'MACD_8_21_9_NDAQ', 'MACDh_8_21_9_NDAQ',\n",
      "       'MACDs_8_21_9_NDAQ'],\n",
      "      dtype='object')\n"
     ]
    }
   ],
   "source": [
    "# By using expandCategory, we can expand other stock data into columns,\n",
    "# and model can take them as features\n",
    "\n",
    "df = st.to_pandas(expandCategory= True, expandTime = False)\n",
    "\n",
    "# note we need to delete the date columns for other stocks, for example, Date_GOLD\n",
    "col_to_delete = list(filter(lambda col: 'Date_' in col, list(df.columns)))\n",
    "print(f'deleted columns: {list(col_to_delete)}')\n",
    "\n",
    "\n",
    "df = df.drop(col_to_delete, axis = 1)\n",
    "print(df.columns)"
   ]
  },
  {
   "cell_type": "code",
   "execution_count": 25,
   "id": "b95081a8-3411-4cdf-99c7-8b6619e691f8",
   "metadata": {},
   "outputs": [],
   "source": [
    "# Next we use the previous defined function to generate the label column to\n",
    "# indicate if the 1 step ahead price is up or down\n",
    "\n",
    "# Note we are able to separate the X and Y data by setting the label and use the sepLabel parameter\n",
    "\n",
    "tst = Time_Series_Transformer.from_pandas(df,'Date',None)\n",
    "tst = tst.make_lead('Close_GOOGL',1,'_lead_')\n",
    "tst = tst.transform(['Close_GOOGL','Close_GOOGL_lead_1'],'change',up_down_transform)\n",
    "tst = tst.remove_feature(\"Close_GOOGL_lead_1\")\n",
    "tst = tst.make_label(\"change\")\n",
    "X,y = tst.to_pandas(sepLabel = True)"
   ]
  },
  {
   "cell_type": "code",
   "execution_count": 26,
   "id": "b3e3476c-716e-4c20-8dfc-1db58762c28d",
   "metadata": {},
   "outputs": [
    {
     "name": "stdout",
     "output_type": "stream",
     "text": [
      "X data columns\n",
      "Index(['Date', 'Open_GOOGL', 'High_GOOGL', 'Low_GOOGL', 'Close_GOOGL',\n",
      "       'Volume_GOOGL', 'Dividends_GOOGL', 'Stock Splits_GOOGL', 'EMA_50_GOOGL',\n",
      "       'EMA_7_GOOGL', 'EMA_20_GOOGL', 'BBL_GOOGL', 'BBM_GOOGL', 'BBU_GOOGL',\n",
      "       'Bandwidth_GOOGL', 'Percent_GOOGL', 'rsi_RSI_14_GOOGL',\n",
      "       'MACD_8_21_9_GOOGL', 'MACDh_8_21_9_GOOGL', 'MACDs_8_21_9_GOOGL',\n",
      "       'Open_GOLD', 'High_GOLD', 'Low_GOLD', 'Close_GOLD', 'Volume_GOLD',\n",
      "       'Dividends_GOLD', 'Stock Splits_GOLD', 'EMA_50_GOLD', 'EMA_7_GOLD',\n",
      "       'EMA_20_GOLD', 'BBL_GOLD', 'BBM_GOLD', 'BBU_GOLD', 'Bandwidth_GOLD',\n",
      "       'Percent_GOLD', 'rsi_RSI_14_GOLD', 'MACD_8_21_9_GOLD',\n",
      "       'MACDh_8_21_9_GOLD', 'MACDs_8_21_9_GOLD', 'Open_NDAQ', 'High_NDAQ',\n",
      "       'Low_NDAQ', 'Close_NDAQ', 'Volume_NDAQ', 'Dividends_NDAQ',\n",
      "       'Stock Splits_NDAQ', 'EMA_50_NDAQ', 'EMA_7_NDAQ', 'EMA_20_NDAQ',\n",
      "       'BBL_NDAQ', 'BBM_NDAQ', 'BBU_NDAQ', 'Bandwidth_NDAQ', 'Percent_NDAQ',\n",
      "       'rsi_RSI_14_NDAQ', 'MACD_8_21_9_NDAQ', 'MACDh_8_21_9_NDAQ',\n",
      "       'MACDs_8_21_9_NDAQ'],\n",
      "      dtype='object')\n",
      "=================\n",
      "Y result\n",
      "       change\n",
      "0          up\n",
      "1          up\n",
      "2        down\n",
      "3          up\n",
      "4          up\n",
      "..        ...\n",
      "752      down\n",
      "753      down\n",
      "754      down\n",
      "755      down\n",
      "756  unchange\n",
      "\n",
      "[757 rows x 1 columns]\n"
     ]
    }
   ],
   "source": [
    "print('X data columns')\n",
    "print(X.columns)\n",
    "\n",
    "print('=================')\n",
    "print('Y result')\n",
    "print(y)"
   ]
  },
  {
   "cell_type": "code",
   "execution_count": 27,
   "id": "d5a2cbb4-b920-4d78-a8aa-1a37f46f3436",
   "metadata": {},
   "outputs": [],
   "source": [
    "from sklearn.metrics import classification_report,confusion_matrix\n",
    "from sklearn.decomposition import PCA\n",
    "from sklearn.model_selection import RandomizedSearchCV,TimeSeriesSplit\n",
    "from sklearn.preprocessing import StandardScaler\n",
    "from sklearn.pipeline import Pipeline\n",
    "from sklearn.impute import SimpleImputer\n",
    "from sklearn.ensemble import RandomForestClassifier\n"
   ]
  },
  {
   "cell_type": "code",
   "execution_count": 41,
   "id": "48202101-6e47-4362-ac51-95065095d137",
   "metadata": {},
   "outputs": [],
   "source": [
    "# After generating X and y, we split 60 days of data as test data. \n",
    "\n",
    "testX,testY = X.tail(60),y.tail(60)\n",
    "trainX,trainY = X.drop(testX.index),y.drop(testY.index)\n",
    "trainX = trainX.drop('Date', axis = 1)\n",
    "testX = testX.drop('Date', axis = 1)"
   ]
  },
  {
   "cell_type": "code",
   "execution_count": 42,
   "id": "b5d34ee1-8d36-4aa0-b8ee-e7688dc600a9",
   "metadata": {},
   "outputs": [
    {
     "data": {
      "text/html": [
       "<div>\n",
       "<style scoped>\n",
       "    .dataframe tbody tr th:only-of-type {\n",
       "        vertical-align: middle;\n",
       "    }\n",
       "\n",
       "    .dataframe tbody tr th {\n",
       "        vertical-align: top;\n",
       "    }\n",
       "\n",
       "    .dataframe thead th {\n",
       "        text-align: right;\n",
       "    }\n",
       "</style>\n",
       "<table border=\"1\" class=\"dataframe\">\n",
       "  <thead>\n",
       "    <tr style=\"text-align: right;\">\n",
       "      <th></th>\n",
       "      <th>Open_GOOGL</th>\n",
       "      <th>High_GOOGL</th>\n",
       "      <th>Low_GOOGL</th>\n",
       "      <th>Close_GOOGL</th>\n",
       "      <th>Volume_GOOGL</th>\n",
       "      <th>Dividends_GOOGL</th>\n",
       "      <th>Stock Splits_GOOGL</th>\n",
       "      <th>EMA_50_GOOGL</th>\n",
       "      <th>EMA_7_GOOGL</th>\n",
       "      <th>EMA_20_GOOGL</th>\n",
       "      <th>...</th>\n",
       "      <th>EMA_20_NDAQ</th>\n",
       "      <th>BBL_NDAQ</th>\n",
       "      <th>BBM_NDAQ</th>\n",
       "      <th>BBU_NDAQ</th>\n",
       "      <th>Bandwidth_NDAQ</th>\n",
       "      <th>Percent_NDAQ</th>\n",
       "      <th>rsi_RSI_14_NDAQ</th>\n",
       "      <th>MACD_8_21_9_NDAQ</th>\n",
       "      <th>MACDh_8_21_9_NDAQ</th>\n",
       "      <th>MACDs_8_21_9_NDAQ</th>\n",
       "    </tr>\n",
       "  </thead>\n",
       "  <tbody>\n",
       "    <tr>\n",
       "      <th>0</th>\n",
       "      <td>1104.829956</td>\n",
       "      <td>1112.890015</td>\n",
       "      <td>1099.670044</td>\n",
       "      <td>1112.599976</td>\n",
       "      <td>1031500</td>\n",
       "      <td>0</td>\n",
       "      <td>0</td>\n",
       "      <td>NaN</td>\n",
       "      <td>NaN</td>\n",
       "      <td>NaN</td>\n",
       "      <td>...</td>\n",
       "      <td>NaN</td>\n",
       "      <td>NaN</td>\n",
       "      <td>NaN</td>\n",
       "      <td>NaN</td>\n",
       "      <td>NaN</td>\n",
       "      <td>NaN</td>\n",
       "      <td>NaN</td>\n",
       "      <td>NaN</td>\n",
       "      <td>NaN</td>\n",
       "      <td>NaN</td>\n",
       "    </tr>\n",
       "    <tr>\n",
       "      <th>1</th>\n",
       "      <td>1118.500000</td>\n",
       "      <td>1127.989990</td>\n",
       "      <td>1114.849976</td>\n",
       "      <td>1122.989990</td>\n",
       "      <td>1007700</td>\n",
       "      <td>0</td>\n",
       "      <td>0</td>\n",
       "      <td>NaN</td>\n",
       "      <td>NaN</td>\n",
       "      <td>NaN</td>\n",
       "      <td>...</td>\n",
       "      <td>NaN</td>\n",
       "      <td>NaN</td>\n",
       "      <td>NaN</td>\n",
       "      <td>NaN</td>\n",
       "      <td>NaN</td>\n",
       "      <td>NaN</td>\n",
       "      <td>NaN</td>\n",
       "      <td>NaN</td>\n",
       "      <td>NaN</td>\n",
       "      <td>NaN</td>\n",
       "    </tr>\n",
       "    <tr>\n",
       "      <th>2</th>\n",
       "      <td>1119.369995</td>\n",
       "      <td>1134.650024</td>\n",
       "      <td>1117.500000</td>\n",
       "      <td>1132.670044</td>\n",
       "      <td>1489700</td>\n",
       "      <td>0</td>\n",
       "      <td>0</td>\n",
       "      <td>NaN</td>\n",
       "      <td>NaN</td>\n",
       "      <td>NaN</td>\n",
       "      <td>...</td>\n",
       "      <td>NaN</td>\n",
       "      <td>NaN</td>\n",
       "      <td>NaN</td>\n",
       "      <td>NaN</td>\n",
       "      <td>NaN</td>\n",
       "      <td>NaN</td>\n",
       "      <td>NaN</td>\n",
       "      <td>NaN</td>\n",
       "      <td>NaN</td>\n",
       "      <td>NaN</td>\n",
       "    </tr>\n",
       "    <tr>\n",
       "      <th>3</th>\n",
       "      <td>1125.869995</td>\n",
       "      <td>1127.209961</td>\n",
       "      <td>1111.760010</td>\n",
       "      <td>1116.790039</td>\n",
       "      <td>1494400</td>\n",
       "      <td>0</td>\n",
       "      <td>0</td>\n",
       "      <td>NaN</td>\n",
       "      <td>NaN</td>\n",
       "      <td>NaN</td>\n",
       "      <td>...</td>\n",
       "      <td>NaN</td>\n",
       "      <td>NaN</td>\n",
       "      <td>NaN</td>\n",
       "      <td>NaN</td>\n",
       "      <td>NaN</td>\n",
       "      <td>NaN</td>\n",
       "      <td>NaN</td>\n",
       "      <td>NaN</td>\n",
       "      <td>NaN</td>\n",
       "      <td>NaN</td>\n",
       "    </tr>\n",
       "    <tr>\n",
       "      <th>4</th>\n",
       "      <td>1110.319946</td>\n",
       "      <td>1127.859985</td>\n",
       "      <td>1107.150024</td>\n",
       "      <td>1124.290039</td>\n",
       "      <td>1473600</td>\n",
       "      <td>0</td>\n",
       "      <td>0</td>\n",
       "      <td>NaN</td>\n",
       "      <td>NaN</td>\n",
       "      <td>NaN</td>\n",
       "      <td>...</td>\n",
       "      <td>NaN</td>\n",
       "      <td>NaN</td>\n",
       "      <td>NaN</td>\n",
       "      <td>NaN</td>\n",
       "      <td>NaN</td>\n",
       "      <td>NaN</td>\n",
       "      <td>NaN</td>\n",
       "      <td>NaN</td>\n",
       "      <td>NaN</td>\n",
       "      <td>NaN</td>\n",
       "    </tr>\n",
       "  </tbody>\n",
       "</table>\n",
       "<p>5 rows × 57 columns</p>\n",
       "</div>"
      ],
      "text/plain": [
       "    Open_GOOGL   High_GOOGL    Low_GOOGL  Close_GOOGL  Volume_GOOGL  \\\n",
       "0  1104.829956  1112.890015  1099.670044  1112.599976       1031500   \n",
       "1  1118.500000  1127.989990  1114.849976  1122.989990       1007700   \n",
       "2  1119.369995  1134.650024  1117.500000  1132.670044       1489700   \n",
       "3  1125.869995  1127.209961  1111.760010  1116.790039       1494400   \n",
       "4  1110.319946  1127.859985  1107.150024  1124.290039       1473600   \n",
       "\n",
       "   Dividends_GOOGL  Stock Splits_GOOGL  EMA_50_GOOGL  EMA_7_GOOGL  \\\n",
       "0                0                   0           NaN          NaN   \n",
       "1                0                   0           NaN          NaN   \n",
       "2                0                   0           NaN          NaN   \n",
       "3                0                   0           NaN          NaN   \n",
       "4                0                   0           NaN          NaN   \n",
       "\n",
       "   EMA_20_GOOGL  ...  EMA_20_NDAQ  BBL_NDAQ  BBM_NDAQ  BBU_NDAQ  \\\n",
       "0           NaN  ...          NaN       NaN       NaN       NaN   \n",
       "1           NaN  ...          NaN       NaN       NaN       NaN   \n",
       "2           NaN  ...          NaN       NaN       NaN       NaN   \n",
       "3           NaN  ...          NaN       NaN       NaN       NaN   \n",
       "4           NaN  ...          NaN       NaN       NaN       NaN   \n",
       "\n",
       "   Bandwidth_NDAQ  Percent_NDAQ  rsi_RSI_14_NDAQ  MACD_8_21_9_NDAQ  \\\n",
       "0             NaN           NaN              NaN               NaN   \n",
       "1             NaN           NaN              NaN               NaN   \n",
       "2             NaN           NaN              NaN               NaN   \n",
       "3             NaN           NaN              NaN               NaN   \n",
       "4             NaN           NaN              NaN               NaN   \n",
       "\n",
       "   MACDh_8_21_9_NDAQ  MACDs_8_21_9_NDAQ  \n",
       "0                NaN                NaN  \n",
       "1                NaN                NaN  \n",
       "2                NaN                NaN  \n",
       "3                NaN                NaN  \n",
       "4                NaN                NaN  \n",
       "\n",
       "[5 rows x 57 columns]"
      ]
     },
     "execution_count": 42,
     "metadata": {},
     "output_type": "execute_result"
    }
   ],
   "source": [
    "trainX.head()"
   ]
  },
  {
   "cell_type": "markdown",
   "id": "d84122cc-e5fd-44c6-933d-401c8b0f7c95",
   "metadata": {},
   "source": [
    "Now we are ready to construct our machine learning pipeline. In this example, we will only build a simple model."
   ]
  },
  {
   "cell_type": "code",
   "execution_count": 43,
   "id": "ffe48aab-c523-4711-b3cb-b9c64c60656a",
   "metadata": {},
   "outputs": [],
   "source": [
    "pipe = Pipeline(\n",
    "    [\n",
    "        (\"impute\",SimpleImputer(strategy = 'median')),\n",
    "        (\"pca\",PCA()),\n",
    "        ('rf',RandomForestClassifier())\n",
    "     ]\n",
    ")\n",
    "\n",
    "searchParam = {\n",
    "    \"pca__n_components\":list(range(2,30)),\n",
    "    \"rf__n_estimators\":list(range(100,500)),\n",
    "    \"rf__min_samples_split\":list(range(2,20))\n",
    "}\n",
    "\n",
    "randPip = RandomizedSearchCV(\n",
    "    pipe,\n",
    "    searchParam,\n",
    "    cv= TimeSeriesSplit(5),\n",
    "    n_iter=30,\n",
    "    n_jobs = 5\n",
    ")"
   ]
  },
  {
   "cell_type": "code",
   "execution_count": 44,
   "id": "da3764e5-46c3-45cf-8883-608cb1ea0304",
   "metadata": {},
   "outputs": [
    {
     "name": "stderr",
     "output_type": "stream",
     "text": [
      "C:\\Users\\User\\anaconda3\\lib\\site-packages\\sklearn\\pipeline.py:394: DataConversionWarning:\n",
      "\n",
      "A column-vector y was passed when a 1d array was expected. Please change the shape of y to (n_samples,), for example using ravel().\n",
      "\n"
     ]
    }
   ],
   "source": [
    "randPip = randPip.fit(trainX,trainY)\n",
    "prd = randPip.predict(testX)"
   ]
  },
  {
   "cell_type": "code",
   "execution_count": 46,
   "id": "f9b56a76-16b7-4b32-a2fe-3facffad3c30",
   "metadata": {},
   "outputs": [
    {
     "name": "stdout",
     "output_type": "stream",
     "text": [
      "              precision    recall  f1-score   support\n",
      "\n",
      "        down       0.40      0.12      0.19        33\n",
      "    unchange       0.00      0.00      0.00         1\n",
      "          up       0.40      0.77      0.53        26\n",
      "\n",
      "    accuracy                           0.40        60\n",
      "   macro avg       0.27      0.30      0.24        60\n",
      "weighted avg       0.39      0.40      0.33        60\n",
      "\n",
      "[[ 4  0 29]\n",
      " [ 0  0  1]\n",
      " [ 6  0 20]]\n"
     ]
    },
    {
     "name": "stderr",
     "output_type": "stream",
     "text": [
      "C:\\Users\\User\\anaconda3\\lib\\site-packages\\sklearn\\metrics\\_classification.py:1318: UndefinedMetricWarning:\n",
      "\n",
      "Precision and F-score are ill-defined and being set to 0.0 in labels with no predicted samples. Use `zero_division` parameter to control this behavior.\n",
      "\n",
      "C:\\Users\\User\\anaconda3\\lib\\site-packages\\sklearn\\metrics\\_classification.py:1318: UndefinedMetricWarning:\n",
      "\n",
      "Precision and F-score are ill-defined and being set to 0.0 in labels with no predicted samples. Use `zero_division` parameter to control this behavior.\n",
      "\n",
      "C:\\Users\\User\\anaconda3\\lib\\site-packages\\sklearn\\metrics\\_classification.py:1318: UndefinedMetricWarning:\n",
      "\n",
      "Precision and F-score are ill-defined and being set to 0.0 in labels with no predicted samples. Use `zero_division` parameter to control this behavior.\n",
      "\n"
     ]
    }
   ],
   "source": [
    "print(classification_report(testY,prd))\n",
    "print(confusion_matrix(testY,prd))"
   ]
  },
  {
   "cell_type": "markdown",
   "id": "cc282e36-b596-43ca-96a8-d80e886eb6c5",
   "metadata": {},
   "source": [
    "We generate the prediction based on our machine learning model. __Time_Series_Transform__ can also give us a hand on visualization.\n",
    "\n",
    "Before we create the plot, we need to process our result to generate some buy/sell signal. To generate the signals, we use the following rules:\n",
    "\n",
    "1. the first period should be buy. \n",
    "2. buy and then hold until sell \n",
    "3. buy when the predict value is up \n",
    "4. sell when the predict value is down"
   ]
  },
  {
   "cell_type": "code",
   "execution_count": 47,
   "id": "677915af-0553-48ce-92f8-9aa6bafaf9a4",
   "metadata": {},
   "outputs": [],
   "source": [
    "def buy_sell_signal(dataList):\n",
    "    res = []\n",
    "    tmp ='down'\n",
    "    for i in dataList:\n",
    "        if tmp == i or i == 'unchange':\n",
    "            if i == 'unchange':\n",
    "                res.append('hold')\n",
    "                continue\n",
    "            tmp = i\n",
    "            res.append('hold')\n",
    "        else:\n",
    "            tmp = i\n",
    "            res.append(i)\n",
    "    return res"
   ]
  },
  {
   "cell_type": "code",
   "execution_count": 54,
   "id": "864f9843-f69e-4a5d-aa2e-155955627950",
   "metadata": {},
   "outputs": [],
   "source": [
    "det = pd.DataFrame({'prd':buy_sell_signal(prd)})\n",
    "det['Close'] = testX.Close_GOOGL.tolist()\n",
    "det['Date'] = X.tail(60).Date.tolist()"
   ]
  },
  {
   "cell_type": "code",
   "execution_count": 56,
   "id": "e7af8c46-4b37-4f7f-b321-95b0f26e5cdc",
   "metadata": {},
   "outputs": [
    {
     "data": {
      "application/vnd.plotly.v1+json": {
       "config": {
        "plotlyServerURL": "https://plot.ly"
       },
       "data": [
        {
         "name": "Close",
         "showlegend": true,
         "type": "scatter",
         "x": [
          "2022-04-06",
          "2022-04-07",
          "2022-04-08",
          "2022-04-11",
          "2022-04-12",
          "2022-04-13",
          "2022-04-14",
          "2022-04-18",
          "2022-04-19",
          "2022-04-20",
          "2022-04-21",
          "2022-04-22",
          "2022-04-25",
          "2022-04-26",
          "2022-04-27",
          "2022-04-28",
          "2022-04-29",
          "2022-05-02",
          "2022-05-03",
          "2022-05-04",
          "2022-05-05",
          "2022-05-06",
          "2022-05-09",
          "2022-05-10",
          "2022-05-11",
          "2022-05-12",
          "2022-05-13",
          "2022-05-16",
          "2022-05-17",
          "2022-05-18",
          "2022-05-19",
          "2022-05-20",
          "2022-05-23",
          "2022-05-24",
          "2022-05-25",
          "2022-05-26",
          "2022-05-27",
          "2022-05-31",
          "2022-06-01",
          "2022-06-02",
          "2022-06-03",
          "2022-06-06",
          "2022-06-07",
          "2022-06-08",
          "2022-06-09",
          "2022-06-10",
          "2022-06-13",
          "2022-06-14",
          "2022-06-15",
          "2022-06-16",
          "2022-06-17",
          "2022-06-21",
          "2022-06-22",
          "2022-06-23",
          "2022-06-24",
          "2022-06-27",
          "2022-06-28",
          "2022-06-29",
          "2022-06-30",
          "2022-07-01"
         ],
         "y": [
          2730.9599609375,
          2717.77001953125,
          2665.75,
          2576.469970703125,
          2554.2900390625,
          2597.8798828125,
          2534.60009765625,
          2553.530029296875,
          2600.179931640625,
          2560.800048828125,
          2496.2900390625,
          2392.7099609375,
          2461.47998046875,
          2373,
          2285.889892578125,
          2370.449951171875,
          2282.18994140625,
          2331.659912109375,
          2346.679931640625,
          2445.219970703125,
          2330.110107421875,
          2314.929931640625,
          2250.219970703125,
          2287.89990234375,
          2272.050048828125,
          2256.8798828125,
          2321.010009765625,
          2288.89990234375,
          2329.4599609375,
          2237.989990234375,
          2207.679931640625,
          2178.159912109375,
          2229.760009765625,
          2119.39990234375,
          2116.10009765625,
          2155.85009765625,
          2246.330078125,
          2275.239990234375,
          2277.840087890625,
          2352.449951171875,
          2290.820068359375,
          2336.409912109375,
          2342.989990234375,
          2343.8798828125,
          2296.7099609375,
          2223.22998046875,
          2127.85009765625,
          2134.31005859375,
          2195.2900390625,
          2120.669921875,
          2142.8701171875,
          2230.8798828125,
          2229.75,
          2244.840087890625,
          2359.5,
          2316.669921875,
          2240.14990234375,
          2234.030029296875,
          2179.260009765625,
          2174.75
         ],
         "yaxis": "y"
        },
        {
         "marker": {
          "color": "green",
          "symbol": "circle"
         },
         "mode": "markers",
         "name": "Buy",
         "showlegend": true,
         "type": "scatter",
         "x": [
          "2022-04-06",
          "2022-06-01",
          "2022-06-03",
          "2022-06-08",
          "2022-06-16",
          "2022-06-27"
         ],
         "y": [
          2730.9599609375,
          2277.840087890625,
          2290.820068359375,
          2343.8798828125,
          2120.669921875,
          2316.669921875
         ]
        },
        {
         "marker": {
          "color": "red",
          "symbol": "circle"
         },
         "mode": "markers",
         "name": "Sell",
         "showlegend": true,
         "type": "scatter",
         "x": [
          "2022-05-31",
          "2022-06-02",
          "2022-06-06",
          "2022-06-15",
          "2022-06-17"
         ],
         "y": [
          2275.239990234375,
          2352.449951171875,
          2336.409912109375,
          2195.2900390625,
          2142.8701171875
         ]
        }
       ],
       "layout": {
        "autosize": true,
        "legend": {
         "title": {
          "text": "Legend"
         }
        },
        "template": {
         "data": {
          "bar": [
           {
            "error_x": {
             "color": "#2a3f5f"
            },
            "error_y": {
             "color": "#2a3f5f"
            },
            "marker": {
             "line": {
              "color": "#E5ECF6",
              "width": 0.5
             },
             "pattern": {
              "fillmode": "overlay",
              "size": 10,
              "solidity": 0.2
             }
            },
            "type": "bar"
           }
          ],
          "barpolar": [
           {
            "marker": {
             "line": {
              "color": "#E5ECF6",
              "width": 0.5
             },
             "pattern": {
              "fillmode": "overlay",
              "size": 10,
              "solidity": 0.2
             }
            },
            "type": "barpolar"
           }
          ],
          "carpet": [
           {
            "aaxis": {
             "endlinecolor": "#2a3f5f",
             "gridcolor": "white",
             "linecolor": "white",
             "minorgridcolor": "white",
             "startlinecolor": "#2a3f5f"
            },
            "baxis": {
             "endlinecolor": "#2a3f5f",
             "gridcolor": "white",
             "linecolor": "white",
             "minorgridcolor": "white",
             "startlinecolor": "#2a3f5f"
            },
            "type": "carpet"
           }
          ],
          "choropleth": [
           {
            "colorbar": {
             "outlinewidth": 0,
             "ticks": ""
            },
            "type": "choropleth"
           }
          ],
          "contour": [
           {
            "colorbar": {
             "outlinewidth": 0,
             "ticks": ""
            },
            "colorscale": [
             [
              0,
              "#0d0887"
             ],
             [
              0.1111111111111111,
              "#46039f"
             ],
             [
              0.2222222222222222,
              "#7201a8"
             ],
             [
              0.3333333333333333,
              "#9c179e"
             ],
             [
              0.4444444444444444,
              "#bd3786"
             ],
             [
              0.5555555555555556,
              "#d8576b"
             ],
             [
              0.6666666666666666,
              "#ed7953"
             ],
             [
              0.7777777777777778,
              "#fb9f3a"
             ],
             [
              0.8888888888888888,
              "#fdca26"
             ],
             [
              1,
              "#f0f921"
             ]
            ],
            "type": "contour"
           }
          ],
          "contourcarpet": [
           {
            "colorbar": {
             "outlinewidth": 0,
             "ticks": ""
            },
            "type": "contourcarpet"
           }
          ],
          "heatmap": [
           {
            "colorbar": {
             "outlinewidth": 0,
             "ticks": ""
            },
            "colorscale": [
             [
              0,
              "#0d0887"
             ],
             [
              0.1111111111111111,
              "#46039f"
             ],
             [
              0.2222222222222222,
              "#7201a8"
             ],
             [
              0.3333333333333333,
              "#9c179e"
             ],
             [
              0.4444444444444444,
              "#bd3786"
             ],
             [
              0.5555555555555556,
              "#d8576b"
             ],
             [
              0.6666666666666666,
              "#ed7953"
             ],
             [
              0.7777777777777778,
              "#fb9f3a"
             ],
             [
              0.8888888888888888,
              "#fdca26"
             ],
             [
              1,
              "#f0f921"
             ]
            ],
            "type": "heatmap"
           }
          ],
          "heatmapgl": [
           {
            "colorbar": {
             "outlinewidth": 0,
             "ticks": ""
            },
            "colorscale": [
             [
              0,
              "#0d0887"
             ],
             [
              0.1111111111111111,
              "#46039f"
             ],
             [
              0.2222222222222222,
              "#7201a8"
             ],
             [
              0.3333333333333333,
              "#9c179e"
             ],
             [
              0.4444444444444444,
              "#bd3786"
             ],
             [
              0.5555555555555556,
              "#d8576b"
             ],
             [
              0.6666666666666666,
              "#ed7953"
             ],
             [
              0.7777777777777778,
              "#fb9f3a"
             ],
             [
              0.8888888888888888,
              "#fdca26"
             ],
             [
              1,
              "#f0f921"
             ]
            ],
            "type": "heatmapgl"
           }
          ],
          "histogram": [
           {
            "marker": {
             "pattern": {
              "fillmode": "overlay",
              "size": 10,
              "solidity": 0.2
             }
            },
            "type": "histogram"
           }
          ],
          "histogram2d": [
           {
            "colorbar": {
             "outlinewidth": 0,
             "ticks": ""
            },
            "colorscale": [
             [
              0,
              "#0d0887"
             ],
             [
              0.1111111111111111,
              "#46039f"
             ],
             [
              0.2222222222222222,
              "#7201a8"
             ],
             [
              0.3333333333333333,
              "#9c179e"
             ],
             [
              0.4444444444444444,
              "#bd3786"
             ],
             [
              0.5555555555555556,
              "#d8576b"
             ],
             [
              0.6666666666666666,
              "#ed7953"
             ],
             [
              0.7777777777777778,
              "#fb9f3a"
             ],
             [
              0.8888888888888888,
              "#fdca26"
             ],
             [
              1,
              "#f0f921"
             ]
            ],
            "type": "histogram2d"
           }
          ],
          "histogram2dcontour": [
           {
            "colorbar": {
             "outlinewidth": 0,
             "ticks": ""
            },
            "colorscale": [
             [
              0,
              "#0d0887"
             ],
             [
              0.1111111111111111,
              "#46039f"
             ],
             [
              0.2222222222222222,
              "#7201a8"
             ],
             [
              0.3333333333333333,
              "#9c179e"
             ],
             [
              0.4444444444444444,
              "#bd3786"
             ],
             [
              0.5555555555555556,
              "#d8576b"
             ],
             [
              0.6666666666666666,
              "#ed7953"
             ],
             [
              0.7777777777777778,
              "#fb9f3a"
             ],
             [
              0.8888888888888888,
              "#fdca26"
             ],
             [
              1,
              "#f0f921"
             ]
            ],
            "type": "histogram2dcontour"
           }
          ],
          "mesh3d": [
           {
            "colorbar": {
             "outlinewidth": 0,
             "ticks": ""
            },
            "type": "mesh3d"
           }
          ],
          "parcoords": [
           {
            "line": {
             "colorbar": {
              "outlinewidth": 0,
              "ticks": ""
             }
            },
            "type": "parcoords"
           }
          ],
          "pie": [
           {
            "automargin": true,
            "type": "pie"
           }
          ],
          "scatter": [
           {
            "fillpattern": {
             "fillmode": "overlay",
             "size": 10,
             "solidity": 0.2
            },
            "type": "scatter"
           }
          ],
          "scatter3d": [
           {
            "line": {
             "colorbar": {
              "outlinewidth": 0,
              "ticks": ""
             }
            },
            "marker": {
             "colorbar": {
              "outlinewidth": 0,
              "ticks": ""
             }
            },
            "type": "scatter3d"
           }
          ],
          "scattercarpet": [
           {
            "marker": {
             "colorbar": {
              "outlinewidth": 0,
              "ticks": ""
             }
            },
            "type": "scattercarpet"
           }
          ],
          "scattergeo": [
           {
            "marker": {
             "colorbar": {
              "outlinewidth": 0,
              "ticks": ""
             }
            },
            "type": "scattergeo"
           }
          ],
          "scattergl": [
           {
            "marker": {
             "colorbar": {
              "outlinewidth": 0,
              "ticks": ""
             }
            },
            "type": "scattergl"
           }
          ],
          "scattermapbox": [
           {
            "marker": {
             "colorbar": {
              "outlinewidth": 0,
              "ticks": ""
             }
            },
            "type": "scattermapbox"
           }
          ],
          "scatterpolar": [
           {
            "marker": {
             "colorbar": {
              "outlinewidth": 0,
              "ticks": ""
             }
            },
            "type": "scatterpolar"
           }
          ],
          "scatterpolargl": [
           {
            "marker": {
             "colorbar": {
              "outlinewidth": 0,
              "ticks": ""
             }
            },
            "type": "scatterpolargl"
           }
          ],
          "scatterternary": [
           {
            "marker": {
             "colorbar": {
              "outlinewidth": 0,
              "ticks": ""
             }
            },
            "type": "scatterternary"
           }
          ],
          "surface": [
           {
            "colorbar": {
             "outlinewidth": 0,
             "ticks": ""
            },
            "colorscale": [
             [
              0,
              "#0d0887"
             ],
             [
              0.1111111111111111,
              "#46039f"
             ],
             [
              0.2222222222222222,
              "#7201a8"
             ],
             [
              0.3333333333333333,
              "#9c179e"
             ],
             [
              0.4444444444444444,
              "#bd3786"
             ],
             [
              0.5555555555555556,
              "#d8576b"
             ],
             [
              0.6666666666666666,
              "#ed7953"
             ],
             [
              0.7777777777777778,
              "#fb9f3a"
             ],
             [
              0.8888888888888888,
              "#fdca26"
             ],
             [
              1,
              "#f0f921"
             ]
            ],
            "type": "surface"
           }
          ],
          "table": [
           {
            "cells": {
             "fill": {
              "color": "#EBF0F8"
             },
             "line": {
              "color": "white"
             }
            },
            "header": {
             "fill": {
              "color": "#C8D4E3"
             },
             "line": {
              "color": "white"
             }
            },
            "type": "table"
           }
          ]
         },
         "layout": {
          "annotationdefaults": {
           "arrowcolor": "#2a3f5f",
           "arrowhead": 0,
           "arrowwidth": 1
          },
          "autotypenumbers": "strict",
          "coloraxis": {
           "colorbar": {
            "outlinewidth": 0,
            "ticks": ""
           }
          },
          "colorscale": {
           "diverging": [
            [
             0,
             "#8e0152"
            ],
            [
             0.1,
             "#c51b7d"
            ],
            [
             0.2,
             "#de77ae"
            ],
            [
             0.3,
             "#f1b6da"
            ],
            [
             0.4,
             "#fde0ef"
            ],
            [
             0.5,
             "#f7f7f7"
            ],
            [
             0.6,
             "#e6f5d0"
            ],
            [
             0.7,
             "#b8e186"
            ],
            [
             0.8,
             "#7fbc41"
            ],
            [
             0.9,
             "#4d9221"
            ],
            [
             1,
             "#276419"
            ]
           ],
           "sequential": [
            [
             0,
             "#0d0887"
            ],
            [
             0.1111111111111111,
             "#46039f"
            ],
            [
             0.2222222222222222,
             "#7201a8"
            ],
            [
             0.3333333333333333,
             "#9c179e"
            ],
            [
             0.4444444444444444,
             "#bd3786"
            ],
            [
             0.5555555555555556,
             "#d8576b"
            ],
            [
             0.6666666666666666,
             "#ed7953"
            ],
            [
             0.7777777777777778,
             "#fb9f3a"
            ],
            [
             0.8888888888888888,
             "#fdca26"
            ],
            [
             1,
             "#f0f921"
            ]
           ],
           "sequentialminus": [
            [
             0,
             "#0d0887"
            ],
            [
             0.1111111111111111,
             "#46039f"
            ],
            [
             0.2222222222222222,
             "#7201a8"
            ],
            [
             0.3333333333333333,
             "#9c179e"
            ],
            [
             0.4444444444444444,
             "#bd3786"
            ],
            [
             0.5555555555555556,
             "#d8576b"
            ],
            [
             0.6666666666666666,
             "#ed7953"
            ],
            [
             0.7777777777777778,
             "#fb9f3a"
            ],
            [
             0.8888888888888888,
             "#fdca26"
            ],
            [
             1,
             "#f0f921"
            ]
           ]
          },
          "colorway": [
           "#636efa",
           "#EF553B",
           "#00cc96",
           "#ab63fa",
           "#FFA15A",
           "#19d3f3",
           "#FF6692",
           "#B6E880",
           "#FF97FF",
           "#FECB52"
          ],
          "font": {
           "color": "#2a3f5f"
          },
          "geo": {
           "bgcolor": "white",
           "lakecolor": "white",
           "landcolor": "#E5ECF6",
           "showlakes": true,
           "showland": true,
           "subunitcolor": "white"
          },
          "hoverlabel": {
           "align": "left"
          },
          "hovermode": "closest",
          "mapbox": {
           "style": "light"
          },
          "paper_bgcolor": "white",
          "plot_bgcolor": "#E5ECF6",
          "polar": {
           "angularaxis": {
            "gridcolor": "white",
            "linecolor": "white",
            "ticks": ""
           },
           "bgcolor": "#E5ECF6",
           "radialaxis": {
            "gridcolor": "white",
            "linecolor": "white",
            "ticks": ""
           }
          },
          "scene": {
           "xaxis": {
            "backgroundcolor": "#E5ECF6",
            "gridcolor": "white",
            "gridwidth": 2,
            "linecolor": "white",
            "showbackground": true,
            "ticks": "",
            "zerolinecolor": "white"
           },
           "yaxis": {
            "backgroundcolor": "#E5ECF6",
            "gridcolor": "white",
            "gridwidth": 2,
            "linecolor": "white",
            "showbackground": true,
            "ticks": "",
            "zerolinecolor": "white"
           },
           "zaxis": {
            "backgroundcolor": "#E5ECF6",
            "gridcolor": "white",
            "gridwidth": 2,
            "linecolor": "white",
            "showbackground": true,
            "ticks": "",
            "zerolinecolor": "white"
           }
          },
          "shapedefaults": {
           "line": {
            "color": "#2a3f5f"
           }
          },
          "ternary": {
           "aaxis": {
            "gridcolor": "white",
            "linecolor": "white",
            "ticks": ""
           },
           "baxis": {
            "gridcolor": "white",
            "linecolor": "white",
            "ticks": ""
           },
           "bgcolor": "#E5ECF6",
           "caxis": {
            "gridcolor": "white",
            "linecolor": "white",
            "ticks": ""
           }
          },
          "title": {
           "x": 0.05
          },
          "xaxis": {
           "automargin": true,
           "gridcolor": "white",
           "linecolor": "white",
           "ticks": "",
           "title": {
            "standoff": 15
           },
           "zerolinecolor": "white",
           "zerolinewidth": 2
          },
          "yaxis": {
           "automargin": true,
           "gridcolor": "white",
           "linecolor": "white",
           "ticks": "",
           "title": {
            "standoff": 15
           },
           "zerolinecolor": "white",
           "zerolinewidth": 2
          }
         }
        },
        "title": {
         "text": "Google"
        },
        "xaxis": {
         "autorange": true,
         "range": [
          "2022-03-31 13:56:38.0288",
          "2022-07-02 10:03:21.9712"
         ],
         "title": {
          "text": "Date"
         },
         "type": "date"
        },
        "yaxis": {
         "autorange": true,
         "range": [
          2070.3061807873178,
          2781.3237020251822
         ],
         "title": {
          "text": "value"
         },
         "type": "linear"
        }
       }
      },
      "image/png": "[encoded data removed]",
      "text/html": [
       "<div>                            <div id=\"8b0f2a5e-e90e-42af-9ac5-71fd4043ba05\" class=\"plotly-graph-div\" style=\"height:525px; width:100%;\"></div>            <script type=\"text/javascript\">                require([\"plotly\"], function(Plotly) {                    window.PLOTLYENV=window.PLOTLYENV || {};                                    if (document.getElementById(\"8b0f2a5e-e90e-42af-9ac5-71fd4043ba05\")) {                    Plotly.newPlot(                        \"8b0f2a5e-e90e-42af-9ac5-71fd4043ba05\",                        [{\"name\":\"Close\",\"showlegend\":true,\"x\":[\"2022-04-06\",\"2022-04-07\",\"2022-04-08\",\"2022-04-11\",\"2022-04-12\",\"2022-04-13\",\"2022-04-14\",\"2022-04-18\",\"2022-04-19\",\"2022-04-20\",\"2022-04-21\",\"2022-04-22\",\"2022-04-25\",\"2022-04-26\",\"2022-04-27\",\"2022-04-28\",\"2022-04-29\",\"2022-05-02\",\"2022-05-03\",\"2022-05-04\",\"2022-05-05\",\"2022-05-06\",\"2022-05-09\",\"2022-05-10\",\"2022-05-11\",\"2022-05-12\",\"2022-05-13\",\"2022-05-16\",\"2022-05-17\",\"2022-05-18\",\"2022-05-19\",\"2022-05-20\",\"2022-05-23\",\"2022-05-24\",\"2022-05-25\",\"2022-05-26\",\"2022-05-27\",\"2022-05-31\",\"2022-06-01\",\"2022-06-02\",\"2022-06-03\",\"2022-06-06\",\"2022-06-07\",\"2022-06-08\",\"2022-06-09\",\"2022-06-10\",\"2022-06-13\",\"2022-06-14\",\"2022-06-15\",\"2022-06-16\",\"2022-06-17\",\"2022-06-21\",\"2022-06-22\",\"2022-06-23\",\"2022-06-24\",\"2022-06-27\",\"2022-06-28\",\"2022-06-29\",\"2022-06-30\",\"2022-07-01\"],\"y\":[2730.9599609375,2717.77001953125,2665.75,2576.469970703125,2554.2900390625,2597.8798828125,2534.60009765625,2553.530029296875,2600.179931640625,2560.800048828125,2496.2900390625,2392.7099609375,2461.47998046875,2373.0,2285.889892578125,2370.449951171875,2282.18994140625,2331.659912109375,2346.679931640625,2445.219970703125,2330.110107421875,2314.929931640625,2250.219970703125,2287.89990234375,2272.050048828125,2256.8798828125,2321.010009765625,2288.89990234375,2329.4599609375,2237.989990234375,2207.679931640625,2178.159912109375,2229.760009765625,2119.39990234375,2116.10009765625,2155.85009765625,2246.330078125,2275.239990234375,2277.840087890625,2352.449951171875,2290.820068359375,2336.409912109375,2342.989990234375,2343.8798828125,2296.7099609375,2223.22998046875,2127.85009765625,2134.31005859375,2195.2900390625,2120.669921875,2142.8701171875,2230.8798828125,2229.75,2244.840087890625,2359.5,2316.669921875,2240.14990234375,2234.030029296875,2179.260009765625,2174.75],\"yaxis\":\"y\",\"type\":\"scatter\"},{\"marker\":{\"color\":\"green\",\"symbol\":\"circle\"},\"mode\":\"markers\",\"name\":\"Buy\",\"showlegend\":true,\"x\":[\"2022-04-06\",\"2022-06-01\",\"2022-06-03\",\"2022-06-08\",\"2022-06-16\",\"2022-06-27\"],\"y\":[2730.9599609375,2277.840087890625,2290.820068359375,2343.8798828125,2120.669921875,2316.669921875],\"type\":\"scatter\"},{\"marker\":{\"color\":\"red\",\"symbol\":\"circle\"},\"mode\":\"markers\",\"name\":\"Sell\",\"showlegend\":true,\"x\":[\"2022-05-31\",\"2022-06-02\",\"2022-06-06\",\"2022-06-15\",\"2022-06-17\"],\"y\":[2275.239990234375,2352.449951171875,2336.409912109375,2195.2900390625,2142.8701171875],\"type\":\"scatter\"}],                        {\"template\":{\"data\":{\"histogram2dcontour\":[{\"type\":\"histogram2dcontour\",\"colorbar\":{\"outlinewidth\":0,\"ticks\":\"\"},\"colorscale\":[[0.0,\"#0d0887\"],[0.1111111111111111,\"#46039f\"],[0.2222222222222222,\"#7201a8\"],[0.3333333333333333,\"#9c179e\"],[0.4444444444444444,\"#bd3786\"],[0.5555555555555556,\"#d8576b\"],[0.6666666666666666,\"#ed7953\"],[0.7777777777777778,\"#fb9f3a\"],[0.8888888888888888,\"#fdca26\"],[1.0,\"#f0f921\"]]}],\"choropleth\":[{\"type\":\"choropleth\",\"colorbar\":{\"outlinewidth\":0,\"ticks\":\"\"}}],\"histogram2d\":[{\"type\":\"histogram2d\",\"colorbar\":{\"outlinewidth\":0,\"ticks\":\"\"},\"colorscale\":[[0.0,\"#0d0887\"],[0.1111111111111111,\"#46039f\"],[0.2222222222222222,\"#7201a8\"],[0.3333333333333333,\"#9c179e\"],[0.4444444444444444,\"#bd3786\"],[0.5555555555555556,\"#d8576b\"],[0.6666666666666666,\"#ed7953\"],[0.7777777777777778,\"#fb9f3a\"],[0.8888888888888888,\"#fdca26\"],[1.0,\"#f0f921\"]]}],\"heatmap\":[{\"type\":\"heatmap\",\"colorbar\":{\"outlinewidth\":0,\"ticks\":\"\"},\"colorscale\":[[0.0,\"#0d0887\"],[0.1111111111111111,\"#46039f\"],[0.2222222222222222,\"#7201a8\"],[0.3333333333333333,\"#9c179e\"],[0.4444444444444444,\"#bd3786\"],[0.5555555555555556,\"#d8576b\"],[0.6666666666666666,\"#ed7953\"],[0.7777777777777778,\"#fb9f3a\"],[0.8888888888888888,\"#fdca26\"],[1.0,\"#f0f921\"]]}],\"heatmapgl\":[{\"type\":\"heatmapgl\",\"colorbar\":{\"outlinewidth\":0,\"ticks\":\"\"},\"colorscale\":[[0.0,\"#0d0887\"],[0.1111111111111111,\"#46039f\"],[0.2222222222222222,\"#7201a8\"],[0.3333333333333333,\"#9c179e\"],[0.4444444444444444,\"#bd3786\"],[0.5555555555555556,\"#d8576b\"],[0.6666666666666666,\"#ed7953\"],[0.7777777777777778,\"#fb9f3a\"],[0.8888888888888888,\"#fdca26\"],[1.0,\"#f0f921\"]]}],\"contourcarpet\":[{\"type\":\"contourcarpet\",\"colorbar\":{\"outlinewidth\":0,\"ticks\":\"\"}}],\"contour\":[{\"type\":\"contour\",\"colorbar\":{\"outlinewidth\":0,\"ticks\":\"\"},\"colorscale\":[[0.0,\"#0d0887\"],[0.1111111111111111,\"#46039f\"],[0.2222222222222222,\"#7201a8\"],[0.3333333333333333,\"#9c179e\"],[0.4444444444444444,\"#bd3786\"],[0.5555555555555556,\"#d8576b\"],[0.6666666666666666,\"#ed7953\"],[0.7777777777777778,\"#fb9f3a\"],[0.8888888888888888,\"#fdca26\"],[1.0,\"#f0f921\"]]}],\"surface\":[{\"type\":\"surface\",\"colorbar\":{\"outlinewidth\":0,\"ticks\":\"\"},\"colorscale\":[[0.0,\"#0d0887\"],[0.1111111111111111,\"#46039f\"],[0.2222222222222222,\"#7201a8\"],[0.3333333333333333,\"#9c179e\"],[0.4444444444444444,\"#bd3786\"],[0.5555555555555556,\"#d8576b\"],[0.6666666666666666,\"#ed7953\"],[0.7777777777777778,\"#fb9f3a\"],[0.8888888888888888,\"#fdca26\"],[1.0,\"#f0f921\"]]}],\"mesh3d\":[{\"type\":\"mesh3d\",\"colorbar\":{\"outlinewidth\":0,\"ticks\":\"\"}}],\"scatter\":[{\"fillpattern\":{\"fillmode\":\"overlay\",\"size\":10,\"solidity\":0.2},\"type\":\"scatter\"}],\"parcoords\":[{\"type\":\"parcoords\",\"line\":{\"colorbar\":{\"outlinewidth\":0,\"ticks\":\"\"}}}],\"scatterpolargl\":[{\"type\":\"scatterpolargl\",\"marker\":{\"colorbar\":{\"outlinewidth\":0,\"ticks\":\"\"}}}],\"bar\":[{\"error_x\":{\"color\":\"#2a3f5f\"},\"error_y\":{\"color\":\"#2a3f5f\"},\"marker\":{\"line\":{\"color\":\"#E5ECF6\",\"width\":0.5},\"pattern\":{\"fillmode\":\"overlay\",\"size\":10,\"solidity\":0.2}},\"type\":\"bar\"}],\"scattergeo\":[{\"type\":\"scattergeo\",\"marker\":{\"colorbar\":{\"outlinewidth\":0,\"ticks\":\"\"}}}],\"scatterpolar\":[{\"type\":\"scatterpolar\",\"marker\":{\"colorbar\":{\"outlinewidth\":0,\"ticks\":\"\"}}}],\"histogram\":[{\"marker\":{\"pattern\":{\"fillmode\":\"overlay\",\"size\":10,\"solidity\":0.2}},\"type\":\"histogram\"}],\"scattergl\":[{\"type\":\"scattergl\",\"marker\":{\"colorbar\":{\"outlinewidth\":0,\"ticks\":\"\"}}}],\"scatter3d\":[{\"type\":\"scatter3d\",\"line\":{\"colorbar\":{\"outlinewidth\":0,\"ticks\":\"\"}},\"marker\":{\"colorbar\":{\"outlinewidth\":0,\"ticks\":\"\"}}}],\"scattermapbox\":[{\"type\":\"scattermapbox\",\"marker\":{\"colorbar\":{\"outlinewidth\":0,\"ticks\":\"\"}}}],\"scatterternary\":[{\"type\":\"scatterternary\",\"marker\":{\"colorbar\":{\"outlinewidth\":0,\"ticks\":\"\"}}}],\"scattercarpet\":[{\"type\":\"scattercarpet\",\"marker\":{\"colorbar\":{\"outlinewidth\":0,\"ticks\":\"\"}}}],\"carpet\":[{\"aaxis\":{\"endlinecolor\":\"#2a3f5f\",\"gridcolor\":\"white\",\"linecolor\":\"white\",\"minorgridcolor\":\"white\",\"startlinecolor\":\"#2a3f5f\"},\"baxis\":{\"endlinecolor\":\"#2a3f5f\",\"gridcolor\":\"white\",\"linecolor\":\"white\",\"minorgridcolor\":\"white\",\"startlinecolor\":\"#2a3f5f\"},\"type\":\"carpet\"}],\"table\":[{\"cells\":{\"fill\":{\"color\":\"#EBF0F8\"},\"line\":{\"color\":\"white\"}},\"header\":{\"fill\":{\"color\":\"#C8D4E3\"},\"line\":{\"color\":\"white\"}},\"type\":\"table\"}],\"barpolar\":[{\"marker\":{\"line\":{\"color\":\"#E5ECF6\",\"width\":0.5},\"pattern\":{\"fillmode\":\"overlay\",\"size\":10,\"solidity\":0.2}},\"type\":\"barpolar\"}],\"pie\":[{\"automargin\":true,\"type\":\"pie\"}]},\"layout\":{\"autotypenumbers\":\"strict\",\"colorway\":[\"#636efa\",\"#EF553B\",\"#00cc96\",\"#ab63fa\",\"#FFA15A\",\"#19d3f3\",\"#FF6692\",\"#B6E880\",\"#FF97FF\",\"#FECB52\"],\"font\":{\"color\":\"#2a3f5f\"},\"hovermode\":\"closest\",\"hoverlabel\":{\"align\":\"left\"},\"paper_bgcolor\":\"white\",\"plot_bgcolor\":\"#E5ECF6\",\"polar\":{\"bgcolor\":\"#E5ECF6\",\"angularaxis\":{\"gridcolor\":\"white\",\"linecolor\":\"white\",\"ticks\":\"\"},\"radialaxis\":{\"gridcolor\":\"white\",\"linecolor\":\"white\",\"ticks\":\"\"}},\"ternary\":{\"bgcolor\":\"#E5ECF6\",\"aaxis\":{\"gridcolor\":\"white\",\"linecolor\":\"white\",\"ticks\":\"\"},\"baxis\":{\"gridcolor\":\"white\",\"linecolor\":\"white\",\"ticks\":\"\"},\"caxis\":{\"gridcolor\":\"white\",\"linecolor\":\"white\",\"ticks\":\"\"}},\"coloraxis\":{\"colorbar\":{\"outlinewidth\":0,\"ticks\":\"\"}},\"colorscale\":{\"sequential\":[[0.0,\"#0d0887\"],[0.1111111111111111,\"#46039f\"],[0.2222222222222222,\"#7201a8\"],[0.3333333333333333,\"#9c179e\"],[0.4444444444444444,\"#bd3786\"],[0.5555555555555556,\"#d8576b\"],[0.6666666666666666,\"#ed7953\"],[0.7777777777777778,\"#fb9f3a\"],[0.8888888888888888,\"#fdca26\"],[1.0,\"#f0f921\"]],\"sequentialminus\":[[0.0,\"#0d0887\"],[0.1111111111111111,\"#46039f\"],[0.2222222222222222,\"#7201a8\"],[0.3333333333333333,\"#9c179e\"],[0.4444444444444444,\"#bd3786\"],[0.5555555555555556,\"#d8576b\"],[0.6666666666666666,\"#ed7953\"],[0.7777777777777778,\"#fb9f3a\"],[0.8888888888888888,\"#fdca26\"],[1.0,\"#f0f921\"]],\"diverging\":[[0,\"#8e0152\"],[0.1,\"#c51b7d\"],[0.2,\"#de77ae\"],[0.3,\"#f1b6da\"],[0.4,\"#fde0ef\"],[0.5,\"#f7f7f7\"],[0.6,\"#e6f5d0\"],[0.7,\"#b8e186\"],[0.8,\"#7fbc41\"],[0.9,\"#4d9221\"],[1,\"#276419\"]]},\"xaxis\":{\"gridcolor\":\"white\",\"linecolor\":\"white\",\"ticks\":\"\",\"title\":{\"standoff\":15},\"zerolinecolor\":\"white\",\"automargin\":true,\"zerolinewidth\":2},\"yaxis\":{\"gridcolor\":\"white\",\"linecolor\":\"white\",\"ticks\":\"\",\"title\":{\"standoff\":15},\"zerolinecolor\":\"white\",\"automargin\":true,\"zerolinewidth\":2},\"scene\":{\"xaxis\":{\"backgroundcolor\":\"#E5ECF6\",\"gridcolor\":\"white\",\"linecolor\":\"white\",\"showbackground\":true,\"ticks\":\"\",\"zerolinecolor\":\"white\",\"gridwidth\":2},\"yaxis\":{\"backgroundcolor\":\"#E5ECF6\",\"gridcolor\":\"white\",\"linecolor\":\"white\",\"showbackground\":true,\"ticks\":\"\",\"zerolinecolor\":\"white\",\"gridwidth\":2},\"zaxis\":{\"backgroundcolor\":\"#E5ECF6\",\"gridcolor\":\"white\",\"linecolor\":\"white\",\"showbackground\":true,\"ticks\":\"\",\"zerolinecolor\":\"white\",\"gridwidth\":2}},\"shapedefaults\":{\"line\":{\"color\":\"#2a3f5f\"}},\"annotationdefaults\":{\"arrowcolor\":\"#2a3f5f\",\"arrowhead\":0,\"arrowwidth\":1},\"geo\":{\"bgcolor\":\"white\",\"landcolor\":\"#E5ECF6\",\"subunitcolor\":\"white\",\"showland\":true,\"showlakes\":true,\"lakecolor\":\"white\"},\"title\":{\"x\":0.05},\"mapbox\":{\"style\":\"light\"}}},\"title\":{\"text\":\"Google\"},\"xaxis\":{\"title\":{\"text\":\"Date\"}},\"yaxis\":{\"title\":{\"text\":\"value\"}},\"legend\":{\"title\":{\"text\":\"Legend\"}}},                        {\"responsive\": true}                    ).then(function(){\n",
       "                            \n",
       "var gd = document.getElementById('8b0f2a5e-e90e-42af-9ac5-71fd4043ba05');\n",
       "var x = new MutationObserver(function (mutations, observer) {{\n",
       "        var display = window.getComputedStyle(gd).display;\n",
       "        if (!display || display === 'none') {{\n",
       "            console.log([gd, 'removed!']);\n",
       "            Plotly.purge(gd);\n",
       "            observer.disconnect();\n",
       "        }}\n",
       "}});\n",
       "\n",
       "// Listen for the removal of the full notebook cells\n",
       "var notebookContainer = gd.closest('#notebook-container');\n",
       "if (notebookContainer) {{\n",
       "    x.observe(notebookContainer, {childList: true});\n",
       "}}\n",
       "\n",
       "// Listen for the clearing of the current output cell\n",
       "var outputEl = gd.closest('.output');\n",
       "if (outputEl) {{\n",
       "    x.observe(outputEl, {childList: true});\n",
       "}}\n",
       "\n",
       "                        })                };                });            </script>        </div>"
      ]
     },
     "metadata": {},
     "output_type": "display_data"
    },
    {
     "data": {
      "text/plain": []
     },
     "execution_count": 56,
     "metadata": {},
     "output_type": "execute_result"
    }
   ],
   "source": [
    "det['Buy'] = det[['Close','prd']].apply(lambda x: x.Close if x.prd == 'up' else 0,axis =1)\n",
    "det['Sell'] = det[['Close','prd']].apply(lambda x: x.Close if x.prd == 'down' else 0,axis =1)\n",
    "buySignal = det[det.Buy > 0][['Date','Buy']]\n",
    "sellSignal = det[det.Sell > 0][['Date','Sell']]\n",
    "\n",
    "# After we process the prediction, now we can use the time_series_transformer to generate\n",
    "# the plot\n",
    "det_tst = Time_Series_Transformer.from_pandas(det,'Date',None)\n",
    "det_tst.plot([\"Close\"],'Google').add_marker(\n",
    "    x = buySignal['Date'],\n",
    "    y = buySignal['Buy'],color = 'green',\n",
    "    legendName = 'Buy').add_marker(\n",
    "    x = sellSignal['Date'],\n",
    "    y = sellSignal['Sell'],color = 'red',\n",
    "    legendName = 'Sell')"
   ]
  },
  {
   "cell_type": "markdown",
   "id": "d1fef766-2b4e-4f88-bcde-e573c1d61cb7",
   "metadata": {},
   "source": []
  }
 ],
 "metadata": {
  "kernelspec": {
   "display_name": "Python 3 (ipykernel)",
   "language": "python",
   "name": "python3"
  },
  "language_info": {
   "codemirror_mode": {
    "name": "ipython",
    "version": 3
   },
   "file_extension": ".py",
   "mimetype": "text/x-python",
   "name": "python",
   "nbconvert_exporter": "python",
   "pygments_lexer": "ipython3",
   "version": "3.8.12"
  }
 },
 "nbformat": 4,
 "nbformat_minor": 5
}
